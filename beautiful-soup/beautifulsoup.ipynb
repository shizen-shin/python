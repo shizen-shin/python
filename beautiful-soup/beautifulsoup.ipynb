{
 "nbformat": 4,
 "nbformat_minor": 2,
 "metadata": {
  "language_info": {
   "name": "python",
   "codemirror_mode": {
    "name": "ipython",
    "version": 3
   },
   "version": "3.8.1-final"
  },
  "orig_nbformat": 2,
  "file_extension": ".py",
  "mimetype": "text/x-python",
  "name": "python",
  "npconvert_exporter": "python",
  "pygments_lexer": "ipython3",
  "version": 3,
  "kernelspec": {
   "name": "python38164bitc01c87a0226c49e690200edb026cd073",
   "display_name": "Python 3.8.1 64-bit"
  }
 },
 "cells": [
  {
   "cell_type": "code",
   "execution_count": 1,
   "metadata": {},
   "outputs": [],
   "source": [
    "from bs4 import BeautifulSoup\n",
    "import requests"
   ]
  },
  {
   "cell_type": "code",
   "execution_count": 8,
   "metadata": {},
   "outputs": [
    {
     "data": {
      "text/plain": "<Response [200]>"
     },
     "execution_count": 8,
     "metadata": {},
     "output_type": "execute_result"
    }
   ],
   "source": [
    "url ='https://scraping-for-beginner.herokuapp.com/udemy'\n",
    "r = requests.get(url)\n",
    "r"
   ]
  },
  {
   "cell_type": "code",
   "execution_count": 9,
   "metadata": {},
   "outputs": [
    {
     "data": {
      "text/plain": "'<!DOCTYPE html>\\n<html lang=\"en\" dir=\"ltr\">\\n<head>\\n  <meta charset=\"utf-8\">\\n  <title>Webスクレイピング入門者のためのサイト</title>\\n  <!-- Compiled and minified CSS -->\\n  <link rel=\"stylesheet\" href=\"https://cdnjs.cloudflare.com/ajax/libs/materialize/1.0.0-rc.2/css/materialize.min.css\">\\n  <link href=\"https://fonts.googleapis.com/icon?family=Material+Icons\" rel=\"stylesheet\"> \\x08\\n  <link rel=\"stylesheet\" href=\"static/assets/css/style.css\">\\n  <link rel=\"stylesheet\" href=\"static/assets/css/udemy.css\">\\n  <!-- <link rel=\"stylesheet\" href=\"static/assets/css/mypage.css\"> -->\\n</head>\\n\\n<body>\\n  <!-- Navbar -->\\n  <div class=\"navbar-fixed\">\\n    <!-- Dropdown Structure -->\\n    <nav class=\"\">\\n      <div class=\"nav-wrapper row\">\\n        <div class=\"col s5 l4 offset-s1 offset-l1\">\\n          <a href=\"\\x08/\" class=\"brand-logo\">Webスクレイピング入門</a>\\n        </div>\\n        <div class=\"col s5 l6\">\\n          <ul id=\"nav-mobile\" class=\"right hide-on-med-and-down\">\\n            <li><a href=\"\\x08/login_page\" class=\"\">ログイン</a></li>\\n            <li><a href=\"/ranking/\" class=\"\">ランキング</a></li>\\n            <li><a href=\"/image\" class=\"\">画像</a></li>\\n            <li><a href=\"/udemy\" class=\"\">Udemy</a></li>\\n            <li><a href=\"https://scraping-for-beginner.readthedocs.io/\" target=”_blank” class=\"\">サンプルコード</a></li>\\n          </ul>\\n        </div>\\n      </div>\\n    </nav>\\n  </div>\\n\\n  \\n\\n<div class=\"row\">\\n  <div class=\"col s4 offset-s4\">\\n    <div class=\"overview\">\\n      <p>\\n      こちらのページは、<b>PythonによるWebスクレイピング〜Webアプリケーション編〜</b>で使用します。\\n      </p>\\n    </div>\\n    <div class=\"\">\\n      <div class=\"\">\\n        <div class=\"card\">\\n          <div class=\"card-image\">\\n            <img src=\"/static/assets/img/self-introduction.jpg\">\\n            <span class=\"card-title\">今西 航平</span>\\n          </div>\\n          <div class=\"card-content\">\\n            <p><b><p class=\"position\">株式会社キカガク 取締役副社長</p></b><br>\\n\\n              東京理科大学在学中に株式会社キカガクに1人目の正社員としてジョイン。大学時代4年間、塾講師として「教育」に熱中し、300名以上の中高生の授業を担当。<br>\\n\\n            </p>\\n          </div>\\n          <div class=\"card-action\">\\n              <p class=\"subscribers\">受講生の数：6353</p>\\n              <p class=\"reviews\">レビューの数：832</p>\\n          </div>\\n        </div>\\n      </div>\\n    </div>\\n\\n  </div>\\n</div>\\n\\n\\n  <!-- Compiled and minified JavaScript -->\\n  <script src=\"https://code.jquery.com/jquery-3.3.1.min.js\"></script>\\n  <script src=\"https://cdnjs.cloudflare.com/ajax/libs/materialize/1.0.0-rc.2/js/materialize.min.js\"></script>\\n  <script type=\"text/javascript\">\\n    $(document).ready(function() {\\n      $(\".dropdown-trigger\").dropdown();\\n    });\\n  </script>\\n\\n\\n</body>\\n\\n</html>'"
     },
     "execution_count": 9,
     "metadata": {},
     "output_type": "execute_result"
    }
   ],
   "source": [
    "r.text"
   ]
  },
  {
   "cell_type": "code",
   "execution_count": 13,
   "metadata": {},
   "outputs": [
    {
     "data": {
      "text/plain": "<!DOCTYPE html>\n\n<html dir=\"ltr\" lang=\"en\">\n<head>\n<meta charset=\"utf-8\"/>\n<title>Webスクレイピング入門者のためのサイト</title>\n<!-- Compiled and minified CSS -->\n<link href=\"https://cdnjs.cloudflare.com/ajax/libs/materialize/1.0.0-rc.2/css/materialize.min.css\" rel=\"stylesheet\"/>\n<link href=\"https://fonts.googleapis.com/icon?family=Material+Icons\" rel=\"stylesheet\"/> \b\n  <link href=\"static/assets/css/style.css\" rel=\"stylesheet\"/>\n<link href=\"static/assets/css/udemy.css\" rel=\"stylesheet\"/>\n<!-- <link rel=\"stylesheet\" href=\"static/assets/css/mypage.css\"> -->\n</head>\n<body>\n<!-- Navbar -->\n<div class=\"navbar-fixed\">\n<!-- Dropdown Structure -->\n<nav class=\"\">\n<div class=\"nav-wrapper row\">\n<div class=\"col s5 l4 offset-s1 offset-l1\">\n<a class=\"brand-logo\" href=\"\b/\">Webスクレイピング入門</a>\n</div>\n<div class=\"col s5 l6\">\n<ul class=\"right hide-on-med-and-down\" id=\"nav-mobile\">\n<li><a class=\"\" href=\"\b/login_page\">ログイン</a></li>\n<li><a class=\"\" href=\"/ranking/\">ランキング</a></li>\n<li><a class=\"\" href=\"/image\">画像</a></li>\n<li><a class=\"\" href=\"/udemy\">Udemy</a></li>\n<li><a class=\"\" href=\"https://scraping-for-beginner.readthedocs.io/\" target=\"”_blank”\">サンプルコード</a></li>\n</ul>\n</div>\n</div>\n</nav>\n</div>\n<div class=\"row\">\n<div class=\"col s4 offset-s4\">\n<div class=\"overview\">\n<p>\n      こちらのページは、<b>PythonによるWebスクレイピング〜Webアプリケーション編〜</b>で使用します。\n      </p>\n</div>\n<div class=\"\">\n<div class=\"\">\n<div class=\"card\">\n<div class=\"card-image\">\n<img src=\"/static/assets/img/self-introduction.jpg\"/>\n<span class=\"card-title\">今西 航平</span>\n</div>\n<div class=\"card-content\">\n<p><b><p class=\"position\">株式会社キカガク 取締役副社長</p></b><br/>\n\n              東京理科大学在学中に株式会社キカガクに1人目の正社員としてジョイン。大学時代4年間、塾講師として「教育」に熱中し、300名以上の中高生の授業を担当。<br/>\n</p>\n</div>\n<div class=\"card-action\">\n<p class=\"subscribers\">受講生の数：6353</p>\n<p class=\"reviews\">レビューの数：832</p>\n</div>\n</div>\n</div>\n</div>\n</div>\n</div>\n<!-- Compiled and minified JavaScript -->\n<script src=\"https://code.jquery.com/jquery-3.3.1.min.js\"></script>\n<script src=\"https://cdnjs.cloudflare.com/ajax/libs/materialize/1.0.0-rc.2/js/materialize.min.js\"></script>\n<script type=\"text/javascript\">\n    $(document).ready(function() {\n      $(\".dropdown-trigger\").dropdown();\n    });\n  </script>\n</body>\n</html>"
     },
     "execution_count": 13,
     "metadata": {},
     "output_type": "execute_result"
    }
   ],
   "source": [
    "soup = BeautifulSoup(r.text, 'html.parser')\n",
    "soup"
   ]
  },
  {
   "cell_type": "code",
   "execution_count": 16,
   "metadata": {},
   "outputs": [
    {
     "data": {
      "text/plain": "[<span class=\"card-title\">今西 航平</span>]"
     },
     "execution_count": 16,
     "metadata": {},
     "output_type": "execute_result"
    }
   ],
   "source": [
    "soup.select('.card-title')"
   ]
  },
  {
   "cell_type": "code",
   "execution_count": 17,
   "metadata": {},
   "outputs": [
    {
     "data": {
      "text/plain": "<span class=\"card-title\">今西 航平</span>"
     },
     "execution_count": 17,
     "metadata": {},
     "output_type": "execute_result"
    }
   ],
   "source": [
    "soup.select('.card-title')[0]"
   ]
  },
  {
   "cell_type": "code",
   "execution_count": 21,
   "metadata": {},
   "outputs": [
    {
     "data": {
      "text/plain": "'今西 航平'"
     },
     "execution_count": 21,
     "metadata": {},
     "output_type": "execute_result"
    }
   ],
   "source": [
    "soup.select('.card-title')[0].string"
   ]
  },
  {
   "source": [
    "name = soup.select('.card-title')[0].text"
   ],
   "cell_type": "code",
   "outputs": [],
   "metadata": {},
   "execution_count": 36
  },
  {
   "cell_type": "code",
   "execution_count": 26,
   "metadata": {},
   "outputs": [
    {
     "data": {
      "text/plain": "['受講生の数：6353', 'レビューの数：832']"
     },
     "execution_count": 26,
     "metadata": {},
     "output_type": "execute_result"
    }
   ],
   "source": [
    "subsc = soup.select('.subscribers')[0].text\n",
    "review = soup.select('.reviews')[0].text\n",
    "\n",
    "[subsc,review]"
   ]
  },
  {
   "cell_type": "code",
   "execution_count": 32,
   "metadata": {},
   "outputs": [
    {
     "data": {
      "text/plain": "'6353'"
     },
     "execution_count": 32,
     "metadata": {},
     "output_type": "execute_result"
    }
   ],
   "source": [
    "subsc.split(\"：\")[1]"
   ]
  },
  {
   "source": [
    "n_subsc = int(subsc.split(\"：\")[1])\n",
    "n_subsc"
   ],
   "cell_type": "code",
   "outputs": [
    {
     "output_type": "execute_result",
     "data": {
      "text/plain": "6353"
     },
     "metadata": {},
     "execution_count": 37
    }
   ],
   "metadata": {},
   "execution_count": 37
  },
  {
   "source": [
    "n_review = int(review.split(\"：\")[1])\n",
    "n_review"
   ],
   "cell_type": "code",
   "outputs": [
    {
     "output_type": "execute_result",
     "data": {
      "text/plain": "832"
     },
     "metadata": {},
     "execution_count": 38
    }
   ],
   "metadata": {},
   "execution_count": 38
  },
  {
   "source": [
    "soupResult={\n",
    "    'name':name,\n",
    "    'subscribers':n_subsc,\n",
    "    'reviews':n_review,\n",
    "}\n",
    "\n",
    "soupResult"
   ],
   "cell_type": "code",
   "outputs": [
    {
     "output_type": "execute_result",
     "data": {
      "text/plain": "{'name': '今西 航平', 'subscribers': 6353, 'reviews': 832}"
     },
     "metadata": {},
     "execution_count": 40
    }
   ],
   "metadata": {},
   "execution_count": 40
  },
  {
   "source": [
    "import pandas as pd\n",
    "df = pd.read_csv('test-daily-data.csv')\n",
    "df.head()"
   ],
   "cell_type": "code",
   "outputs": [
    {
     "output_type": "execute_result",
     "data": {
      "text/plain": "        date  subscribers  reviews\n0  2019/1/17         2671      194\n1  2019/1/18         2671      195\n2  2019/1/19         2674      197\n3  2019/1/20         2685      199\n4  2019/1/21         2695      199",
      "text/html": "<div>\n<style scoped>\n    .dataframe tbody tr th:only-of-type {\n        vertical-align: middle;\n    }\n\n    .dataframe tbody tr th {\n        vertical-align: top;\n    }\n\n    .dataframe thead th {\n        text-align: right;\n    }\n</style>\n<table border=\"1\" class=\"dataframe\">\n  <thead>\n    <tr style=\"text-align: right;\">\n      <th></th>\n      <th>date</th>\n      <th>subscribers</th>\n      <th>reviews</th>\n    </tr>\n  </thead>\n  <tbody>\n    <tr>\n      <th>0</th>\n      <td>2019/1/17</td>\n      <td>2671</td>\n      <td>194</td>\n    </tr>\n    <tr>\n      <th>1</th>\n      <td>2019/1/18</td>\n      <td>2671</td>\n      <td>195</td>\n    </tr>\n    <tr>\n      <th>2</th>\n      <td>2019/1/19</td>\n      <td>2674</td>\n      <td>197</td>\n    </tr>\n    <tr>\n      <th>3</th>\n      <td>2019/1/20</td>\n      <td>2685</td>\n      <td>199</td>\n    </tr>\n    <tr>\n      <th>4</th>\n      <td>2019/1/21</td>\n      <td>2695</td>\n      <td>199</td>\n    </tr>\n  </tbody>\n</table>\n</div>"
     },
     "metadata": {},
     "execution_count": 46
    }
   ],
   "metadata": {},
   "execution_count": 46
  },
  {
   "source": [
    "df['reviews'].head()"
   ],
   "cell_type": "code",
   "outputs": [
    {
     "output_type": "execute_result",
     "data": {
      "text/plain": "0    194\n1    195\n2    197\n3    199\n4    199\nName: reviews, dtype: int64"
     },
     "metadata": {},
     "execution_count": 45
    }
   ],
   "metadata": {},
   "execution_count": 45
  },
  {
   "source": [
    "import datetime\n",
    "datetime.datetime.today()"
   ],
   "cell_type": "code",
   "outputs": [
    {
     "output_type": "execute_result",
     "data": {
      "text/plain": "datetime.datetime(2020, 2, 7, 14, 16, 43, 760386)"
     },
     "metadata": {},
     "execution_count": 48
    }
   ],
   "metadata": {},
   "execution_count": 48
  },
  {
   "source": [
    "date = datetime.datetime.today().strftime('%Y/%m/%d').replace('/0','/')\n",
    "date"
   ],
   "cell_type": "code",
   "outputs": [
    {
     "output_type": "execute_result",
     "data": {
      "text/plain": "'2020/2/7'"
     },
     "metadata": {},
     "execution_count": 52
    }
   ],
   "metadata": {},
   "execution_count": 52
  },
  {
   "source": [
    "datetime.datetime.today().strftime('%Y/%m/%d')"
   ],
   "cell_type": "code",
   "outputs": [
    {
     "output_type": "execute_result",
     "data": {
      "text/plain": "'2020/02/07'"
     },
     "metadata": {},
     "execution_count": 50
    }
   ],
   "metadata": {},
   "execution_count": 50
  },
  {
   "source": [
    "results = pd.DataFrame([[date,n_subsc,n_review]],columns=['date','subscribers','reviews'])\n",
    "results"
   ],
   "cell_type": "code",
   "outputs": [
    {
     "output_type": "execute_result",
     "data": {
      "text/plain": "       date  subscribers  reviews\n0  2020/2/7         6353      832",
      "text/html": "<div>\n<style scoped>\n    .dataframe tbody tr th:only-of-type {\n        vertical-align: middle;\n    }\n\n    .dataframe tbody tr th {\n        vertical-align: top;\n    }\n\n    .dataframe thead th {\n        text-align: right;\n    }\n</style>\n<table border=\"1\" class=\"dataframe\">\n  <thead>\n    <tr style=\"text-align: right;\">\n      <th></th>\n      <th>date</th>\n      <th>subscribers</th>\n      <th>reviews</th>\n    </tr>\n  </thead>\n  <tbody>\n    <tr>\n      <th>0</th>\n      <td>2020/2/7</td>\n      <td>6353</td>\n      <td>832</td>\n    </tr>\n  </tbody>\n</table>\n</div>"
     },
     "metadata": {},
     "execution_count": 56
    }
   ],
   "metadata": {},
   "execution_count": 56
  },
  {
   "source": [
    "df = pd.concat([df,results])\n",
    "df.tail()"
   ],
   "cell_type": "code",
   "outputs": [
    {
     "output_type": "execute_result",
     "data": {
      "text/plain": "          date  subscribers  reviews\n362  2020/1/15         6193      792\n363  2020/1/15         6192      791\n0     2020/2/7         6353      832\n0     2020/2/7         6353      832\n0     2020/2/7         6353      832",
      "text/html": "<div>\n<style scoped>\n    .dataframe tbody tr th:only-of-type {\n        vertical-align: middle;\n    }\n\n    .dataframe tbody tr th {\n        vertical-align: top;\n    }\n\n    .dataframe thead th {\n        text-align: right;\n    }\n</style>\n<table border=\"1\" class=\"dataframe\">\n  <thead>\n    <tr style=\"text-align: right;\">\n      <th></th>\n      <th>date</th>\n      <th>subscribers</th>\n      <th>reviews</th>\n    </tr>\n  </thead>\n  <tbody>\n    <tr>\n      <th>362</th>\n      <td>2020/1/15</td>\n      <td>6193</td>\n      <td>792</td>\n    </tr>\n    <tr>\n      <th>363</th>\n      <td>2020/1/15</td>\n      <td>6192</td>\n      <td>791</td>\n    </tr>\n    <tr>\n      <th>0</th>\n      <td>2020/2/7</td>\n      <td>6353</td>\n      <td>832</td>\n    </tr>\n    <tr>\n      <th>0</th>\n      <td>2020/2/7</td>\n      <td>6353</td>\n      <td>832</td>\n    </tr>\n    <tr>\n      <th>0</th>\n      <td>2020/2/7</td>\n      <td>6353</td>\n      <td>832</td>\n    </tr>\n  </tbody>\n</table>\n</div>"
     },
     "metadata": {},
     "execution_count": 60
    }
   ],
   "metadata": {},
   "execution_count": 60
  },
  {
   "source": [
    "df.to_csv(\"test-daily-data.csv\",index = False,encoding = \"utf_8_sig\")"
   ],
   "cell_type": "code",
   "outputs": [],
   "metadata": {},
   "execution_count": 61
  },
  {
   "source": [
    "date = datetime.datetime.today().strftime('%Y/%m/%d').replace('/0','/')\n",
    "date"
   ],
   "cell_type": "code",
   "outputs": [
    {
     "output_type": "execute_result",
     "data": {
      "text/plain": "'2020/2/7'"
     },
     "metadata": {},
     "execution_count": 62
    }
   ],
   "metadata": {},
   "execution_count": 62
  },
  {
   "source": [
    "year = datetime.datetime.today().strftime('%Y')\n",
    "month = datetime.datetime.today().strftime('%m')\n",
    "day = datetime.datetime.today().strftime('%d')\n",
    "\n",
    "date = year+month+day\n",
    "date"
   ],
   "cell_type": "code",
   "outputs": [
    {
     "output_type": "execute_result",
     "data": {
      "text/plain": "'20200207'"
     },
     "metadata": {},
     "execution_count": 69
    }
   ],
   "metadata": {},
   "execution_count": 69
  },
  {
   "source": [
    "df.to_csv(\"test-daily-data-{}.csv\".format(date),index = False,encoding = \"utf_8_sig\")"
   ],
   "cell_type": "code",
   "outputs": [],
   "metadata": {},
   "execution_count": 70
  },
  {
   "source": [
    "def get_info():\n",
    "    url ='https://scraping-for-beginner.herokuapp.com/udemy'\n",
    "    r = requests.get(url)\n",
    "    soup = BeautifulSoup(r.text, 'html.parser')\n",
    "\n",
    "    subsc = soup.select('.subscribers')[0].string\n",
    "    review = soup.select('.reviews')[0].string\n",
    "\n",
    "    n_subsc = int(subsc.split('：')[1])\n",
    "    n_review = int(review.split('：')[1])\n",
    "\n",
    "get_info()"
   ],
   "cell_type": "code",
   "outputs": [
    {
     "output_type": "execute_result",
     "data": {
      "text/plain": "6353"
     },
     "metadata": {},
     "execution_count": 76
    }
   ],
   "metadata": {},
   "execution_count": 76
  },
  {
   "source": [
    "def update_csv():\n",
    "    import pandas as pd\n",
    "    df = pd.read_csv('output/test-daily-data.csv')\n",
    "\n",
    "    import datetime\n",
    "    date = datetime.datetime.today().strftime('%Y/%m/%d').replace('/0','/')\n",
    "\n",
    "    results = pd.DataFrame([[date,n_subsc,n_review]],columns=['date','subscribers','reviews'])\n",
    "    df = pd.concat([df,results])\n",
    "\n",
    "    year = datetime.datetime.today().strftime('%y')\n",
    "    month = datetime.datetime.today().strftime('%m')\n",
    "    day = datetime.datetime.today().strftime('%d')\n",
    "    hour = datetime.datetime.today().strftime('%H')\n",
    "    minute = datetime.datetime.today().strftime('%M')\n",
    "    second = datetime.datetime.today().strftime('%S')\n",
    "    datesec = year + month + day + hour + minute + second \n",
    "    \n",
    "    df.to_csv('output/test-daily-data-{}.csv'.format(datesec), index = False, encoding = \"utf_8_sig\")\n",
    "\n",
    "update_csv() "
   ],
   "cell_type": "code",
   "outputs": [],
   "metadata": {},
   "execution_count": 99
  },
  {
   "source": [
    "datesec"
   ],
   "cell_type": "code",
   "outputs": [
    {
     "output_type": "error",
     "ename": "NameError",
     "evalue": "name 'datesec' is not defined",
     "traceback": [
      "\u001b[1;31m---------------------------------------------------------------------------\u001b[0m",
      "\u001b[1;31mNameError\u001b[0m                                 Traceback (most recent call last)",
      "\u001b[1;32m<ipython-input-98-597bc0fc5aae>\u001b[0m in \u001b[0;36m<module>\u001b[1;34m\u001b[0m\n\u001b[1;32m----> 1\u001b[1;33m \u001b[0mdatesec\u001b[0m\u001b[1;33m\u001b[0m\u001b[1;33m\u001b[0m\u001b[0m\n\u001b[0m",
      "\u001b[1;31mNameError\u001b[0m: name 'datesec' is not defined"
     ]
    }
   ],
   "metadata": {},
   "execution_count": 98
  },
  {
   "source": [
    "datetime.datetime.now()"
   ],
   "cell_type": "code",
   "outputs": [
    {
     "output_type": "execute_result",
     "data": {
      "text/plain": "datetime.datetime(2020, 2, 7, 15, 12, 47, 532790)"
     },
     "metadata": {},
     "execution_count": 92
    }
   ],
   "metadata": {},
   "execution_count": 92
  },
  {
   "source": [
    "datetime.datetime.today().strftime('%H:%M:%S')"
   ],
   "cell_type": "code",
   "outputs": [
    {
     "output_type": "execute_result",
     "data": {
      "text/plain": "'15:14:01'"
     },
     "metadata": {},
     "execution_count": 94
    }
   ],
   "metadata": {},
   "execution_count": 94
  },
  {
   "source": [
    "from bs4 import BeautifulSoup\n",
    "import requests\n",
    "\n",
    "import pandas as pd\n",
    "import datetime\n",
    "\t\n",
    "def get_info():\t\n",
    "\turl ='https://scraping-for-beginner.herokuapp.com/udemy'\n",
    "\tr = requests.get(url)\n",
    "\tsoup = BeautifulSoup(r.text, 'html.parser')\n",
    "\t\n",
    "\tsubsc = soup.select('.subscribers')[0].string\n",
    "\treview = soup.select('.reviews')[0].string\n",
    "\t\n",
    "\tn_subsc = int(subsc.split('：')[1])\n",
    "\tn_review = int(review.split('：')[1])\n",
    "\n",
    "get_info()\t\n",
    "\t\t\n",
    "def update_csv():\t\n",
    "\tdf = pd.read_csv('output/test-daily-data.csv')\n",
    "\t\n",
    "\tdate = datetime.datetime.today().strftime('%Y/%m/%d').replace('/0','/')\n",
    "\t\n",
    "\tresults = pd.DataFrame([[date,n_subsc,n_review]],columns=['date','subscribers','reviews'])\n",
    "\tdf = pd.concat([df,results])\n",
    "\t\n",
    "\tyear = datetime.datetime.today().strftime('%y')\n",
    "\tmonth = datetime.datetime.today().strftime('%m')\n",
    "\tday = datetime.datetime.today().strftime('%d')\n",
    "\thour = datetime.datetime.today().strftime('%H')\n",
    "\tminute = datetime.datetime.today().strftime('%M')\n",
    "\tsecond = datetime.datetime.today().strftime('%S')\n",
    "\tdatesec = year + month + day + hour + minute + second\n",
    "\t\n",
    "\tdf.to_csv('output/test-daily-data-{}.csv'.format(datesec), index = False, encoding = \"utf_8_sig\")\n",
    "\n",
    "update_csv()"
   ],
   "cell_type": "code",
   "outputs": [],
   "metadata": {},
   "execution_count": 100
  }
 ]
}