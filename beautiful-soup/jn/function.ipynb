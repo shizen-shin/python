{
 "cells": [
  {
   "cell_type": "code",
   "execution_count": 11,
   "metadata": {},
   "outputs": [
    {
     "data": {
      "text/plain": [
       "6353"
      ]
     },
     "execution_count": 11,
     "metadata": {},
     "output_type": "execute_result"
    }
   ],
   "source": [
    "from bs4 import BeautifulSoup\n",
    "import requests\n",
    "\n",
    "import pandas as pd\n",
    "import datetime\n",
    "\n",
    "n_subsc = ''\n",
    "n_review = ''\n",
    "\n",
    "def get_info():\n",
    "    url ='https://scraping-for-beginner.herokuapp.com/udemy'\n",
    "    r = requests.get(url)\n",
    "    soup = BeautifulSoup(r.text, 'html.parser')\n",
    "\n",
    "\n",
    "    subsc = soup.select('.subscribers')[0].string\n",
    "    review = soup.select('.reviews')[0].string\n",
    "\n",
    "    n_subsc = int(subsc.split('：')[1])\n",
    "    n_review = int(review.split('：')[1])\n",
    "\n",
    "    return n_subsc\n",
    "\n",
    "get_info()"
   ]
  },
  {
   "cell_type": "code",
   "execution_count": 12,
   "metadata": {},
   "outputs": [],
   "source": [
    "def update_csv():\t\n",
    "\tdf = pd.read_csv('../output/test-daily-data.csv')\n",
    "\t\n",
    "\tdate = datetime.datetime.today().strftime('%Y/%m/%d').replace('/0','/')\n",
    "\t\n",
    "\tresults = pd.DataFrame([[date,n_subsc,n_review]],columns=['date','subscribers','reviews'])\n",
    "\tdf = pd.concat([df,results])\n",
    "\t\n",
    "\tyear = datetime.datetime.today().strftime('%y')\n",
    "\tmonth = datetime.datetime.today().strftime('%m')\n",
    "\tday = datetime.datetime.today().strftime('%d')\n",
    "\thour = datetime.datetime.today().strftime('%H')\n",
    "\tminute = datetime.datetime.today().strftime('%M')\n",
    "\tsecond = datetime.datetime.today().strftime('%S')\n",
    "\tdatesec = year + month + day + hour + minute + second\n",
    "\t\n",
    "\tdf.to_csv('../output/test-daily-data-{}.csv'.format(datesec), index = False, encoding = \"utf_8_sig\")\n",
    "\n",
    "\n",
    "update_csv()"
   ]
  },
  {
   "cell_type": "code",
   "execution_count": null,
   "metadata": {},
   "outputs": [],
   "source": []
  }
 ],
 "metadata": {
  "kernelspec": {
   "display_name": "Python 3",
   "language": "python",
   "name": "python3"
  },
  "language_info": {
   "codemirror_mode": {
    "name": "ipython",
    "version": 3
   },
   "file_extension": ".py",
   "mimetype": "text/x-python",
   "name": "python",
   "nbconvert_exporter": "python",
   "pygments_lexer": "ipython3",
   "version": "3.7.2"
  }
 },
 "nbformat": 4,
 "nbformat_minor": 4
}
