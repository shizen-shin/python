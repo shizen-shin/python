{
 "nbformat": 4,
 "nbformat_minor": 2,
 "metadata": {
  "language_info": {
   "name": "python",
   "codemirror_mode": {
    "name": "ipython",
    "version": 3
   },
   "version": "3.8.1-final"
  },
  "orig_nbformat": 2,
  "file_extension": ".py",
  "mimetype": "text/x-python",
  "name": "python",
  "npconvert_exporter": "python",
  "pygments_lexer": "ipython3",
  "version": 3,
  "kernelspec": {
   "name": "python38164bitc01c87a0226c49e690200edb026cd073",
   "display_name": "Python 3.8.1 64-bit"
  }
 },
 "cells": [
  {
   "cell_type": "code",
   "execution_count": 70,
   "metadata": {},
   "outputs": [],
   "source": [
    "#取得日数の指定(先に選択されている想定))\n",
    "from selenium import webdriver\n",
    "browser = webdriver.Chrome('chromedriver.exe')\n",
    "\n",
    "url = 'https://stock-price-app-miyasaka.herokuapp.com/'\n",
    "browser.get(url)"
   ]
  },
  {
   "cell_type": "code",
   "execution_count": 89,
   "metadata": {},
   "outputs": [
    {
     "data": {
      "text/plain": "'180(約6ヶ月分)'"
     },
     "execution_count": 89,
     "metadata": {},
     "output_type": "execute_result"
    }
   ],
   "source": [
    "#指定された日付を取得（addeventlistnerは組めないっぽい）\n",
    "selectDays = browser.find_element_by_class_name('Select-value')\n",
    "selectDays = selectDays.text\n",
    "selectDays"
   ]
  },
  {
   "cell_type": "code",
   "execution_count": 90,
   "metadata": {},
   "outputs": [
    {
     "data": {
      "text/plain": "180"
     },
     "execution_count": 90,
     "metadata": {},
     "output_type": "execute_result"
    }
   ],
   "source": [
    "if selectDays == '20(約20日分)':\n",
    "    selectDay = 20\n",
    "elif selectDays == '60(約2ヶ月分)':\n",
    "    selectDay = 60\n",
    "elif selectDays == '180(約6ヶ月分)':\n",
    "    selectDay = 180\n",
    "elif selectDays == '400(約1年分)':\n",
    "    selectDay = 400\n",
    "elif selectDays == '800(約2年分)':\n",
    "    selectDay = 800\n",
    "elif selectDays == '1200(約3年分)':\n",
    "    selectDay = 1200\n",
    "else:\n",
    "    print('error')   \n",
    "selectDay"
   ]
  },
  {
   "cell_type": "code",
   "execution_count": 91,
   "metadata": {},
   "outputs": [
    {
     "data": {
      "text/plain": "8"
     },
     "execution_count": 91,
     "metadata": {},
     "output_type": "execute_result"
    }
   ],
   "source": [
    "import math\n",
    "i = math.ceil(selectDay/20)-1"
   ]
  },
  {
   "cell_type": "code",
   "execution_count": 92,
   "metadata": {},
   "outputs": [],
   "source": [
    "url2 = 'https://minkabu.jp/stock/100000018/daily_bar'\n",
    "browser.get(url2)"
   ]
  },
  {
   "cell_type": "code",
   "execution_count": 93,
   "metadata": {},
   "outputs": [],
   "source": [
    "#自動更新を止める\n",
    "btn = browser.find_element_by_xpath('//*[@id=\"h_top\"]/ul/li[1]')\n",
    "stop = btn.click()"
   ]
  },
  {
   "cell_type": "code",
   "execution_count": 94,
   "metadata": {},
   "outputs": [],
   "source": [
    "#さらに表示ボタンを押す 繰り返し処理\n",
    "#クリックを押すのが早すぎて要素が見つかっていない -> time.sleep(秒)：指定時間待機\n",
    "import time\n",
    "for _ in range(i):\n",
    "    more = browser.find_element_by_class_name('moreContent,tac,mt10')\n",
    "    more.click()\n",
    "    time.sleep(0.5)"
   ]
  },
  {
   "source": [
    "#要素抽出\n",
    "elems = browser.find_element_by_id('fourvalue_timeline')\n",
    "elems = elems.find_elements_by_tag_name('tr')"
   ],
   "cell_type": "code",
   "outputs": [],
   "metadata": {},
   "execution_count": 95
  },
  {
   "source": [
    "elems[1].text"
   ],
   "cell_type": "code",
   "outputs": [
    {
     "output_type": "execute_result",
     "data": {
      "text/plain": "'2020/02/10 23,631.79 23,788.25 23,621.72 23,685.98 23,685.98'"
     },
     "metadata": {},
     "execution_count": 97
    }
   ],
   "metadata": {},
   "execution_count": 97
  },
  {
   "source": [
    "dates = []\n",
    "starts = []\n",
    "highs = []\n",
    "lows = []\n",
    "ends = []\n",
    "adjusteds = []\n",
    "\n",
    "def extract():\n",
    "    for elem in elems[1:]:      #list[start:end]\n",
    "        data = elem.text.split(\" \")\n",
    "        \n",
    "        date = data[0]\n",
    "        start = data[1]\n",
    "        high = data[2]\n",
    "        low = data[3]\n",
    "        end = data[4]\n",
    "        adjusted = data[5]\n",
    "\n",
    "        dates.append(date)\n",
    "        starts.append(start)\n",
    "        highs.append(high)\n",
    "        lows.append(low)\n",
    "        ends.append(end)\n",
    "        adjusteds.append(adjusted)\n",
    ""
   ],
   "cell_type": "code",
   "outputs": [],
   "metadata": {},
   "execution_count": 98
  },
  {
   "source": [
    "extract()"
   ],
   "cell_type": "code",
   "outputs": [],
   "metadata": {},
   "execution_count": 99
  },
  {
   "source": [
    "#表にする\n",
    "import pandas as pd\n",
    "df = pd.DataFrame()"
   ],
   "cell_type": "code",
   "outputs": [],
   "metadata": {},
   "execution_count": 100
  },
  {
   "source": [
    "df['date']=dates\n",
    "df['start']=starts\n",
    "df['high']=highs\n",
    "df['low']=lows\n",
    "df['end']=ends\n",
    "df['adjusted']=adjusteds"
   ],
   "cell_type": "code",
   "outputs": [],
   "metadata": {},
   "execution_count": 101
  },
  {
   "source": [
    "df.tail()"
   ],
   "cell_type": "code",
   "outputs": [
    {
     "output_type": "execute_result",
     "data": {
      "text/plain": "           date      start       high        low        end   adjusted\n175  2019/05/23  21,180.24  21,209.56  21,072.72  21,151.14  21,151.14\n176  2019/05/22  21,373.52  21,404.54  21,266.98  21,283.37  21,283.37\n177  2019/05/21  21,211.26  21,318.80  21,160.43  21,272.45  21,272.45\n178  2019/05/20  21,305.97  21,430.06  21,282.65  21,301.73  21,301.73\n179  2019/05/17  21,246.86  21,398.85  21,199.98  21,250.09  21,250.09",
      "text/html": "<div>\n<style scoped>\n    .dataframe tbody tr th:only-of-type {\n        vertical-align: middle;\n    }\n\n    .dataframe tbody tr th {\n        vertical-align: top;\n    }\n\n    .dataframe thead th {\n        text-align: right;\n    }\n</style>\n<table border=\"1\" class=\"dataframe\">\n  <thead>\n    <tr style=\"text-align: right;\">\n      <th></th>\n      <th>date</th>\n      <th>start</th>\n      <th>high</th>\n      <th>low</th>\n      <th>end</th>\n      <th>adjusted</th>\n    </tr>\n  </thead>\n  <tbody>\n    <tr>\n      <th>175</th>\n      <td>2019/05/23</td>\n      <td>21,180.24</td>\n      <td>21,209.56</td>\n      <td>21,072.72</td>\n      <td>21,151.14</td>\n      <td>21,151.14</td>\n    </tr>\n    <tr>\n      <th>176</th>\n      <td>2019/05/22</td>\n      <td>21,373.52</td>\n      <td>21,404.54</td>\n      <td>21,266.98</td>\n      <td>21,283.37</td>\n      <td>21,283.37</td>\n    </tr>\n    <tr>\n      <th>177</th>\n      <td>2019/05/21</td>\n      <td>21,211.26</td>\n      <td>21,318.80</td>\n      <td>21,160.43</td>\n      <td>21,272.45</td>\n      <td>21,272.45</td>\n    </tr>\n    <tr>\n      <th>178</th>\n      <td>2019/05/20</td>\n      <td>21,305.97</td>\n      <td>21,430.06</td>\n      <td>21,282.65</td>\n      <td>21,301.73</td>\n      <td>21,301.73</td>\n    </tr>\n    <tr>\n      <th>179</th>\n      <td>2019/05/17</td>\n      <td>21,246.86</td>\n      <td>21,398.85</td>\n      <td>21,199.98</td>\n      <td>21,250.09</td>\n      <td>21,250.09</td>\n    </tr>\n  </tbody>\n</table>\n</div>"
     },
     "metadata": {},
     "execution_count": 103
    }
   ],
   "metadata": {},
   "execution_count": 103
  },
  {
   "source": [
    "df.to_csv(\"~/Downloads/japanese-stock-price.csv\",index = False,encoding = \"utf_8_sig\")"
   ],
   "cell_type": "code",
   "outputs": [],
   "metadata": {},
   "execution_count": 104
  },
  {
   "cell_type": "code",
   "execution_count": null,
   "metadata": {},
   "outputs": [],
   "source": []
  },
  {
   "cell_type": "code",
   "execution_count": null,
   "metadata": {},
   "outputs": [],
   "source": []
  },
  {
   "cell_type": "code",
   "execution_count": null,
   "metadata": {},
   "outputs": [],
   "source": []
  }
 ]
}