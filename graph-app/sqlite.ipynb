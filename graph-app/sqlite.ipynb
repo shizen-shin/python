{
 "cells": [
  {
   "cell_type": "code",
   "execution_count": 21,
   "metadata": {},
   "outputs": [],
   "source": [
    "from assets.database import db_session\n",
    "from assets.database import init_db\n",
    "from assets.models import Data\n",
    "\n",
    "import datetime"
   ]
  },
  {
   "cell_type": "code",
   "execution_count": 22,
   "metadata": {},
   "outputs": [
    {
     "name": "stdout",
     "output_type": "stream",
     "text": "2020-02-08 07:26:38,035 INFO sqlalchemy.engine.base.Engine SELECT CAST('test plain returns' AS VARCHAR(60)) AS anon_1\n2020-02-08 07:26:38,037 INFO sqlalchemy.engine.base.Engine ()\n2020-02-08 07:26:38,041 INFO sqlalchemy.engine.base.Engine SELECT CAST('test unicode returns' AS VARCHAR(60)) AS anon_1\n2020-02-08 07:26:38,042 INFO sqlalchemy.engine.base.Engine ()\n2020-02-08 07:26:38,044 INFO sqlalchemy.engine.base.Engine PRAGMA main.table_info(\"data\")\n2020-02-08 07:26:38,045 INFO sqlalchemy.engine.base.Engine ()\n2020-02-08 07:26:38,048 INFO sqlalchemy.engine.base.Engine PRAGMA temp.table_info(\"data\")\n2020-02-08 07:26:38,050 INFO sqlalchemy.engine.base.Engine ()\n2020-02-08 07:26:38,056 INFO sqlalchemy.engine.base.Engine \nCREATE TABLE data (\n\tid INTEGER NOT NULL, \n\tdate DATE, \n\tsubscribers INTEGER, \n\treviews INTEGER, \n\ttimestamp DATETIME, \n\tPRIMARY KEY (id)\n)\n\n\n2020-02-08 07:26:38,058 INFO sqlalchemy.engine.base.Engine ()\n2020-02-08 07:26:38,077 INFO sqlalchemy.engine.base.Engine COMMIT\n"
    }
   ],
   "source": [
    "init_db()"
   ]
  },
  {
   "cell_type": "code",
   "execution_count": null,
   "metadata": {},
   "outputs": [],
   "source": [
    "#新しいデータの生成　Create"
   ]
  },
  {
   "cell_type": "code",
   "execution_count": 24,
   "metadata": {},
   "outputs": [
    {
     "data": {
      "text/plain": "datetime.date(2020, 2, 8)"
     },
     "execution_count": 24,
     "metadata": {},
     "output_type": "execute_result"
    }
   ],
   "source": [
    "#日付の取得\n",
    "date =datetime.date.today()\n",
    "date"
   ]
  },
  {
   "cell_type": "code",
   "execution_count": 26,
   "metadata": {},
   "outputs": [],
   "source": [
    "row = Data(date=date, subscribers=3500, reviews=200)"
   ]
  },
  {
   "cell_type": "code",
   "execution_count": 27,
   "metadata": {},
   "outputs": [
    {
     "data": {
      "text/plain": "<assets.models.Data at 0x2398e2001c0>"
     },
     "execution_count": 27,
     "metadata": {},
     "output_type": "execute_result"
    }
   ],
   "source": [
    "row"
   ]
  },
  {
   "cell_type": "code",
   "execution_count": 28,
   "metadata": {},
   "outputs": [
    {
     "data": {
      "text/plain": "datetime.date(2020, 2, 8)"
     },
     "execution_count": 28,
     "metadata": {},
     "output_type": "execute_result"
    }
   ],
   "source": [
    "row.date"
   ]
  },
  {
   "cell_type": "code",
   "execution_count": 29,
   "metadata": {},
   "outputs": [
    {
     "data": {
      "text/plain": "3500"
     },
     "execution_count": 29,
     "metadata": {},
     "output_type": "execute_result"
    }
   ],
   "source": [
    "row.subscribers"
   ]
  },
  {
   "cell_type": "code",
   "execution_count": 30,
   "metadata": {},
   "outputs": [
    {
     "data": {
      "text/plain": "200"
     },
     "execution_count": 30,
     "metadata": {},
     "output_type": "execute_result"
    }
   ],
   "source": [
    "row.reviews"
   ]
  },
  {
   "cell_type": "code",
   "execution_count": 31,
   "metadata": {},
   "outputs": [
    {
     "name": "stdout",
     "output_type": "stream",
     "text": "2020-02-08 07:40:27,972 INFO sqlalchemy.engine.base.Engine BEGIN (implicit)\n2020-02-08 07:40:27,975 INFO sqlalchemy.engine.base.Engine INSERT INTO data (date, subscribers, reviews, timestamp) VALUES (?, ?, ?, ?)\n2020-02-08 07:40:27,978 INFO sqlalchemy.engine.base.Engine ('2020-02-08', 3500, 200, '2020-02-08 07:25:47.302614')\n2020-02-08 07:40:27,983 INFO sqlalchemy.engine.base.Engine COMMIT\n"
    }
   ],
   "source": [
    "#DBに保存 (db_session)\n",
    "db_session.add(row)\n",
    "db_session.commit()"
   ]
  },
  {
   "cell_type": "code",
   "execution_count": 32,
   "metadata": {},
   "outputs": [],
   "source": [
    "row1 = Data(date=date, subscribers=3000, reviews=300)\n",
    "row2 = Data(date=date, subscribers=4000, reviews=400)"
   ]
  },
  {
   "cell_type": "code",
   "execution_count": 33,
   "metadata": {},
   "outputs": [
    {
     "name": "stdout",
     "output_type": "stream",
     "text": "2020-02-08 07:52:21,633 INFO sqlalchemy.engine.base.Engine BEGIN (implicit)\n2020-02-08 07:52:21,634 INFO sqlalchemy.engine.base.Engine INSERT INTO data (date, subscribers, reviews, timestamp) VALUES (?, ?, ?, ?)\n2020-02-08 07:52:21,636 INFO sqlalchemy.engine.base.Engine ('2020-02-08', 3000, 300, '2020-02-08 07:25:47.302614')\n2020-02-08 07:52:21,644 INFO sqlalchemy.engine.base.Engine INSERT INTO data (date, subscribers, reviews, timestamp) VALUES (?, ?, ?, ?)\n2020-02-08 07:52:21,646 INFO sqlalchemy.engine.base.Engine ('2020-02-08', 4000, 400, '2020-02-08 07:25:47.302614')\n2020-02-08 07:52:21,649 INFO sqlalchemy.engine.base.Engine COMMIT\n"
    }
   ],
   "source": [
    "db_session.add(row1)\n",
    "db_session.add(row2)\n",
    "db_session.commit()"
   ]
  },
  {
   "cell_type": "code",
   "execution_count": null,
   "metadata": {},
   "outputs": [],
   "source": [
    "#データの読込 Read"
   ]
  },
  {
   "cell_type": "code",
   "execution_count": 34,
   "metadata": {},
   "outputs": [
    {
     "name": "stdout",
     "output_type": "stream",
     "text": "2020-02-08 07:56:39,129 INFO sqlalchemy.engine.base.Engine BEGIN (implicit)\n2020-02-08 07:56:39,131 INFO sqlalchemy.engine.base.Engine SELECT data.id AS data_id, data.date AS data_date, data.subscribers AS data_subscribers, data.reviews AS data_reviews, data.timestamp AS data_timestamp \nFROM data\n2020-02-08 07:56:39,132 INFO sqlalchemy.engine.base.Engine ()\n"
    },
    {
     "data": {
      "text/plain": "[<assets.models.Data at 0x2398e2001c0>,\n <assets.models.Data at 0x2398e384760>,\n <assets.models.Data at 0x2398e384220>]"
     },
     "execution_count": 34,
     "metadata": {},
     "output_type": "execute_result"
    }
   ],
   "source": [
    "db_session.query(Data).all()"
   ]
  },
  {
   "cell_type": "code",
   "execution_count": 35,
   "metadata": {},
   "outputs": [
    {
     "name": "stdout",
     "output_type": "stream",
     "text": "2020-02-08 07:56:53,557 INFO sqlalchemy.engine.base.Engine SELECT data.id AS data_id, data.date AS data_date, data.subscribers AS data_subscribers, data.reviews AS data_reviews, data.timestamp AS data_timestamp \nFROM data\n2020-02-08 07:56:53,559 INFO sqlalchemy.engine.base.Engine ()\n"
    },
    {
     "data": {
      "text/plain": "<assets.models.Data at 0x2398e2001c0>"
     },
     "execution_count": 35,
     "metadata": {},
     "output_type": "execute_result"
    }
   ],
   "source": [
    "db_session.query(Data).all()[0]"
   ]
  },
  {
   "cell_type": "code",
   "execution_count": 36,
   "metadata": {},
   "outputs": [
    {
     "name": "stdout",
     "output_type": "stream",
     "text": "2020-02-08 07:57:23,915 INFO sqlalchemy.engine.base.Engine SELECT data.id AS data_id, data.date AS data_date, data.subscribers AS data_subscribers, data.reviews AS data_reviews, data.timestamp AS data_timestamp \nFROM data\n2020-02-08 07:57:23,916 INFO sqlalchemy.engine.base.Engine ()\n"
    },
    {
     "data": {
      "text/plain": "200"
     },
     "execution_count": 36,
     "metadata": {},
     "output_type": "execute_result"
    }
   ],
   "source": [
    "db_session.query(Data).all()[0].reviews"
   ]
  },
  {
   "cell_type": "code",
   "execution_count": 42,
   "metadata": {},
   "outputs": [
    {
     "name": "stdout",
     "output_type": "stream",
     "text": "2020-02-08 08:01:01,886 INFO sqlalchemy.engine.base.Engine SELECT data.id AS data_id, data.date AS data_date, data.subscribers AS data_subscribers, data.reviews AS data_reviews, data.timestamp AS data_timestamp \nFROM data\n2020-02-08 08:01:01,887 INFO sqlalchemy.engine.base.Engine ()\n"
    },
    {
     "data": {
      "text/plain": "<assets.models.Data at 0x2398e384220>"
     },
     "execution_count": 42,
     "metadata": {},
     "output_type": "execute_result"
    }
   ],
   "source": [
    "db_session.query(Data).all()[2]"
   ]
  },
  {
   "cell_type": "code",
   "execution_count": 43,
   "metadata": {},
   "outputs": [
    {
     "name": "stdout",
     "output_type": "stream",
     "text": "2020-02-08 08:01:23,750 INFO sqlalchemy.engine.base.Engine SELECT data.id AS data_id, data.date AS data_date, data.subscribers AS data_subscribers, data.reviews AS data_reviews, data.timestamp AS data_timestamp \nFROM data\n2020-02-08 08:01:23,751 INFO sqlalchemy.engine.base.Engine ()\n"
    },
    {
     "data": {
      "text/plain": "<assets.models.Data at 0x2398e384220>"
     },
     "execution_count": 43,
     "metadata": {},
     "output_type": "execute_result"
    }
   ],
   "source": [
    "db_session.query(Data).all()[-1]"
   ]
  },
  {
   "cell_type": "code",
   "execution_count": null,
   "metadata": {},
   "outputs": [],
   "source": [
    "#データの書き換え update"
   ]
  },
  {
   "cell_type": "code",
   "execution_count": 64,
   "metadata": {},
   "outputs": [
    {
     "name": "stdout",
     "output_type": "stream",
     "text": "2020-02-08 08:17:47,003 INFO sqlalchemy.engine.base.Engine SELECT data.id AS data_id, data.date AS data_date, data.subscribers AS data_subscribers, data.reviews AS data_reviews, data.timestamp AS data_timestamp \nFROM data\n2020-02-08 08:17:47,005 INFO sqlalchemy.engine.base.Engine ()\n"
    },
    {
     "data": {
      "text/plain": "<assets.models.Data at 0x2398e2001c0>"
     },
     "execution_count": 64,
     "metadata": {},
     "output_type": "execute_result"
    }
   ],
   "source": [
    "datum = db_session.query(Data).all()[0]\n",
    "datum"
   ]
  },
  {
   "cell_type": "code",
   "execution_count": 65,
   "metadata": {},
   "outputs": [
    {
     "data": {
      "text/plain": "<assets.models.Data at 0x2398e2001c0>"
     },
     "execution_count": 65,
     "metadata": {},
     "output_type": "execute_result"
    }
   ],
   "source": [
    "datum.subscribers = 10000\n",
    "datum"
   ]
  },
  {
   "cell_type": "code",
   "execution_count": 66,
   "metadata": {},
   "outputs": [
    {
     "name": "stdout",
     "output_type": "stream",
     "text": "2020-02-08 08:18:26,078 INFO sqlalchemy.engine.base.Engine UPDATE data SET subscribers=? WHERE data.id = ?\n2020-02-08 08:18:26,080 INFO sqlalchemy.engine.base.Engine (10000, 1)\n2020-02-08 08:18:26,084 INFO sqlalchemy.engine.base.Engine COMMIT\n"
    }
   ],
   "source": [
    "db_session.add(datum)\n",
    "db_session.commit()"
   ]
  },
  {
   "cell_type": "code",
   "execution_count": 69,
   "metadata": {},
   "outputs": [
    {
     "data": {
      "text/plain": "10000"
     },
     "execution_count": 69,
     "metadata": {},
     "output_type": "execute_result"
    }
   ],
   "source": [
    "datum.subscribers"
   ]
  },
  {
   "cell_type": "code",
   "execution_count": null,
   "metadata": {},
   "outputs": [],
   "source": [
    "#データの削除 Delete"
   ]
  },
  {
   "cell_type": "code",
   "execution_count": 90,
   "metadata": {},
   "outputs": [],
   "source": [
    "datum = db_session.query(Data).filter_by(subscribers=10000)"
   ]
  },
  {
   "cell_type": "code",
   "execution_count": 91,
   "metadata": {},
   "outputs": [
    {
     "name": "stdout",
     "output_type": "stream",
     "text": "2020-02-08 10:19:17,920 INFO sqlalchemy.engine.base.Engine SELECT data.id AS data_id, data.date AS data_date, data.subscribers AS data_subscribers, data.reviews AS data_reviews, data.timestamp AS data_timestamp \nFROM data \nWHERE data.subscribers = ?\n LIMIT ? OFFSET ?\n2020-02-08 10:19:17,921 INFO sqlalchemy.engine.base.Engine (10000, 1, 0)\n"
    },
    {
     "data": {
      "text/plain": "10000"
     },
     "execution_count": 91,
     "metadata": {},
     "output_type": "execute_result"
    }
   ],
   "source": [
    "datum[0].subscribers"
   ]
  },
  {
   "cell_type": "code",
   "execution_count": 89,
   "metadata": {},
   "outputs": [
    {
     "name": "stdout",
     "output_type": "stream",
     "text": "2020-02-08 10:19:09,469 INFO sqlalchemy.engine.base.Engine SELECT data.id AS data_id, data.date AS data_date, data.subscribers AS data_subscribers, data.reviews AS data_reviews, data.timestamp AS data_timestamp \nFROM data\n2020-02-08 10:19:09,470 INFO sqlalchemy.engine.base.Engine ()\n"
    },
    {
     "data": {
      "text/plain": "[<assets.models.Data at 0x2398e2001c0>,\n <assets.models.Data at 0x2398e384760>,\n <assets.models.Data at 0x2398e384220>]"
     },
     "execution_count": 89,
     "metadata": {},
     "output_type": "execute_result"
    }
   ],
   "source": [
    "db_session.query(Data).all()"
   ]
  },
  {
   "cell_type": "code",
   "execution_count": 107,
   "metadata": {},
   "outputs": [
    {
     "name": "stdout",
     "output_type": "stream",
     "text": "2020-02-08 10:24:15,407 INFO sqlalchemy.engine.base.Engine SELECT data.id AS data_id, data.date AS data_date, data.subscribers AS data_subscribers, data.reviews AS data_reviews, data.timestamp AS data_timestamp \nFROM data\n2020-02-08 10:24:15,409 INFO sqlalchemy.engine.base.Engine ()\n"
    },
    {
     "data": {
      "text/plain": "4000"
     },
     "execution_count": 107,
     "metadata": {},
     "output_type": "execute_result"
    }
   ],
   "source": [
    "datum = db_session.query(Data).all()[2]\n",
    "datum.subscribers"
   ]
  },
  {
   "cell_type": "code",
   "execution_count": 108,
   "metadata": {},
   "outputs": [
    {
     "name": "stdout",
     "output_type": "stream",
     "text": "2020-02-08 10:24:50,472 INFO sqlalchemy.engine.base.Engine UPDATE data SET subscribers=? WHERE data.id = ?\n2020-02-08 10:24:50,474 INFO sqlalchemy.engine.base.Engine (10000, 1)\n2020-02-08 10:24:50,475 INFO sqlalchemy.engine.base.Engine DELETE FROM data WHERE data.id = ?\n2020-02-08 10:24:50,476 INFO sqlalchemy.engine.base.Engine (3,)\n2020-02-08 10:24:50,485 INFO sqlalchemy.engine.base.Engine COMMIT\n"
    }
   ],
   "source": [
    "db_session.delete(datum)\n",
    "db_session.commit()"
   ]
  },
  {
   "cell_type": "code",
   "execution_count": 111,
   "metadata": {},
   "outputs": [
    {
     "name": "stdout",
     "output_type": "stream",
     "text": "2020-02-08 10:25:45,589 INFO sqlalchemy.engine.base.Engine BEGIN (implicit)\n2020-02-08 10:25:45,590 INFO sqlalchemy.engine.base.Engine SELECT data.id AS data_id, data.date AS data_date, data.subscribers AS data_subscribers, data.reviews AS data_reviews, data.timestamp AS data_timestamp \nFROM data\n2020-02-08 10:25:45,590 INFO sqlalchemy.engine.base.Engine ()\n"
    },
    {
     "data": {
      "text/plain": "[<assets.models.Data at 0x2398e2001c0>, <assets.models.Data at 0x2398e384760>]"
     },
     "execution_count": 111,
     "metadata": {},
     "output_type": "execute_result"
    }
   ],
   "source": [
    "db_session.query(Data).all()"
   ]
  },
  {
   "cell_type": "code",
   "execution_count": 113,
   "metadata": {},
   "outputs": [
    {
     "name": "stdout",
     "output_type": "stream",
     "text": "2020-02-08 10:27:57,382 INFO sqlalchemy.engine.base.Engine DELETE FROM data\n2020-02-08 10:27:57,384 INFO sqlalchemy.engine.base.Engine ()\n"
    },
    {
     "data": {
      "text/plain": "2"
     },
     "execution_count": 113,
     "metadata": {},
     "output_type": "execute_result"
    }
   ],
   "source": [
    "#全削除\n",
    "Data.query.delete()"
   ]
  },
  {
   "cell_type": "code",
   "execution_count": null,
   "metadata": {},
   "outputs": [],
   "source": []
  },
  {
   "cell_type": "code",
   "execution_count": null,
   "metadata": {},
   "outputs": [],
   "source": []
  }
 ],
 "metadata": {
  "kernelspec": {
   "display_name": "Python 3.8.1 64-bit",
   "language": "python",
   "name": "python38164bitc01c87a0226c49e690200edb026cd073"
  },
  "language_info": {
   "codemirror_mode": {
    "name": "ipython",
    "version": 3
   },
   "file_extension": ".py",
   "mimetype": "text/x-python",
   "name": "python",
   "nbconvert_exporter": "python",
   "pygments_lexer": "ipython3",
   "version": "3.8.1-final"
  }
 },
 "nbformat": 4,
 "nbformat_minor": 4
}