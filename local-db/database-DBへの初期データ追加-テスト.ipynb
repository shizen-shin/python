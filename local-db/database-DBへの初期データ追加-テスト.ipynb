{
 "nbformat": 4,
 "nbformat_minor": 2,
 "metadata": {
  "language_info": {
   "name": "python",
   "codemirror_mode": {
    "name": "ipython",
    "version": 3
   },
   "version": "3.8.1-final"
  },
  "orig_nbformat": 2,
  "file_extension": ".py",
  "mimetype": "text/x-python",
  "name": "python",
  "npconvert_exporter": "python",
  "pygments_lexer": "ipython3",
  "version": 3,
  "kernelspec": {
   "name": "python38164bitc01c87a0226c49e690200edb026cd073",
   "display_name": "Python 3.8.1 64-bit"
  }
 },
 "cells": [
  {
   "cell_type": "code",
   "execution_count": null,
   "metadata": {},
   "outputs": [],
   "source": [
    "#DBの初期化\n",
    "#DBへのデータ追加テスト"
   ]
  },
  {
   "cell_type": "code",
   "execution_count": 2,
   "metadata": {},
   "outputs": [],
   "source": [
    "from assets.database import db_session\n",
    "from assets.database import init_db\n",
    "from assets.models import Data"
   ]
  },
  {
   "cell_type": "code",
   "execution_count": 2,
   "metadata": {},
   "outputs": [
    {
     "data": {
      "text/plain": "<sqlalchemy.orm.session.Session at 0x157b0d22b20>"
     },
     "execution_count": 2,
     "metadata": {},
     "output_type": "execute_result"
    }
   ],
   "source": [
    "db_session()"
   ]
  },
  {
   "cell_type": "code",
   "execution_count": 3,
   "metadata": {},
   "outputs": [
    {
     "name": "stdout",
     "output_type": "stream",
     "text": "2020-02-12 09:44:46,167 INFO sqlalchemy.engine.base.Engine SELECT CAST('test plain returns' AS VARCHAR(60)) AS anon_1\n2020-02-12 09:44:46,168 INFO sqlalchemy.engine.base.Engine ()\n2020-02-12 09:44:46,170 INFO sqlalchemy.engine.base.Engine SELECT CAST('test unicode returns' AS VARCHAR(60)) AS anon_1\n2020-02-12 09:44:46,170 INFO sqlalchemy.engine.base.Engine ()\n2020-02-12 09:44:46,171 INFO sqlalchemy.engine.base.Engine PRAGMA main.table_info(\"data\")\n2020-02-12 09:44:46,172 INFO sqlalchemy.engine.base.Engine ()\n2020-02-12 09:44:46,174 INFO sqlalchemy.engine.base.Engine PRAGMA temp.table_info(\"data\")\n2020-02-12 09:44:46,178 INFO sqlalchemy.engine.base.Engine ()\n2020-02-12 09:44:46,182 INFO sqlalchemy.engine.base.Engine \nCREATE TABLE data (\n\tid INTEGER NOT NULL, \n\tdate DATE, \n\tstart INTEGER, \n\thigh INTEGER, \n\tlow INTEGER, \n\t\"end\" INTEGER, \n\tadjusted INTEGER, \n\ttimestamp INTEGER, \n\tPRIMARY KEY (id)\n)\n\n\n2020-02-12 09:44:46,183 INFO sqlalchemy.engine.base.Engine ()\n2020-02-12 09:44:46,204 INFO sqlalchemy.engine.base.Engine COMMIT\n"
    }
   ],
   "source": [
    "init_db()"
   ]
  },
  {
   "cell_type": "code",
   "execution_count": 3,
   "metadata": {},
   "outputs": [],
   "source": [
    "import datetime\n",
    "date = datetime.date.today()"
   ]
  },
  {
   "cell_type": "code",
   "execution_count": 5,
   "metadata": {},
   "outputs": [
    {
     "name": "stdout",
     "output_type": "stream",
     "text": "2020-02-12 09:44:50,386 INFO sqlalchemy.engine.base.Engine BEGIN (implicit)\n2020-02-12 09:44:50,387 INFO sqlalchemy.engine.base.Engine INSERT INTO data (date, start, high, low, \"end\", adjusted, timestamp) VALUES (?, ?, ?, ?, ?, ?, ?)\n2020-02-12 09:44:50,388 INFO sqlalchemy.engine.base.Engine ('2020-02-12', 1000, 2000, 3000, 4000, 5000, datetime.datetime(2020, 2, 12, 9, 44, 44, 61873))\n2020-02-12 09:44:50,395 INFO sqlalchemy.engine.base.Engine COMMIT\n"
    }
   ],
   "source": [
    "#列追加の練習\n",
    "row = Data(date = date, start=1000, high=2000, low=3000, end=4000, adjusted=5000)\n",
    "\n",
    "db_session.add(row)\n",
    "db_session.commit()"
   ]
  },
  {
   "cell_type": "code",
   "execution_count": 60,
   "metadata": {},
   "outputs": [
    {
     "name": "stdout",
     "output_type": "stream",
     "text": "2020-02-11 18:34:02,608 INFO sqlalchemy.engine.base.Engine SELECT data.id AS data_id, data.date AS data_date, data.start AS data_start, data.high AS data_high, data.low AS data_low, data.\"end\" AS data_end, data.adjusted AS data_adjusted, data.timestamp AS data_timestamp \nFROM data\n2020-02-11 18:34:02,609 INFO sqlalchemy.engine.base.Engine ()\n"
    },
    {
     "data": {
      "text/plain": "5000"
     },
     "execution_count": 60,
     "metadata": {},
     "output_type": "execute_result"
    }
   ],
   "source": [
    "#列追加の確認\n",
    "data0 = db_session.query(Data).all()[0]\n",
    "data0.date\n",
    "data0.adjusted"
   ]
  },
  {
   "cell_type": "code",
   "execution_count": 4,
   "metadata": {},
   "outputs": [
    {
     "name": "stdout",
     "output_type": "stream",
     "text": "2020-02-12 09:48:30,011 INFO sqlalchemy.engine.base.Engine SELECT CAST('test plain returns' AS VARCHAR(60)) AS anon_1\n2020-02-12 09:48:30,012 INFO sqlalchemy.engine.base.Engine ()\n2020-02-12 09:48:30,013 INFO sqlalchemy.engine.base.Engine SELECT CAST('test unicode returns' AS VARCHAR(60)) AS anon_1\n2020-02-12 09:48:30,016 INFO sqlalchemy.engine.base.Engine ()\n2020-02-12 09:48:30,018 INFO sqlalchemy.engine.base.Engine BEGIN (implicit)\n2020-02-12 09:48:30,020 INFO sqlalchemy.engine.base.Engine DELETE FROM data\n2020-02-12 09:48:30,020 INFO sqlalchemy.engine.base.Engine ()\n2020-02-12 09:48:30,025 INFO sqlalchemy.engine.base.Engine COMMIT\n"
    }
   ],
   "source": [
    "#DB中身データ全削除\n",
    "Data.query.delete()\n",
    "db_session.commit()"
   ]
  },
  {
   "cell_type": "code",
   "execution_count": 6,
   "metadata": {},
   "outputs": [],
   "source": [
    "#csvファイルの内容読込\n",
    "from assets import models\n",
    "import pandas as pd\n",
    "import datetime"
   ]
  },
  {
   "cell_type": "code",
   "execution_count": 7,
   "metadata": {},
   "outputs": [],
   "source": [
    "df = pd.read_csv('assets/japanese-stock-price.csv')"
   ]
  },
  {
   "cell_type": "code",
   "execution_count": 8,
   "metadata": {},
   "outputs": [
    {
     "data": {
      "text/html": "<div>\n<style scoped>\n    .dataframe tbody tr th:only-of-type {\n        vertical-align: middle;\n    }\n\n    .dataframe tbody tr th {\n        vertical-align: top;\n    }\n\n    .dataframe thead th {\n        text-align: right;\n    }\n</style>\n<table border=\"1\" class=\"dataframe\">\n  <thead>\n    <tr style=\"text-align: right;\">\n      <th></th>\n      <th>date</th>\n      <th>start</th>\n      <th>high</th>\n      <th>low</th>\n      <th>end</th>\n      <th>adjusted</th>\n    </tr>\n  </thead>\n  <tbody>\n    <tr>\n      <th>0</th>\n      <td>2020/02/10</td>\n      <td>23,631.79</td>\n      <td>23,788.25</td>\n      <td>23,621.72</td>\n      <td>23,685.98</td>\n      <td>23,685.98</td>\n    </tr>\n    <tr>\n      <th>1</th>\n      <td>2020/02/07</td>\n      <td>23,899.01</td>\n      <td>23,943.45</td>\n      <td>23,759.42</td>\n      <td>23,827.98</td>\n      <td>23,827.98</td>\n    </tr>\n    <tr>\n      <th>2</th>\n      <td>2020/02/06</td>\n      <td>23,641.10</td>\n      <td>23,995.37</td>\n      <td>23,625.13</td>\n      <td>23,873.59</td>\n      <td>23,873.59</td>\n    </tr>\n    <tr>\n      <th>3</th>\n      <td>2020/02/05</td>\n      <td>23,351.47</td>\n      <td>23,414.69</td>\n      <td>23,241.64</td>\n      <td>23,319.56</td>\n      <td>23,319.56</td>\n    </tr>\n    <tr>\n      <th>4</th>\n      <td>2020/02/04</td>\n      <td>22,881.13</td>\n      <td>23,118.13</td>\n      <td>22,854.45</td>\n      <td>23,084.59</td>\n      <td>23,084.59</td>\n    </tr>\n  </tbody>\n</table>\n</div>",
      "text/plain": "         date      start       high        low        end   adjusted\n0  2020/02/10  23,631.79  23,788.25  23,621.72  23,685.98  23,685.98\n1  2020/02/07  23,899.01  23,943.45  23,759.42  23,827.98  23,827.98\n2  2020/02/06  23,641.10  23,995.37  23,625.13  23,873.59  23,873.59\n3  2020/02/05  23,351.47  23,414.69  23,241.64  23,319.56  23,319.56\n4  2020/02/04  22,881.13  23,118.13  22,854.45  23,084.59  23,084.59"
     },
     "execution_count": 8,
     "metadata": {},
     "output_type": "execute_result"
    }
   ],
   "source": [
    "df.head()"
   ]
  },
  {
   "cell_type": "code",
   "execution_count": 9,
   "metadata": {},
   "outputs": [
    {
     "data": {
      "text/plain": "datetime.date(2020, 2, 10)"
     },
     "execution_count": 9,
     "metadata": {},
     "output_type": "execute_result"
    }
   ],
   "source": [
    "#csvのstringをdateとして読込み\n",
    "#配列番号で指定するパターン\n",
    "date = datetime.datetime.strptime(df['date'][0],'%Y/%m/%d').date() \n",
    "date"
   ]
  },
  {
   "cell_type": "code",
   "execution_count": 11,
   "metadata": {},
   "outputs": [
    {
     "data": {
      "text/plain": "datetime.date(2020, 2, 10)"
     },
     "execution_count": 11,
     "metadata": {},
     "output_type": "execute_result"
    }
   ],
   "source": [
    "#.ilocで指定するパターン\n",
    "date = datetime.datetime.strptime(df.iloc[0,0],'%Y/%m/%d').date() \n",
    "date"
   ]
  },
  {
   "cell_type": "code",
   "execution_count": 10,
   "metadata": {},
   "outputs": [],
   "source": [
    "#for文でdateを一つづつ変換していく\n",
    "dates = []\n",
    "\n",
    "for index, _df in df.iterrows():\n",
    "    date = datetime.datetime.strptime(_df['date'],'%Y/%m/%d').date() \n",
    "    dates.append(date)"
   ]
  },
  {
   "cell_type": "code",
   "execution_count": 11,
   "metadata": {},
   "outputs": [
    {
     "name": "stdout",
     "output_type": "stream",
     "text": "chemy.engine.base.Engine ('2017-01-26', '19,260.67', '19,405.23', '19,232.46', '19,402.39', '19,402.39', datetime.datetime(2020, 2, 12, 9, 44, 44, 61873))\n2020-02-12 09:45:09,771 INFO sqlalchemy.engine.base.Engine INSERT INTO data (date, start, high, low, \"end\", adjusted, timestamp) VALUES (?, ?, ?, ?, ?, ?, ?)\n2020-02-12 09:45:09,772 INFO sqlalchemy.engine.base.Engine ('2017-01-25', '19,091.23', '19,133.18', '18,987.45', '19,057.50', '19,057.50', datetime.datetime(2020, 2, 12, 9, 44, 44, 61873))\n2020-02-12 09:45:09,773 INFO sqlalchemy.engine.base.Engine INSERT INTO data (date, start, high, low, \"end\", adjusted, timestamp) VALUES (?, ?, ?, ?, ?, ?, ?)\n2020-02-12 09:45:09,774 INFO sqlalchemy.engine.base.Engine ('2017-01-24', '18,817.42', '18,915.70', '18,783.16', '18,787.99', '18,787.99', datetime.datetime(2020, 2, 12, 9, 44, 44, 61873))\n2020-02-12 09:45:09,775 INFO sqlalchemy.engine.base.Engine INSERT INTO data (date, start, high, low, \"end\", adjusted, timestamp) VALUES (?, ?, ?, ?, ?, ?, ?)\n2020-02-12 09:45:09,776 INFO sqlalchemy.engine.base.Engine ('2017-01-23', '18,938.45', '19,024.21', '18,879.68', '18,891.03', '18,891.03', datetime.datetime(2020, 2, 12, 9, 44, 44, 61873))\n2020-02-12 09:45:09,777 INFO sqlalchemy.engine.base.Engine INSERT INTO data (date, start, high, low, \"end\", adjusted, timestamp) VALUES (?, ?, ?, ?, ?, ?, ?)\n2020-02-12 09:45:09,777 INFO sqlalchemy.engine.base.Engine ('2017-01-20', '19,059.15', '19,176.86', '19,040.20', '19,137.91', '19,137.91', datetime.datetime(2020, 2, 12, 9, 44, 44, 61873))\n2020-02-12 09:45:09,778 INFO sqlalchemy.engine.base.Engine INSERT INTO data (date, start, high, low, \"end\", adjusted, timestamp) VALUES (?, ?, ?, ?, ?, ?, ?)\n2020-02-12 09:45:09,779 INFO sqlalchemy.engine.base.Engine ('2017-01-19', '19,082.83', '19,122.39', '18,982.13', '19,072.25', '19,072.25', datetime.datetime(2020, 2, 12, 9, 44, 44, 61873))\n2020-02-12 09:45:09,781 INFO sqlalchemy.engine.base.Engine INSERT INTO data (date, start, high, low, \"end\", adjusted, timestamp) VALUES (?, ?, ?, ?, ?, ?, ?)\n2020-02-12 09:45:09,783 INFO sqlalchemy.engine.base.Engine ('2017-01-18', '18,753.96', '18,941.24', '18,650.33', '18,894.37', '18,894.37', datetime.datetime(2020, 2, 12, 9, 44, 44, 61873))\n2020-02-12 09:45:09,787 INFO sqlalchemy.engine.base.Engine INSERT INTO data (date, start, high, low, \"end\", adjusted, timestamp) VALUES (?, ?, ?, ?, ?, ?, ?)\n2020-02-12 09:45:09,788 INFO sqlalchemy.engine.base.Engine ('2017-01-17', '19,038.45', '19,043.91', '18,812.86', '18,813.53', '18,813.53', datetime.datetime(2020, 2, 12, 9, 44, 44, 61873))\n2020-02-12 09:45:09,790 INFO sqlalchemy.engine.base.Engine INSERT INTO data (date, start, high, low, \"end\", adjusted, timestamp) VALUES (?, ?, ?, ?, ?, ?, ?)\n2020-02-12 09:45:09,792 INFO sqlalchemy.engine.base.Engine ('2017-01-16', '19,219.13', '19,255.41', '19,061.27', '19,095.24', '19,095.24', datetime.datetime(2020, 2, 12, 9, 44, 44, 61873))\n2020-02-12 09:45:09,794 INFO sqlalchemy.engine.base.Engine INSERT INTO data (date, start, high, low, \"end\", adjusted, timestamp) VALUES (?, ?, ?, ?, ?, ?, ?)\n2020-02-12 09:45:09,795 INFO sqlalchemy.engine.base.Engine ('2017-01-13', '19,174.97', '19,299.36', '19,156.93', '19,287.28', '19,287.28', datetime.datetime(2020, 2, 12, 9, 44, 44, 61873))\n2020-02-12 09:45:09,798 INFO sqlalchemy.engine.base.Engine INSERT INTO data (date, start, high, low, \"end\", adjusted, timestamp) VALUES (?, ?, ?, ?, ?, ?, ?)\n2020-02-12 09:45:09,799 INFO sqlalchemy.engine.base.Engine ('2017-01-12', '19,300.19', '19,300.19', '19,069.02', '19,134.70', '19,134.70', datetime.datetime(2020, 2, 12, 9, 44, 44, 61873))\n2020-02-12 09:45:09,801 INFO sqlalchemy.engine.base.Engine INSERT INTO data (date, start, high, low, \"end\", adjusted, timestamp) VALUES (?, ?, ?, ?, ?, ?, ?)\n2020-02-12 09:45:09,802 INFO sqlalchemy.engine.base.Engine ('2017-01-11', '19,358.64', '19,402.17', '19,325.46', '19,364.67', '19,364.67', datetime.datetime(2020, 2, 12, 9, 44, 44, 61873))\n2020-02-12 09:45:09,803 INFO sqlalchemy.engine.base.Engine INSERT INTO data (date, start, high, low, \"end\", adjusted, timestamp) VALUES (?, ?, ?, ?, ?, ?, ?)\n2020-02-12 09:45:09,804 INFO sqlalchemy.engine.base.Engine ('2017-01-10', '19,414.83', '19,484.90', '19,255.35', '19,301.44', '19,301.44', datetime.datetime(2020, 2, 12, 9, 44, 44, 61873))\n2020-02-12 09:45:09,806 INFO sqlalchemy.engine.base.Engine INSERT INTO data (date, start, high, low, \"end\", adjusted, timestamp) VALUES (?, ?, ?, ?, ?, ?, ?)\n2020-02-12 09:45:09,807 INFO sqlalchemy.engine.base.Engine ('2017-01-06', '19,393.55', '19,472.37', '19,354.44', '19,454.33', '19,454.33', datetime.datetime(2020, 2, 12, 9, 44, 44, 61873))\n2020-02-12 09:45:09,808 INFO sqlalchemy.engine.base.Engine INSERT INTO data (date, start, high, low, \"end\", adjusted, timestamp) VALUES (?, ?, ?, ?, ?, ?, ?)\n2020-02-12 09:45:09,810 INFO sqlalchemy.engine.base.Engine ('2017-01-05', '19,602.10', '19,615.40', '19,473.28', '19,520.69', '19,520.69', datetime.datetime(2020, 2, 12, 9, 44, 44, 61873))\n2020-02-12 09:45:09,812 INFO sqlalchemy.engine.base.Engine INSERT INTO data (date, start, high, low, \"end\", adjusted, timestamp) VALUES (?, ?, ?, ?, ?, ?, ?)\n2020-02-12 09:45:09,815 INFO sqlalchemy.engine.base.Engine ('2017-01-04', '19,298.68', '19,594.16', '19,277.93', '19,594.16', '19,594.16', datetime.datetime(2020, 2, 12, 9, 44, 44, 61873))\n2020-02-12 09:45:09,817 INFO sqlalchemy.engine.base.Engine INSERT INTO data (date, start, high, low, \"end\", adjusted, timestamp) VALUES (?, ?, ?, ?, ?, ?, ?)\n2020-02-12 09:45:09,818 INFO sqlalchemy.engine.base.Engine ('2016-12-30', '18,997.68', '19,176.81', '18,991.59', '19,114.37', '19,114.37', datetime.datetime(2020, 2, 12, 9, 44, 44, 61873))\n2020-02-12 09:45:09,819 INFO sqlalchemy.engine.base.Engine INSERT INTO data (date, start, high, low, \"end\", adjusted, timestamp) VALUES (?, ?, ?, ?, ?, ?, ?)\n2020-02-12 09:45:09,820 INFO sqlalchemy.engine.base.Engine ('2016-12-29', '19,301.04', '19,301.04', '19,092.22', '19,145.14', '19,145.14', datetime.datetime(2020, 2, 12, 9, 44, 44, 61873))\n2020-02-12 09:45:09,821 INFO sqlalchemy.engine.base.Engine INSERT INTO data (date, start, high, low, \"end\", adjusted, timestamp) VALUES (?, ?, ?, ?, ?, ?, ?)\n2020-02-12 09:45:09,822 INFO sqlalchemy.engine.base.Engine ('2016-12-28', '19,392.11', '19,442.13', '19,364.73', '19,401.72', '19,401.72', datetime.datetime(2020, 2, 12, 9, 44, 44, 61873))\n2020-02-12 09:45:09,823 INFO sqlalchemy.engine.base.Engine INSERT INTO data (date, start, high, low, \"end\", adjusted, timestamp) VALUES (?, ?, ?, ?, ?, ?, ?)\n2020-02-12 09:45:09,823 INFO sqlalchemy.engine.base.Engine ('2016-12-27', '19,353.43', '19,478.58', '19,352.06', '19,403.06', '19,403.06', datetime.datetime(2020, 2, 12, 9, 44, 44, 61873))\n2020-02-12 09:45:09,824 INFO sqlalchemy.engine.base.Engine INSERT INTO data (date, start, high, low, \"end\", adjusted, timestamp) VALUES (?, ?, ?, ?, ?, ?, ?)\n2020-02-12 09:45:09,824 INFO sqlalchemy.engine.base.Engine ('2016-12-26', '19,394.41', '19,432.48', '19,385.94', '19,396.64', '19,396.64', datetime.datetime(2020, 2, 12, 9, 44, 44, 61873))\n2020-02-12 09:45:09,827 INFO sqlalchemy.engine.base.Engine INSERT INTO data (date, start, high, low, \"end\", adjusted, timestamp) VALUES (?, ?, ?, ?, ?, ?, ?)\n2020-02-12 09:45:09,828 INFO sqlalchemy.engine.base.Engine ('2016-12-22', '19,396.85', '19,427.67', '19,327.51', '19,427.67', '19,427.67', datetime.datetime(2020, 2, 12, 9, 44, 44, 61873))\n2020-02-12 09:45:09,830 INFO sqlalchemy.engine.base.Engine INSERT INTO data (date, start, high, low, \"end\", adjusted, timestamp) VALUES (?, ?, ?, ?, ?, ?, ?)\n2020-02-12 09:45:09,832 INFO sqlalchemy.engine.base.Engine ('2016-12-21', '19,547.28', '19,592.90', '19,375.19', '19,444.49', '19,444.49', datetime.datetime(2020, 2, 12, 9, 44, 44, 61873))\n2020-02-12 09:45:09,834 INFO sqlalchemy.engine.base.Engine INSERT INTO data (date, start, high, low, \"end\", adjusted, timestamp) VALUES (?, ?, ?, ?, ?, ?, ?)\n2020-02-12 09:45:09,835 INFO sqlalchemy.engine.base.Engine ('2016-12-20', '19,367.84', '19,511.20', '19,356.81', '19,494.53', '19,494.53', datetime.datetime(2020, 2, 12, 9, 44, 44, 61873))\n2020-02-12 09:45:09,836 INFO sqlalchemy.engine.base.Engine INSERT INTO data (date, start, high, low, \"end\", adjusted, timestamp) VALUES (?, ?, ?, ?, ?, ?, ?)\n2020-02-12 09:45:09,837 INFO sqlalchemy.engine.base.Engine ('2016-12-19', '19,345.84', '19,399.26', '19,307.14', '19,391.60', '19,391.60', datetime.datetime(2020, 2, 12, 9, 44, 44, 61873))\n2020-02-12 09:45:09,838 INFO sqlalchemy.engine.base.Engine INSERT INTO data (date, start, high, low, \"end\", adjusted, timestamp) VALUES (?, ?, ?, ?, ?, ?, ?)\n2020-02-12 09:45:09,839 INFO sqlalchemy.engine.base.Engine ('2016-12-16', '19,438.39', '19,439.97', '19,360.36', '19,401.15', '19,401.15', datetime.datetime(2020, 2, 12, 9, 44, 44, 61873))\n2020-02-12 09:45:09,842 INFO sqlalchemy.engine.base.Engine INSERT INTO data (date, start, high, low, \"end\", adjusted, timestamp) VALUES (?, ?, ?, ?, ?, ?, ?)\n2020-02-12 09:45:09,843 INFO sqlalchemy.engine.base.Engine ('2016-12-15', '19,327.70', '19,436.90', '19,192.60', '19,273.79', '19,273.79', datetime.datetime(2020, 2, 12, 9, 44, 44, 61873))\n2020-02-12 09:45:09,844 INFO sqlalchemy.engine.base.Engine INSERT INTO data (date, start, high, low, \"end\", adjusted, timestamp) VALUES (?, ?, ?, ?, ?, ?, ?)\n2020-02-12 09:45:09,845 INFO sqlalchemy.engine.base.Engine ('2016-12-14', '19,270.01', '19,284.28', '19,184.75', '19,253.61', '19,253.61', datetime.datetime(2020, 2, 12, 9, 44, 44, 61873))\n2020-02-12 09:45:09,846 INFO sqlalchemy.engine.base.Engine INSERT INTO data (date, start, high, low, \"end\", adjusted, timestamp) VALUES (?, ?, ?, ?, ?, ?, ?)\n2020-02-12 09:45:09,848 INFO sqlalchemy.engine.base.Engine ('2016-12-13', '19,120.76', '19,253.51', '19,060.72', '19,250.52', '19,250.52', datetime.datetime(2020, 2, 12, 9, 44, 44, 61873))\n2020-02-12 09:45:09,850 INFO sqlalchemy.engine.base.Engine INSERT INTO data (date, start, high, low, \"end\", adjusted, timestamp) VALUES (?, ?, ?, ?, ?, ?, ?)\n2020-02-12 09:45:09,851 INFO sqlalchemy.engine.base.Engine ('2016-12-12', '19,183.82', '19,280.93', '19,054.00', '19,155.03', '19,155.03', datetime.datetime(2020, 2, 12, 9, 44, 44, 61873))\n2020-02-12 09:45:09,852 INFO sqlalchemy.engine.base.Engine INSERT INTO data (date, start, high, low, \"end\", adjusted, timestamp) VALUES (?, ?, ?, ?, ?, ?, ?)\n2020-02-12 09:45:09,853 INFO sqlalchemy.engine.base.Engine ('2016-12-09', '18,839.98', '19,042.48', '18,821.41', '18,996.37', '18,996.37', datetime.datetime(2020, 2, 12, 9, 44, 44, 61873))\n2020-02-12 09:45:09,854 INFO sqlalchemy.engine.base.Engine INSERT INTO data (date, start, high, low, \"end\", adjusted, timestamp) VALUES (?, ?, ?, ?, ?, ?, ?)\n2020-02-12 09:45:09,857 INFO sqlalchemy.engine.base.Engine ('2016-12-08', '18,674.19', '18,765.47', '18,614.01', '18,765.47', '18,765.47', datetime.datetime(2020, 2, 12, 9, 44, 44, 61873))\n2020-02-12 09:45:09,858 INFO sqlalchemy.engine.base.Engine INSERT INTO data (date, start, high, low, \"end\", adjusted, timestamp) VALUES (?, ?, ?, ?, ?, ?, ?)\n2020-02-12 09:45:09,859 INFO sqlalchemy.engine.base.Engine ('2016-12-07', '18,434.54', '18,502.47', '18,410.88', '18,496.69', '18,496.69', datetime.datetime(2020, 2, 12, 9, 44, 44, 61873))\n2020-02-12 09:45:09,860 INFO sqlalchemy.engine.base.Engine INSERT INTO data (date, start, high, low, \"end\", adjusted, timestamp) VALUES (?, ?, ?, ?, ?, ?, ?)\n2020-02-12 09:45:09,861 INFO sqlalchemy.engine.base.Engine ('2016-12-06', '18,457.20', '18,484.80', '18,318.99', '18,360.54', '18,360.54', datetime.datetime(2020, 2, 12, 9, 44, 44, 61873))\n2020-02-12 09:45:09,862 INFO sqlalchemy.engine.base.Engine INSERT INTO data (date, start, high, low, \"end\", adjusted, timestamp) VALUES (?, ?, ?, ?, ?, ?, ?)\n2020-02-12 09:45:09,864 INFO sqlalchemy.engine.base.Engine ('2016-12-05', '18,349.92', '18,365.74', '18,227.39', '18,274.99', '18,274.99', datetime.datetime(2020, 2, 12, 9, 44, 44, 61873))\n2020-02-12 09:45:09,865 INFO sqlalchemy.engine.base.Engine INSERT INTO data (date, start, high, low, \"end\", adjusted, timestamp) VALUES (?, ?, ?, ?, ?, ?, ?)\n2020-02-12 09:45:09,866 INFO sqlalchemy.engine.base.Engine ('2016-12-02', '18,435.55', '18,469.68', '18,315.38', '18,426.08', '18,426.08', datetime.datetime(2020, 2, 12, 9, 44, 44, 61873))\n2020-02-12 09:45:09,867 INFO sqlalchemy.engine.base.Engine INSERT INTO data (date, start, high, low, \"end\", adjusted, timestamp) VALUES (?, ?, ?, ?, ?, ?, ?)\n2020-02-12 09:45:09,868 INFO sqlalchemy.engine.base.Engine ('2016-12-01', '18,535.24', '18,746.28', '18,469.27', '18,513.12', '18,513.12', datetime.datetime(2020, 2, 12, 9, 44, 44, 61873))\n2020-02-12 09:45:09,869 INFO sqlalchemy.engine.base.Engine INSERT INTO data (date, start, high, low, \"end\", adjusted, timestamp) VALUES (?, ?, ?, ?, ?, ?, ?)\n2020-02-12 09:45:09,870 INFO sqlalchemy.engine.base.Engine ('2016-11-30', '18,356.03', '18,370.31', '18,280.66', '18,308.48', '18,308.48', datetime.datetime(2020, 2, 12, 9, 44, 44, 61873))\n2020-02-12 09:45:09,871 INFO sqlalchemy.engine.base.Engine INSERT INTO data (date, start, high, low, \"end\", adjusted, timestamp) VALUES (?, ?, ?, ?, ?, ?, ?)\n2020-02-12 09:45:09,872 INFO sqlalchemy.engine.base.Engine ('2016-11-29', '18,263.63', '18,327.51', '18,258.82', '18,307.04', '18,307.04', datetime.datetime(2020, 2, 12, 9, 44, 44, 61873))\n2020-02-12 09:45:09,873 INFO sqlalchemy.engine.base.Engine INSERT INTO data (date, start, high, low, \"end\", adjusted, timestamp) VALUES (?, ?, ?, ?, ?, ?, ?)\n2020-02-12 09:45:09,874 INFO sqlalchemy.engine.base.Engine ('2016-11-28', '18,302.58', '18,374.93', '18,222.82', '18,356.89', '18,356.89', datetime.datetime(2020, 2, 12, 9, 44, 44, 61873))\n2020-02-12 09:45:09,875 INFO sqlalchemy.engine.base.Engine INSERT INTO data (date, start, high, low, \"end\", adjusted, timestamp) VALUES (?, ?, ?, ?, ?, ?, ?)\n2020-02-12 09:45:09,876 INFO sqlalchemy.engine.base.Engine ('2016-11-25', '18,387.59', '18,482.94', '18,288.50', '18,381.22', '18,381.22', datetime.datetime(2020, 2, 12, 9, 44, 44, 61873))\n2020-02-12 09:45:09,880 INFO sqlalchemy.engine.base.Engine INSERT INTO data (date, start, high, low, \"end\", adjusted, timestamp) VALUES (?, ?, ?, ?, ?, ?, ?)\n2020-02-12 09:45:09,881 INFO sqlalchemy.engine.base.Engine ('2016-11-24', '18,329.78', '18,382.72', '18,310.31', '18,333.41', '18,333.41', datetime.datetime(2020, 2, 12, 9, 44, 44, 61873))\n2020-02-12 09:45:09,883 INFO sqlalchemy.engine.base.Engine INSERT INTO data (date, start, high, low, \"end\", adjusted, timestamp) VALUES (?, ?, ?, ?, ?, ?, ?)\n2020-02-12 09:45:09,884 INFO sqlalchemy.engine.base.Engine ('2016-11-22', '18,091.05', '18,175.63', '18,050.55', '18,162.94', '18,162.94', datetime.datetime(2020, 2, 12, 9, 44, 44, 61873))\n2020-02-12 09:45:09,885 INFO sqlalchemy.engine.base.Engine INSERT INTO data (date, start, high, low, \"end\", adjusted, timestamp) VALUES (?, ?, ?, ?, ?, ?, ?)\n2020-02-12 09:45:09,886 INFO sqlalchemy.engine.base.Engine ('2016-11-21', '18,038.09', '18,129.03', '18,007.79', '18,106.02', '18,106.02', datetime.datetime(2020, 2, 12, 9, 44, 44, 61873))\n2020-02-12 09:45:09,888 INFO sqlalchemy.engine.base.Engine INSERT INTO data (date, start, high, low, \"end\", adjusted, timestamp) VALUES (?, ?, ?, ?, ?, ?, ?)\n2020-02-12 09:45:09,888 INFO sqlalchemy.engine.base.Engine ('2016-11-18', '18,024.21', '18,043.72', '17,967.41', '17,967.41', '17,967.41', datetime.datetime(2020, 2, 12, 9, 44, 44, 61873))\n2020-02-12 09:45:09,890 INFO sqlalchemy.engine.base.Engine INSERT INTO data (date, start, high, low, \"end\", adjusted, timestamp) VALUES (?, ?, ?, ?, ?, ?, ?)\n2020-02-12 09:45:09,890 INFO sqlalchemy.engine.base.Engine ('2016-11-17', '17,766.61', '17,884.06', '17,764.08', '17,862.63', '17,862.63', datetime.datetime(2020, 2, 12, 9, 44, 44, 61873))\n2020-02-12 09:45:09,892 INFO sqlalchemy.engine.base.Engine INSERT INTO data (date, start, high, low, \"end\", adjusted, timestamp) VALUES (?, ?, ?, ?, ?, ?, ?)\n2020-02-12 09:45:09,893 INFO sqlalchemy.engine.base.Engine ('2016-11-16', '17,832.51', '17,886.44', '17,807.47', '17,862.21', '17,862.21', datetime.datetime(2020, 2, 12, 9, 44, 44, 61873))\n2020-02-12 09:45:09,894 INFO sqlalchemy.engine.base.Engine INSERT INTO data (date, start, high, low, \"end\", adjusted, timestamp) VALUES (?, ?, ?, ?, ?, ?, ?)\n2020-02-12 09:45:09,895 INFO sqlalchemy.engine.base.Engine ('2016-11-15', '17,690.22', '17,727.58', '17,605.77', '17,668.15', '17,668.15', datetime.datetime(2020, 2, 12, 9, 44, 44, 61873))\n2020-02-12 09:45:09,905 INFO sqlalchemy.engine.base.Engine INSERT INTO data (date, start, high, low, \"end\", adjusted, timestamp) VALUES (?, ?, ?, ?, ?, ?, ?)\n2020-02-12 09:45:09,906 INFO sqlalchemy.engine.base.Engine ('2016-11-14', '17,467.49', '17,697.33', '17,455.78', '17,672.62', '17,672.62', datetime.datetime(2020, 2, 12, 9, 44, 44, 61873))\n2020-02-12 09:45:09,908 INFO sqlalchemy.engine.base.Engine INSERT INTO data (date, start, high, low, \"end\", adjusted, timestamp) VALUES (?, ?, ?, ?, ?, ?, ?)\n2020-02-12 09:45:09,909 INFO sqlalchemy.engine.base.Engine ('2016-11-11', '17,526.61', '17,621.73', '17,333.49', '17,374.79', '17,374.79', datetime.datetime(2020, 2, 12, 9, 44, 44, 61873))\n2020-02-12 09:45:09,916 INFO sqlalchemy.engine.base.Engine INSERT INTO data (date, start, high, low, \"end\", adjusted, timestamp) VALUES (?, ?, ?, ?, ?, ?, ?)\n2020-02-12 09:45:09,918 INFO sqlalchemy.engine.base.Engine ('2016-11-10', '16,562.86', '17,393.82', '16,560.66', '17,344.42', '17,344.42', datetime.datetime(2020, 2, 12, 9, 44, 44, 61873))\n2020-02-12 09:45:09,919 INFO sqlalchemy.engine.base.Engine INSERT INTO data (date, start, high, low, \"end\", adjusted, timestamp) VALUES (?, ?, ?, ?, ?, ?, ?)\n2020-02-12 09:45:09,920 INFO sqlalchemy.engine.base.Engine ('2016-11-09', '17,281.95', '17,427.71', '16,111.81', '16,251.54', '16,251.54', datetime.datetime(2020, 2, 12, 9, 44, 44, 61873))\n2020-02-12 09:45:09,921 INFO sqlalchemy.engine.base.Engine INSERT INTO data (date, start, high, low, \"end\", adjusted, timestamp) VALUES (?, ?, ?, ?, ?, ?, ?)\n2020-02-12 09:45:09,922 INFO sqlalchemy.engine.base.Engine ('2016-11-08', '17,242.70', '17,247.04', '17,130.83', '17,171.38', '17,171.38', datetime.datetime(2020, 2, 12, 9, 44, 44, 61873))\n2020-02-12 09:45:09,924 INFO sqlalchemy.engine.base.Engine INSERT INTO data (date, start, high, low, \"end\", adjusted, timestamp) VALUES (?, ?, ?, ?, ?, ?, ?)\n2020-02-12 09:45:09,924 INFO sqlalchemy.engine.base.Engine ('2016-11-07', '17,126.03', '17,186.89', '17,056.84', '17,177.21', '17,177.21', datetime.datetime(2020, 2, 12, 9, 44, 44, 61873))\n2020-02-12 09:45:09,926 INFO sqlalchemy.engine.base.Engine INSERT INTO data (date, start, high, low, \"end\", adjusted, timestamp) VALUES (?, ?, ?, ?, ?, ?, ?)\n2020-02-12 09:45:09,927 INFO sqlalchemy.engine.base.Engine ('2016-11-04', '16,964.50', '16,996.09', '16,801.98', '16,905.36', '16,905.36', datetime.datetime(2020, 2, 12, 9, 44, 44, 61873))\n2020-02-12 09:45:09,929 INFO sqlalchemy.engine.base.Engine INSERT INTO data (date, start, high, low, \"end\", adjusted, timestamp) VALUES (?, ?, ?, ?, ?, ?, ?)\n2020-02-12 09:45:09,930 INFO sqlalchemy.engine.base.Engine ('2016-11-02', '17,238.00', '17,283.60', '17,080.59', '17,134.68', '17,134.68', datetime.datetime(2020, 2, 12, 9, 44, 44, 61873))\n2020-02-12 09:45:09,932 INFO sqlalchemy.engine.base.Engine INSERT INTO data (date, start, high, low, \"end\", adjusted, timestamp) VALUES (?, ?, ?, ?, ?, ?, ?)\n2020-02-12 09:45:09,933 INFO sqlalchemy.engine.base.Engine ('2016-11-01', '17,380.54', '17,473.12', '17,339.64', '17,442.40', '17,442.40', datetime.datetime(2020, 2, 12, 9, 44, 44, 61873))\n2020-02-12 09:45:09,935 INFO sqlalchemy.engine.base.Engine INSERT INTO data (date, start, high, low, \"end\", adjusted, timestamp) VALUES (?, ?, ?, ?, ?, ?, ?)\n2020-02-12 09:45:09,936 INFO sqlalchemy.engine.base.Engine ('2016-10-31', '17,360.89', '17,433.13', '17,327.62', '17,425.02', '17,425.02', datetime.datetime(2020, 2, 12, 9, 44, 44, 61873))\n2020-02-12 09:45:09,955 INFO sqlalchemy.engine.base.Engine COMMIT\n"
    }
   ],
   "source": [
    "#for文で各配列を抽出（dateはstr->dateに形式を変換)\n",
    "for index, _df in df.iterrows():\n",
    "    date = datetime.datetime.strptime(_df['date'],'%Y/%m/%d').date() \n",
    "    row = models.Data(date = date, start = _df['start'], high = _df['high'], low = _df['low'], end = _df['end'], adjusted= _df['adjusted'])\n",
    "    db_session.add(row)\n",
    "db_session.commit()"
   ]
  },
  {
   "cell_type": "code",
   "execution_count": 12,
   "metadata": {},
   "outputs": [
    {
     "name": "stdout",
     "output_type": "stream",
     "text": "2020-02-12 09:45:17,172 INFO sqlalchemy.engine.base.Engine BEGIN (implicit)\n2020-02-12 09:45:17,175 INFO sqlalchemy.engine.base.Engine SELECT data.id AS data_id, data.date AS data_date, data.start AS data_start, data.high AS data_high, data.low AS data_low, data.\"end\" AS data_end, data.adjusted AS data_adjusted, data.timestamp AS data_timestamp \nFROM data\n2020-02-12 09:45:17,176 INFO sqlalchemy.engine.base.Engine ()\n"
    },
    {
     "data": {
      "text/plain": "datetime.date(2020, 2, 12)"
     },
     "execution_count": 12,
     "metadata": {},
     "output_type": "execute_result"
    }
   ],
   "source": [
    "db_session.query(Data).all()[0].date"
   ]
  },
  {
   "cell_type": "code",
   "execution_count": 13,
   "metadata": {},
   "outputs": [
    {
     "name": "stdout",
     "output_type": "stream",
     "text": "2020-02-12 09:45:19,770 INFO sqlalchemy.engine.base.Engine SELECT data.id AS data_id, data.date AS data_date, data.start AS data_start, data.high AS data_high, data.low AS data_low, data.\"end\" AS data_end, data.adjusted AS data_adjusted, data.timestamp AS data_timestamp \nFROM data\n2020-02-12 09:45:19,771 INFO sqlalchemy.engine.base.Engine ()\n"
    },
    {
     "data": {
      "text/plain": "datetime.date(2020, 2, 10)"
     },
     "execution_count": 13,
     "metadata": {},
     "output_type": "execute_result"
    }
   ],
   "source": [
    "db_session.query(Data).all()[1].date"
   ]
  },
  {
   "cell_type": "code",
   "execution_count": null,
   "metadata": {},
   "outputs": [],
   "source": []
  },
  {
   "cell_type": "code",
   "execution_count": null,
   "metadata": {},
   "outputs": [],
   "source": [
    "##csvファイルを開き、表をDBに展開する"
   ]
  },
  {
   "cell_type": "code",
   "execution_count": 4,
   "metadata": {},
   "outputs": [],
   "source": [
    "#data.pyファイルの作成とDBの初期化\n",
    "from assets.database import db_session\n",
    "from assets.database import init_db\n",
    "from assets.models import Data\n",
    "\n",
    "db_session()\n",
    "init_db\n",
    "\n",
    "def read_data():\n",
    "\n",
    "    #csvファイルの内容読込\n",
    "    from assets import models\n",
    "    import pandas as pd\n",
    "    import datetime\n",
    "\n",
    "    df = pd.read_csv('assets/japanese-stock-price.csv')\n",
    "\n",
    "    #for文で各配列を抽出（dateはstr->dateに形式を変換)\n",
    "    for index, _df in df.iterrows():\n",
    "        date = datetime.datetime.strptime(_df['date'],'%Y/%m/%d').date() \n",
    "        row = models.Data(date = date, start = _df['start'], high = _df['high'], low = _df['low'], end = _df['end'], adjusted= _df['adjusted'])\n",
    "        db_session.add(row)\n",
    "    db_session.commit()"
   ]
  },
  {
   "cell_type": "code",
   "execution_count": 5,
   "metadata": {},
   "outputs": [
    {
     "name": "stdout",
     "output_type": "stream",
     "text": "05.23', '19,232.46', '19,402.39', '19,402.39', datetime.datetime(2020, 2, 12, 9, 49, 50, 264378))\n2020-02-12 09:50:41,614 INFO sqlalchemy.engine.base.Engine INSERT INTO data (date, start, high, low, \"end\", adjusted, timestamp) VALUES (?, ?, ?, ?, ?, ?, ?)\n2020-02-12 09:50:41,617 INFO sqlalchemy.engine.base.Engine ('2017-01-25', '19,091.23', '19,133.18', '18,987.45', '19,057.50', '19,057.50', datetime.datetime(2020, 2, 12, 9, 49, 50, 264378))\n2020-02-12 09:50:41,618 INFO sqlalchemy.engine.base.Engine INSERT INTO data (date, start, high, low, \"end\", adjusted, timestamp) VALUES (?, ?, ?, ?, ?, ?, ?)\n2020-02-12 09:50:41,619 INFO sqlalchemy.engine.base.Engine ('2017-01-24', '18,817.42', '18,915.70', '18,783.16', '18,787.99', '18,787.99', datetime.datetime(2020, 2, 12, 9, 49, 50, 264378))\n2020-02-12 09:50:41,620 INFO sqlalchemy.engine.base.Engine INSERT INTO data (date, start, high, low, \"end\", adjusted, timestamp) VALUES (?, ?, ?, ?, ?, ?, ?)\n2020-02-12 09:50:41,620 INFO sqlalchemy.engine.base.Engine ('2017-01-23', '18,938.45', '19,024.21', '18,879.68', '18,891.03', '18,891.03', datetime.datetime(2020, 2, 12, 9, 49, 50, 264378))\n2020-02-12 09:50:41,621 INFO sqlalchemy.engine.base.Engine INSERT INTO data (date, start, high, low, \"end\", adjusted, timestamp) VALUES (?, ?, ?, ?, ?, ?, ?)\n2020-02-12 09:50:41,621 INFO sqlalchemy.engine.base.Engine ('2017-01-20', '19,059.15', '19,176.86', '19,040.20', '19,137.91', '19,137.91', datetime.datetime(2020, 2, 12, 9, 49, 50, 264378))\n2020-02-12 09:50:41,625 INFO sqlalchemy.engine.base.Engine INSERT INTO data (date, start, high, low, \"end\", adjusted, timestamp) VALUES (?, ?, ?, ?, ?, ?, ?)\n2020-02-12 09:50:41,625 INFO sqlalchemy.engine.base.Engine ('2017-01-19', '19,082.83', '19,122.39', '18,982.13', '19,072.25', '19,072.25', datetime.datetime(2020, 2, 12, 9, 49, 50, 264378))\n2020-02-12 09:50:41,626 INFO sqlalchemy.engine.base.Engine INSERT INTO data (date, start, high, low, \"end\", adjusted, timestamp) VALUES (?, ?, ?, ?, ?, ?, ?)\n2020-02-12 09:50:41,627 INFO sqlalchemy.engine.base.Engine ('2017-01-18', '18,753.96', '18,941.24', '18,650.33', '18,894.37', '18,894.37', datetime.datetime(2020, 2, 12, 9, 49, 50, 264378))\n2020-02-12 09:50:41,628 INFO sqlalchemy.engine.base.Engine INSERT INTO data (date, start, high, low, \"end\", adjusted, timestamp) VALUES (?, ?, ?, ?, ?, ?, ?)\n2020-02-12 09:50:41,629 INFO sqlalchemy.engine.base.Engine ('2017-01-17', '19,038.45', '19,043.91', '18,812.86', '18,813.53', '18,813.53', datetime.datetime(2020, 2, 12, 9, 49, 50, 264378))\n2020-02-12 09:50:41,631 INFO sqlalchemy.engine.base.Engine INSERT INTO data (date, start, high, low, \"end\", adjusted, timestamp) VALUES (?, ?, ?, ?, ?, ?, ?)\n2020-02-12 09:50:41,633 INFO sqlalchemy.engine.base.Engine ('2017-01-16', '19,219.13', '19,255.41', '19,061.27', '19,095.24', '19,095.24', datetime.datetime(2020, 2, 12, 9, 49, 50, 264378))\n2020-02-12 09:50:41,634 INFO sqlalchemy.engine.base.Engine INSERT INTO data (date, start, high, low, \"end\", adjusted, timestamp) VALUES (?, ?, ?, ?, ?, ?, ?)\n2020-02-12 09:50:41,635 INFO sqlalchemy.engine.base.Engine ('2017-01-13', '19,174.97', '19,299.36', '19,156.93', '19,287.28', '19,287.28', datetime.datetime(2020, 2, 12, 9, 49, 50, 264378))\n2020-02-12 09:50:41,636 INFO sqlalchemy.engine.base.Engine INSERT INTO data (date, start, high, low, \"end\", adjusted, timestamp) VALUES (?, ?, ?, ?, ?, ?, ?)\n2020-02-12 09:50:41,636 INFO sqlalchemy.engine.base.Engine ('2017-01-12', '19,300.19', '19,300.19', '19,069.02', '19,134.70', '19,134.70', datetime.datetime(2020, 2, 12, 9, 49, 50, 264378))\n2020-02-12 09:50:41,638 INFO sqlalchemy.engine.base.Engine INSERT INTO data (date, start, high, low, \"end\", adjusted, timestamp) VALUES (?, ?, ?, ?, ?, ?, ?)\n2020-02-12 09:50:41,639 INFO sqlalchemy.engine.base.Engine ('2017-01-11', '19,358.64', '19,402.17', '19,325.46', '19,364.67', '19,364.67', datetime.datetime(2020, 2, 12, 9, 49, 50, 264378))\n2020-02-12 09:50:41,640 INFO sqlalchemy.engine.base.Engine INSERT INTO data (date, start, high, low, \"end\", adjusted, timestamp) VALUES (?, ?, ?, ?, ?, ?, ?)\n2020-02-12 09:50:41,641 INFO sqlalchemy.engine.base.Engine ('2017-01-10', '19,414.83', '19,484.90', '19,255.35', '19,301.44', '19,301.44', datetime.datetime(2020, 2, 12, 9, 49, 50, 264378))\n2020-02-12 09:50:41,642 INFO sqlalchemy.engine.base.Engine INSERT INTO data (date, start, high, low, \"end\", adjusted, timestamp) VALUES (?, ?, ?, ?, ?, ?, ?)\n2020-02-12 09:50:41,643 INFO sqlalchemy.engine.base.Engine ('2017-01-06', '19,393.55', '19,472.37', '19,354.44', '19,454.33', '19,454.33', datetime.datetime(2020, 2, 12, 9, 49, 50, 264378))\n2020-02-12 09:50:41,644 INFO sqlalchemy.engine.base.Engine INSERT INTO data (date, start, high, low, \"end\", adjusted, timestamp) VALUES (?, ?, ?, ?, ?, ?, ?)\n2020-02-12 09:50:41,645 INFO sqlalchemy.engine.base.Engine ('2017-01-05', '19,602.10', '19,615.40', '19,473.28', '19,520.69', '19,520.69', datetime.datetime(2020, 2, 12, 9, 49, 50, 264378))\n2020-02-12 09:50:41,647 INFO sqlalchemy.engine.base.Engine INSERT INTO data (date, start, high, low, \"end\", adjusted, timestamp) VALUES (?, ?, ?, ?, ?, ?, ?)\n2020-02-12 09:50:41,648 INFO sqlalchemy.engine.base.Engine ('2017-01-04', '19,298.68', '19,594.16', '19,277.93', '19,594.16', '19,594.16', datetime.datetime(2020, 2, 12, 9, 49, 50, 264378))\n2020-02-12 09:50:41,649 INFO sqlalchemy.engine.base.Engine INSERT INTO data (date, start, high, low, \"end\", adjusted, timestamp) VALUES (?, ?, ?, ?, ?, ?, ?)\n2020-02-12 09:50:41,650 INFO sqlalchemy.engine.base.Engine ('2016-12-30', '18,997.68', '19,176.81', '18,991.59', '19,114.37', '19,114.37', datetime.datetime(2020, 2, 12, 9, 49, 50, 264378))\n2020-02-12 09:50:41,651 INFO sqlalchemy.engine.base.Engine INSERT INTO data (date, start, high, low, \"end\", adjusted, timestamp) VALUES (?, ?, ?, ?, ?, ?, ?)\n2020-02-12 09:50:41,651 INFO sqlalchemy.engine.base.Engine ('2016-12-29', '19,301.04', '19,301.04', '19,092.22', '19,145.14', '19,145.14', datetime.datetime(2020, 2, 12, 9, 49, 50, 264378))\n2020-02-12 09:50:41,652 INFO sqlalchemy.engine.base.Engine INSERT INTO data (date, start, high, low, \"end\", adjusted, timestamp) VALUES (?, ?, ?, ?, ?, ?, ?)\n2020-02-12 09:50:41,653 INFO sqlalchemy.engine.base.Engine ('2016-12-28', '19,392.11', '19,442.13', '19,364.73', '19,401.72', '19,401.72', datetime.datetime(2020, 2, 12, 9, 49, 50, 264378))\n2020-02-12 09:50:41,653 INFO sqlalchemy.engine.base.Engine INSERT INTO data (date, start, high, low, \"end\", adjusted, timestamp) VALUES (?, ?, ?, ?, ?, ?, ?)\n2020-02-12 09:50:41,654 INFO sqlalchemy.engine.base.Engine ('2016-12-27', '19,353.43', '19,478.58', '19,352.06', '19,403.06', '19,403.06', datetime.datetime(2020, 2, 12, 9, 49, 50, 264378))\n2020-02-12 09:50:41,655 INFO sqlalchemy.engine.base.Engine INSERT INTO data (date, start, high, low, \"end\", adjusted, timestamp) VALUES (?, ?, ?, ?, ?, ?, ?)\n2020-02-12 09:50:41,655 INFO sqlalchemy.engine.base.Engine ('2016-12-26', '19,394.41', '19,432.48', '19,385.94', '19,396.64', '19,396.64', datetime.datetime(2020, 2, 12, 9, 49, 50, 264378))\n2020-02-12 09:50:41,656 INFO sqlalchemy.engine.base.Engine INSERT INTO data (date, start, high, low, \"end\", adjusted, timestamp) VALUES (?, ?, ?, ?, ?, ?, ?)\n2020-02-12 09:50:41,657 INFO sqlalchemy.engine.base.Engine ('2016-12-22', '19,396.85', '19,427.67', '19,327.51', '19,427.67', '19,427.67', datetime.datetime(2020, 2, 12, 9, 49, 50, 264378))\n2020-02-12 09:50:41,658 INFO sqlalchemy.engine.base.Engine INSERT INTO data (date, start, high, low, \"end\", adjusted, timestamp) VALUES (?, ?, ?, ?, ?, ?, ?)\n2020-02-12 09:50:41,658 INFO sqlalchemy.engine.base.Engine ('2016-12-21', '19,547.28', '19,592.90', '19,375.19', '19,444.49', '19,444.49', datetime.datetime(2020, 2, 12, 9, 49, 50, 264378))\n2020-02-12 09:50:41,659 INFO sqlalchemy.engine.base.Engine INSERT INTO data (date, start, high, low, \"end\", adjusted, timestamp) VALUES (?, ?, ?, ?, ?, ?, ?)\n2020-02-12 09:50:41,660 INFO sqlalchemy.engine.base.Engine ('2016-12-20', '19,367.84', '19,511.20', '19,356.81', '19,494.53', '19,494.53', datetime.datetime(2020, 2, 12, 9, 49, 50, 264378))\n2020-02-12 09:50:41,661 INFO sqlalchemy.engine.base.Engine INSERT INTO data (date, start, high, low, \"end\", adjusted, timestamp) VALUES (?, ?, ?, ?, ?, ?, ?)\n2020-02-12 09:50:41,661 INFO sqlalchemy.engine.base.Engine ('2016-12-19', '19,345.84', '19,399.26', '19,307.14', '19,391.60', '19,391.60', datetime.datetime(2020, 2, 12, 9, 49, 50, 264378))\n2020-02-12 09:50:41,664 INFO sqlalchemy.engine.base.Engine INSERT INTO data (date, start, high, low, \"end\", adjusted, timestamp) VALUES (?, ?, ?, ?, ?, ?, ?)\n2020-02-12 09:50:41,666 INFO sqlalchemy.engine.base.Engine ('2016-12-16', '19,438.39', '19,439.97', '19,360.36', '19,401.15', '19,401.15', datetime.datetime(2020, 2, 12, 9, 49, 50, 264378))\n2020-02-12 09:50:41,667 INFO sqlalchemy.engine.base.Engine INSERT INTO data (date, start, high, low, \"end\", adjusted, timestamp) VALUES (?, ?, ?, ?, ?, ?, ?)\n2020-02-12 09:50:41,667 INFO sqlalchemy.engine.base.Engine ('2016-12-15', '19,327.70', '19,436.90', '19,192.60', '19,273.79', '19,273.79', datetime.datetime(2020, 2, 12, 9, 49, 50, 264378))\n2020-02-12 09:50:41,668 INFO sqlalchemy.engine.base.Engine INSERT INTO data (date, start, high, low, \"end\", adjusted, timestamp) VALUES (?, ?, ?, ?, ?, ?, ?)\n2020-02-12 09:50:41,668 INFO sqlalchemy.engine.base.Engine ('2016-12-14', '19,270.01', '19,284.28', '19,184.75', '19,253.61', '19,253.61', datetime.datetime(2020, 2, 12, 9, 49, 50, 264378))\n2020-02-12 09:50:41,669 INFO sqlalchemy.engine.base.Engine INSERT INTO data (date, start, high, low, \"end\", adjusted, timestamp) VALUES (?, ?, ?, ?, ?, ?, ?)\n2020-02-12 09:50:41,670 INFO sqlalchemy.engine.base.Engine ('2016-12-13', '19,120.76', '19,253.51', '19,060.72', '19,250.52', '19,250.52', datetime.datetime(2020, 2, 12, 9, 49, 50, 264378))\n2020-02-12 09:50:41,671 INFO sqlalchemy.engine.base.Engine INSERT INTO data (date, start, high, low, \"end\", adjusted, timestamp) VALUES (?, ?, ?, ?, ?, ?, ?)\n2020-02-12 09:50:41,672 INFO sqlalchemy.engine.base.Engine ('2016-12-12', '19,183.82', '19,280.93', '19,054.00', '19,155.03', '19,155.03', datetime.datetime(2020, 2, 12, 9, 49, 50, 264378))\n2020-02-12 09:50:41,673 INFO sqlalchemy.engine.base.Engine INSERT INTO data (date, start, high, low, \"end\", adjusted, timestamp) VALUES (?, ?, ?, ?, ?, ?, ?)\n2020-02-12 09:50:41,673 INFO sqlalchemy.engine.base.Engine ('2016-12-09', '18,839.98', '19,042.48', '18,821.41', '18,996.37', '18,996.37', datetime.datetime(2020, 2, 12, 9, 49, 50, 264378))\n2020-02-12 09:50:41,674 INFO sqlalchemy.engine.base.Engine INSERT INTO data (date, start, high, low, \"end\", adjusted, timestamp) VALUES (?, ?, ?, ?, ?, ?, ?)\n2020-02-12 09:50:41,675 INFO sqlalchemy.engine.base.Engine ('2016-12-08', '18,674.19', '18,765.47', '18,614.01', '18,765.47', '18,765.47', datetime.datetime(2020, 2, 12, 9, 49, 50, 264378))\n2020-02-12 09:50:41,676 INFO sqlalchemy.engine.base.Engine INSERT INTO data (date, start, high, low, \"end\", adjusted, timestamp) VALUES (?, ?, ?, ?, ?, ?, ?)\n2020-02-12 09:50:41,677 INFO sqlalchemy.engine.base.Engine ('2016-12-07', '18,434.54', '18,502.47', '18,410.88', '18,496.69', '18,496.69', datetime.datetime(2020, 2, 12, 9, 49, 50, 264378))\n2020-02-12 09:50:41,678 INFO sqlalchemy.engine.base.Engine INSERT INTO data (date, start, high, low, \"end\", adjusted, timestamp) VALUES (?, ?, ?, ?, ?, ?, ?)\n2020-02-12 09:50:41,679 INFO sqlalchemy.engine.base.Engine ('2016-12-06', '18,457.20', '18,484.80', '18,318.99', '18,360.54', '18,360.54', datetime.datetime(2020, 2, 12, 9, 49, 50, 264378))\n2020-02-12 09:50:41,682 INFO sqlalchemy.engine.base.Engine INSERT INTO data (date, start, high, low, \"end\", adjusted, timestamp) VALUES (?, ?, ?, ?, ?, ?, ?)\n2020-02-12 09:50:41,683 INFO sqlalchemy.engine.base.Engine ('2016-12-05', '18,349.92', '18,365.74', '18,227.39', '18,274.99', '18,274.99', datetime.datetime(2020, 2, 12, 9, 49, 50, 264378))\n2020-02-12 09:50:41,684 INFO sqlalchemy.engine.base.Engine INSERT INTO data (date, start, high, low, \"end\", adjusted, timestamp) VALUES (?, ?, ?, ?, ?, ?, ?)\n2020-02-12 09:50:41,685 INFO sqlalchemy.engine.base.Engine ('2016-12-02', '18,435.55', '18,469.68', '18,315.38', '18,426.08', '18,426.08', datetime.datetime(2020, 2, 12, 9, 49, 50, 264378))\n2020-02-12 09:50:41,686 INFO sqlalchemy.engine.base.Engine INSERT INTO data (date, start, high, low, \"end\", adjusted, timestamp) VALUES (?, ?, ?, ?, ?, ?, ?)\n2020-02-12 09:50:41,686 INFO sqlalchemy.engine.base.Engine ('2016-12-01', '18,535.24', '18,746.28', '18,469.27', '18,513.12', '18,513.12', datetime.datetime(2020, 2, 12, 9, 49, 50, 264378))\n2020-02-12 09:50:41,687 INFO sqlalchemy.engine.base.Engine INSERT INTO data (date, start, high, low, \"end\", adjusted, timestamp) VALUES (?, ?, ?, ?, ?, ?, ?)\n2020-02-12 09:50:41,688 INFO sqlalchemy.engine.base.Engine ('2016-11-30', '18,356.03', '18,370.31', '18,280.66', '18,308.48', '18,308.48', datetime.datetime(2020, 2, 12, 9, 49, 50, 264378))\n2020-02-12 09:50:41,689 INFO sqlalchemy.engine.base.Engine INSERT INTO data (date, start, high, low, \"end\", adjusted, timestamp) VALUES (?, ?, ?, ?, ?, ?, ?)\n2020-02-12 09:50:41,690 INFO sqlalchemy.engine.base.Engine ('2016-11-29', '18,263.63', '18,327.51', '18,258.82', '18,307.04', '18,307.04', datetime.datetime(2020, 2, 12, 9, 49, 50, 264378))\n2020-02-12 09:50:41,691 INFO sqlalchemy.engine.base.Engine INSERT INTO data (date, start, high, low, \"end\", adjusted, timestamp) VALUES (?, ?, ?, ?, ?, ?, ?)\n2020-02-12 09:50:41,691 INFO sqlalchemy.engine.base.Engine ('2016-11-28', '18,302.58', '18,374.93', '18,222.82', '18,356.89', '18,356.89', datetime.datetime(2020, 2, 12, 9, 49, 50, 264378))\n2020-02-12 09:50:41,693 INFO sqlalchemy.engine.base.Engine INSERT INTO data (date, start, high, low, \"end\", adjusted, timestamp) VALUES (?, ?, ?, ?, ?, ?, ?)\n2020-02-12 09:50:41,693 INFO sqlalchemy.engine.base.Engine ('2016-11-25', '18,387.59', '18,482.94', '18,288.50', '18,381.22', '18,381.22', datetime.datetime(2020, 2, 12, 9, 49, 50, 264378))\n2020-02-12 09:50:41,694 INFO sqlalchemy.engine.base.Engine INSERT INTO data (date, start, high, low, \"end\", adjusted, timestamp) VALUES (?, ?, ?, ?, ?, ?, ?)\n2020-02-12 09:50:41,695 INFO sqlalchemy.engine.base.Engine ('2016-11-24', '18,329.78', '18,382.72', '18,310.31', '18,333.41', '18,333.41', datetime.datetime(2020, 2, 12, 9, 49, 50, 264378))\n2020-02-12 09:50:41,699 INFO sqlalchemy.engine.base.Engine INSERT INTO data (date, start, high, low, \"end\", adjusted, timestamp) VALUES (?, ?, ?, ?, ?, ?, ?)\n2020-02-12 09:50:41,701 INFO sqlalchemy.engine.base.Engine ('2016-11-22', '18,091.05', '18,175.63', '18,050.55', '18,162.94', '18,162.94', datetime.datetime(2020, 2, 12, 9, 49, 50, 264378))\n2020-02-12 09:50:41,704 INFO sqlalchemy.engine.base.Engine INSERT INTO data (date, start, high, low, \"end\", adjusted, timestamp) VALUES (?, ?, ?, ?, ?, ?, ?)\n2020-02-12 09:50:41,705 INFO sqlalchemy.engine.base.Engine ('2016-11-21', '18,038.09', '18,129.03', '18,007.79', '18,106.02', '18,106.02', datetime.datetime(2020, 2, 12, 9, 49, 50, 264378))\n2020-02-12 09:50:41,706 INFO sqlalchemy.engine.base.Engine INSERT INTO data (date, start, high, low, \"end\", adjusted, timestamp) VALUES (?, ?, ?, ?, ?, ?, ?)\n2020-02-12 09:50:41,707 INFO sqlalchemy.engine.base.Engine ('2016-11-18', '18,024.21', '18,043.72', '17,967.41', '17,967.41', '17,967.41', datetime.datetime(2020, 2, 12, 9, 49, 50, 264378))\n2020-02-12 09:50:41,708 INFO sqlalchemy.engine.base.Engine INSERT INTO data (date, start, high, low, \"end\", adjusted, timestamp) VALUES (?, ?, ?, ?, ?, ?, ?)\n2020-02-12 09:50:41,709 INFO sqlalchemy.engine.base.Engine ('2016-11-17', '17,766.61', '17,884.06', '17,764.08', '17,862.63', '17,862.63', datetime.datetime(2020, 2, 12, 9, 49, 50, 264378))\n2020-02-12 09:50:41,710 INFO sqlalchemy.engine.base.Engine INSERT INTO data (date, start, high, low, \"end\", adjusted, timestamp) VALUES (?, ?, ?, ?, ?, ?, ?)\n2020-02-12 09:50:41,711 INFO sqlalchemy.engine.base.Engine ('2016-11-16', '17,832.51', '17,886.44', '17,807.47', '17,862.21', '17,862.21', datetime.datetime(2020, 2, 12, 9, 49, 50, 264378))\n2020-02-12 09:50:41,713 INFO sqlalchemy.engine.base.Engine INSERT INTO data (date, start, high, low, \"end\", adjusted, timestamp) VALUES (?, ?, ?, ?, ?, ?, ?)\n2020-02-12 09:50:41,716 INFO sqlalchemy.engine.base.Engine ('2016-11-15', '17,690.22', '17,727.58', '17,605.77', '17,668.15', '17,668.15', datetime.datetime(2020, 2, 12, 9, 49, 50, 264378))\n2020-02-12 09:50:41,719 INFO sqlalchemy.engine.base.Engine INSERT INTO data (date, start, high, low, \"end\", adjusted, timestamp) VALUES (?, ?, ?, ?, ?, ?, ?)\n2020-02-12 09:50:41,720 INFO sqlalchemy.engine.base.Engine ('2016-11-14', '17,467.49', '17,697.33', '17,455.78', '17,672.62', '17,672.62', datetime.datetime(2020, 2, 12, 9, 49, 50, 264378))\n2020-02-12 09:50:41,722 INFO sqlalchemy.engine.base.Engine INSERT INTO data (date, start, high, low, \"end\", adjusted, timestamp) VALUES (?, ?, ?, ?, ?, ?, ?)\n2020-02-12 09:50:41,723 INFO sqlalchemy.engine.base.Engine ('2016-11-11', '17,526.61', '17,621.73', '17,333.49', '17,374.79', '17,374.79', datetime.datetime(2020, 2, 12, 9, 49, 50, 264378))\n2020-02-12 09:50:41,725 INFO sqlalchemy.engine.base.Engine INSERT INTO data (date, start, high, low, \"end\", adjusted, timestamp) VALUES (?, ?, ?, ?, ?, ?, ?)\n2020-02-12 09:50:41,726 INFO sqlalchemy.engine.base.Engine ('2016-11-10', '16,562.86', '17,393.82', '16,560.66', '17,344.42', '17,344.42', datetime.datetime(2020, 2, 12, 9, 49, 50, 264378))\n2020-02-12 09:50:41,732 INFO sqlalchemy.engine.base.Engine INSERT INTO data (date, start, high, low, \"end\", adjusted, timestamp) VALUES (?, ?, ?, ?, ?, ?, ?)\n2020-02-12 09:50:41,734 INFO sqlalchemy.engine.base.Engine ('2016-11-09', '17,281.95', '17,427.71', '16,111.81', '16,251.54', '16,251.54', datetime.datetime(2020, 2, 12, 9, 49, 50, 264378))\n2020-02-12 09:50:41,736 INFO sqlalchemy.engine.base.Engine INSERT INTO data (date, start, high, low, \"end\", adjusted, timestamp) VALUES (?, ?, ?, ?, ?, ?, ?)\n2020-02-12 09:50:41,737 INFO sqlalchemy.engine.base.Engine ('2016-11-08', '17,242.70', '17,247.04', '17,130.83', '17,171.38', '17,171.38', datetime.datetime(2020, 2, 12, 9, 49, 50, 264378))\n2020-02-12 09:50:41,739 INFO sqlalchemy.engine.base.Engine INSERT INTO data (date, start, high, low, \"end\", adjusted, timestamp) VALUES (?, ?, ?, ?, ?, ?, ?)\n2020-02-12 09:50:41,740 INFO sqlalchemy.engine.base.Engine ('2016-11-07', '17,126.03', '17,186.89', '17,056.84', '17,177.21', '17,177.21', datetime.datetime(2020, 2, 12, 9, 49, 50, 264378))\n2020-02-12 09:50:41,742 INFO sqlalchemy.engine.base.Engine INSERT INTO data (date, start, high, low, \"end\", adjusted, timestamp) VALUES (?, ?, ?, ?, ?, ?, ?)\n2020-02-12 09:50:41,745 INFO sqlalchemy.engine.base.Engine ('2016-11-04', '16,964.50', '16,996.09', '16,801.98', '16,905.36', '16,905.36', datetime.datetime(2020, 2, 12, 9, 49, 50, 264378))\n2020-02-12 09:50:41,747 INFO sqlalchemy.engine.base.Engine INSERT INTO data (date, start, high, low, \"end\", adjusted, timestamp) VALUES (?, ?, ?, ?, ?, ?, ?)\n2020-02-12 09:50:41,748 INFO sqlalchemy.engine.base.Engine ('2016-11-02', '17,238.00', '17,283.60', '17,080.59', '17,134.68', '17,134.68', datetime.datetime(2020, 2, 12, 9, 49, 50, 264378))\n2020-02-12 09:50:41,750 INFO sqlalchemy.engine.base.Engine INSERT INTO data (date, start, high, low, \"end\", adjusted, timestamp) VALUES (?, ?, ?, ?, ?, ?, ?)\n2020-02-12 09:50:41,751 INFO sqlalchemy.engine.base.Engine ('2016-11-01', '17,380.54', '17,473.12', '17,339.64', '17,442.40', '17,442.40', datetime.datetime(2020, 2, 12, 9, 49, 50, 264378))\n2020-02-12 09:50:41,752 INFO sqlalchemy.engine.base.Engine INSERT INTO data (date, start, high, low, \"end\", adjusted, timestamp) VALUES (?, ?, ?, ?, ?, ?, ?)\n2020-02-12 09:50:41,753 INFO sqlalchemy.engine.base.Engine ('2016-10-31', '17,360.89', '17,433.13', '17,327.62', '17,425.02', '17,425.02', datetime.datetime(2020, 2, 12, 9, 49, 50, 264378))\n2020-02-12 09:50:41,777 INFO sqlalchemy.engine.base.Engine COMMIT\n"
    }
   ],
   "source": [
    "read_data()"
   ]
  }
 ]
}