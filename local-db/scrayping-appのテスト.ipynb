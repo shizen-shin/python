{
 "nbformat": 4,
 "nbformat_minor": 2,
 "metadata": {
  "language_info": {
   "name": "python",
   "codemirror_mode": {
    "name": "ipython",
    "version": 3
   },
   "version": "3.8.1-final"
  },
  "orig_nbformat": 2,
  "file_extension": ".py",
  "mimetype": "text/x-python",
  "name": "python",
  "npconvert_exporter": "python",
  "pygments_lexer": "ipython3",
  "version": 3,
  "kernelspec": {
   "name": "python38164bitc01c87a0226c49e690200edb026cd073",
   "display_name": "Python 3.8.1 64-bit"
  }
 },
 "cells": [
  {
   "cell_type": "code",
   "execution_count": null,
   "metadata": {},
   "outputs": [],
   "source": [
    "#やりたい\n",
    "#①resultオブジェクトをdatetimeやstring形式に変換可能か？(max, sortで取得したデータはすべてresult -> 比較できない)\n",
    "#　　result型：query(Date.XXX)やquert(func.max)など query内での条件絞りはNG\n",
    "#   ◎：抜き出したデータをlistに格納すればOK\n",
    "#②表の１行目に行を追加する->　無理っぽい"
   ]
  },
  {
   "cell_type": "code",
   "execution_count": 17,
   "metadata": {},
   "outputs": [],
   "source": [
    "#１ページ目のデータ取得し、現在DBになければ追加する ※休日は更新がないため\n",
    "\n",
    "#1ページ目のデータ取得\n",
    "from selenium import webdriver\n",
    "browser = webdriver.Chrome('chromedriver.exe')\n",
    "\n",
    "url = 'https://minkabu.jp/stock/100000018/daily_bar'\n",
    "browser.get(url)\n",
    "\n",
    "#要素抽出\n",
    "elems = browser.find_element_by_id('fourvalue_timeline')\n",
    "elems = elems.find_elements_by_tag_name('tr')\n",
    "\n",
    "dates = []\n",
    "starts = []\n",
    "highs = []\n",
    "lows = []\n",
    "ends = []\n",
    "adjusteds = []\n",
    "\n",
    "\n",
    "#取得データを各listに入れる *0行目はタイトルのため不要\n",
    "def extract():\n",
    "    for elem in elems[1:]:      #list[start:end]\n",
    "        data = elem.text.split(\" \")\n",
    "        \n",
    "        date = data[0]\n",
    "        start = data[1]\n",
    "        high = data[2]\n",
    "        low = data[3]\n",
    "        end = data[4]\n",
    "        adjusted = data[5]\n",
    "\n",
    "        dates.append(date)\n",
    "        starts.append(start)\n",
    "        highs.append(high)\n",
    "        lows.append(low)\n",
    "        ends.append(end)\n",
    "        adjusteds.append(adjusted)\n",
    "\n",
    "extract()"
   ]
  },
  {
   "cell_type": "code",
   "execution_count": 100,
   "metadata": {},
   "outputs": [
    {
     "data": {
      "text/plain": "'2020/02/10'"
     },
     "execution_count": 100,
     "metadata": {},
     "output_type": "execute_result"
    }
   ],
   "source": [
    "dates[0]"
   ]
  },
  {
   "cell_type": "code",
   "execution_count": 183,
   "metadata": {},
   "outputs": [
    {
     "data": {
      "text/plain": "datetime.date(2020, 2, 10)"
     },
     "execution_count": 183,
     "metadata": {},
     "output_type": "execute_result"
    }
   ],
   "source": [
    "#取得した日付をstr->dateにする(先頭＝最新日のみ)\n",
    "import datetime\n",
    "scraypedDate = datetime.datetime.strptime(dates[0],'%Y/%m/%d').date()\n",
    "scraypedDate"
   ]
  },
  {
   "cell_type": "code",
   "execution_count": 107,
   "metadata": {},
   "outputs": [],
   "source": [
    "#dateの値を一つづつ取り出し、既存の表の最新日と一致していなければrowを作りDBに追加\n",
    "#DBの読込み\n",
    "from assets.database import db_session\n",
    "from assets.models import Data\n",
    "import datetime"
   ]
  },
  {
   "cell_type": "code",
   "execution_count": 177,
   "metadata": {},
   "outputs": [
    {
     "name": "stdout",
     "output_type": "stream",
     "text": "2020-02-12 07:54:40,996 INFO sqlalchemy.engine.base.Engine SELECT data.id AS data_id, data.date AS data_date, data.start AS data_start, data.high AS data_high, data.low AS data_low, data.\"end\" AS data_end, data.adjusted AS data_adjusted, data.timestamp AS data_timestamp \nFROM data\n2020-02-12 07:54:40,997 INFO sqlalchemy.engine.base.Engine ()\n"
    },
    {
     "data": {
      "text/plain": "datetime.date(2016, 10, 31)"
     },
     "execution_count": 177,
     "metadata": {},
     "output_type": "execute_result"
    }
   ],
   "source": [
    "dbDateTop = db_session.query(Data).all()[0].date\n",
    "dbDateTop"
   ]
  },
  {
   "cell_type": "code",
   "execution_count": 88,
   "metadata": {},
   "outputs": [
    {
     "name": "stdout",
     "output_type": "stream",
     "text": "2020-02-12 00:54:35,425 INFO sqlalchemy.engine.base.Engine SELECT max(data.date) AS max_1 \nFROM data\n LIMIT ? OFFSET ?\n2020-02-12 00:54:35,427 INFO sqlalchemy.engine.base.Engine (1, 0)\n"
    },
    {
     "data": {
      "text/plain": "(datetime.date(2020, 2, 10))"
     },
     "execution_count": 88,
     "metadata": {},
     "output_type": "execute_result"
    }
   ],
   "source": [
    "# #sqlAlchemy　funcのインポート\n",
    "# #func.max(Data.列タイトル)で最大値を抜き出せるが、Resultオブジェクトのため使いまわしができない　-> func系は使えない\n",
    "# from sqlalchemy import func\n",
    "# latestDate = db_session.query(func.max(Data.date))[0]\n",
    "# latestDate"
   ]
  },
  {
   "cell_type": "code",
   "execution_count": 4,
   "metadata": {},
   "outputs": [
    {
     "name": "stdout",
     "output_type": "stream",
     "text": "2020-02-12 08:46:10,059 INFO sqlalchemy.engine.base.Engine SELECT data.date AS data_date \nFROM data\n2020-02-12 08:46:10,060 INFO sqlalchemy.engine.base.Engine ()\n"
    }
   ],
   "source": [
    "#日付の比較\n",
    "#scraypedDate:スクレイプした日付、latestDate:表の最上or最下で大きい方の日付\n",
    "\n",
    "#DBの最新日(latestDate)\n",
    "from assets.database import db_session\n",
    "from assets.models import Data\n",
    "import datetime\n",
    "\n",
    "\n",
    "###日付を比較して、新しい日を見つける作戦。※一番下に新しい日付がくるとは限らない。ブロックで入れた場合など。→ 結局１つづつ比較するしかない\n",
    "dbDates = db_session.query(Data.date).all()\n",
    "dbDateTop = dbDates[0].date\n",
    "\n",
    "#date列を１列ずつdatetime型に変換\n",
    "for index, dbDate in enumerate(dbDates):\n",
    "    dbDate = dbDates[index].date\n",
    "\n",
    "    if dbDate > dbDateTop:\n",
    "        latestDate = dbDate\n",
    "    else:\n",
    "        latestDate = dbDateTop\n",
    "\n",
    "if scraypedDate > latestDate:\n",
    "\n",
    "    #scraypしたデータを一列ずつrowに入れる（dateはdatetime型に変換）\n",
    "    for date, start, high, low, end, adjusted in zip(dates, starts, highs, lows, ends, adjusteds):\n",
    "        date = datetime.strptime(date,'%Y/%m/%d').date()\n",
    "\n",
    "        row = Data(date = date, start = start, high = high, low = low, end = end, adjusted= adjusted)\n",
    "        db_session.add(row)\n",
    "    \n",
    "    db_session.commit()\n",
    "\n",
    "else:\n",
    "    pass"
   ]
  },
  {
   "cell_type": "code",
   "execution_count": 3,
   "metadata": {},
   "outputs": [
    {
     "name": "stdout",
     "output_type": "stream",
     "text": "2020-02-12 08:46:09,894 INFO sqlalchemy.engine.base.Engine SELECT data.date AS data_date \nFROM data\n2020-02-12 08:46:09,895 INFO sqlalchemy.engine.base.Engine ()\n"
    }
   ],
   "source": [
    "#DBへの最新日付追加処理\n",
    "#１ページ目のデータ取得し、現在DBになければ追加する ※休日は更新がないため\n",
    "#取得データ最新日とDB内の最新日付と比較し、新しいデータがあればDBに追加\n",
    "\n",
    "\n",
    "#1ページ目のデータ取得\n",
    "from selenium import webdriver\n",
    "browser = webdriver.Chrome('chromedriver.exe')\n",
    "\n",
    "url = 'https://minkabu.jp/stock/100000018/daily_bar'\n",
    "browser.get(url)\n",
    "\n",
    "#要素抽出\n",
    "elems = browser.find_element_by_id('fourvalue_timeline')\n",
    "elems = elems.find_elements_by_tag_name('tr')\n",
    "\n",
    "dates = []\n",
    "starts = []\n",
    "highs = []\n",
    "lows = []\n",
    "ends = []\n",
    "adjusteds = []\n",
    "\n",
    "\n",
    "#取得データを各listに入れる *0行目はタイトルのため不要\n",
    "def extract():\n",
    "    for elem in elems[1:]:      #list[start:end]\n",
    "        data = elem.text.split(\" \")\n",
    "        \n",
    "        date = data[0]\n",
    "        start = data[1]\n",
    "        high = data[2]\n",
    "        low = data[3]\n",
    "        end = data[4]\n",
    "        adjusted = data[5]\n",
    "\n",
    "        dates.append(date)\n",
    "        starts.append(start)\n",
    "        highs.append(high)\n",
    "        lows.append(low)\n",
    "        ends.append(end)\n",
    "        adjusteds.append(adjusted)\n",
    "\n",
    "extract()\n",
    "\n",
    "\n",
    "#取得した日付をstr->dateにする(先頭＝最新日のみ)\n",
    "import datetime\n",
    "scraypedDate = datetime.datetime.strptime(dates[0],'%Y/%m/%d').date()\n",
    "scraypedDate\n",
    "\n",
    "\n",
    "\n",
    "#日付の比較\n",
    "#scraypedDate:スクレイプした日付、latestDate:表の最上or最下で大きい方の日付\n",
    "\n",
    "#DBの最新日(latestDate)\n",
    "from assets.database import db_session\n",
    "from assets.models import Data\n",
    "import datetime\n",
    "\n",
    "\n",
    "###日付を比較して、新しい日を見つける作戦。※一番下に新しい日付がくるとは限らない。ブロックで入れた場合など。→ 結局１つづつ比較するしかない\n",
    "dbDates = db_session.query(Data.date).all()\n",
    "dbDateTop = dbDates[0].date\n",
    "\n",
    "#date列を１列ずつdatetime型に変換\n",
    "for index, dbDate in enumerate(dbDates):\n",
    "    dbDate = dbDates[index].date\n",
    "\n",
    "    if dbDate > dbDateTop:\n",
    "        latestDate = dbDate\n",
    "    else:\n",
    "        latestDate = dbDateTop\n",
    "\n",
    "if scraypedDate > latestDate:\n",
    "\n",
    "    #scraypしたデータを一列ずつrowに入れる（dateはdatetime型に変換）\n",
    "    for date, start, high, low, end, adjusted in zip(dates, starts, highs, lows, ends, adjusteds):\n",
    "        date = datetime.strptime(date,'%Y/%m/%d').date()\n",
    "\n",
    "        row = Data(date = date, start = start, high = high, low = low, end = end, adjusted= adjusted)\n",
    "        db_session.add(row)\n",
    "    \n",
    "    db_session.commit()\n",
    "\n",
    "else:\n",
    "    pass"
   ]
  },
  {
   "cell_type": "code",
   "execution_count": null,
   "metadata": {},
   "outputs": [],
   "source": []
  },
  {
   "cell_type": "code",
   "execution_count": 6,
   "metadata": {},
   "outputs": [
    {
     "name": "stdout",
     "output_type": "stream",
     "text": "2020-02-12 08:48:10,688 INFO sqlalchemy.engine.base.Engine SELECT max(data.date) AS max_1 \nFROM data\n LIMIT ? OFFSET ?\n2020-02-12 08:48:10,689 INFO sqlalchemy.engine.base.Engine (1, 0)\n"
    },
    {
     "data": {
      "text/plain": "sqlalchemy.util._collections.result"
     },
     "execution_count": 6,
     "metadata": {},
     "output_type": "execute_result"
    }
   ],
   "source": [
    "#result型の処理\n",
    "#sqlAlchemy　funcのインポート\n",
    "#func.max(Data.列タイトル)で最大値を抜き出せるが、Resultオブジェクトのため使いまわしができない　-> func系は使えない\n",
    "from sqlalchemy import func\n",
    "maxDate = db_session.query(func.max(Data.date))[0]\n",
    "type(maxDate)"
   ]
  },
  {
   "cell_type": "code",
   "execution_count": 10,
   "metadata": {},
   "outputs": [
    {
     "data": {
      "text/plain": "(datetime.date(2020, 2, 10))"
     },
     "execution_count": 10,
     "metadata": {},
     "output_type": "execute_result"
    }
   ],
   "source": [
    "maxDate"
   ]
  },
  {
   "cell_type": "code",
   "execution_count": 20,
   "metadata": {},
   "outputs": [
    {
     "name": "stdout",
     "output_type": "stream",
     "text": "2020-02-12 08:52:01,231 INFO sqlalchemy.engine.base.Engine SELECT max(data.date) AS max_1 \nFROM data\n2020-02-12 08:52:01,233 INFO sqlalchemy.engine.base.Engine ()\n"
    },
    {
     "data": {
      "text/plain": "sqlalchemy.util._collections.result"
     },
     "execution_count": 20,
     "metadata": {},
     "output_type": "execute_result"
    }
   ],
   "source": [
    "from sqlalchemy import func\n",
    "data = db_session.query(func.max(Data.date)) #result型\n",
    "\n",
    "maxDates = []\n",
    "\n",
    "for datum in data:\n",
    "    maxDates.append(datum)\n",
    "\n",
    "type(maxDates[0])\n",
    "\n",
    "#NG。結局できていない"
   ]
  },
  {
   "cell_type": "code",
   "execution_count": 24,
   "metadata": {},
   "outputs": [
    {
     "name": "stdout",
     "output_type": "stream",
     "text": "2020-02-12 08:55:40,518 INFO sqlalchemy.engine.base.Engine SELECT data.date AS data_date \nFROM data\n2020-02-12 08:55:40,520 INFO sqlalchemy.engine.base.Engine ()\n"
    },
    {
     "data": {
      "text/plain": "datetime.date(2020, 2, 10)"
     },
     "execution_count": 24,
     "metadata": {},
     "output_type": "execute_result"
    }
   ],
   "source": [
    "#query(Data.XXX)はrsultから一般の型に変更可能\n",
    "data = db_session.query(Data.date).all() #result型\n",
    "\n",
    "dates = []\n",
    "\n",
    "for datum in data:\n",
    "    dates.append(datum.date)\n",
    "\n",
    "dates[0]"
   ]
  }
 ]
}