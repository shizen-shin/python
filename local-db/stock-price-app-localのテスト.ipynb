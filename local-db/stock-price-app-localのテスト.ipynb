{
 "nbformat": 4,
 "nbformat_minor": 2,
 "metadata": {
  "language_info": {
   "name": "python",
   "codemirror_mode": {
    "name": "ipython",
    "version": 3
   },
   "version": "3.8.1-final"
  },
  "orig_nbformat": 2,
  "file_extension": ".py",
  "mimetype": "text/x-python",
  "name": "python",
  "npconvert_exporter": "python",
  "pygments_lexer": "ipython3",
  "version": 3,
  "kernelspec": {
   "name": "python38164bitc01c87a0226c49e690200edb026cd073",
   "display_name": "Python 3.8.1 64-bit"
  }
 },
 "cells": [
  {
   "cell_type": "code",
   "execution_count": null,
   "metadata": {},
   "outputs": [],
   "source": [
    "#Dash グラフ描画\n",
    "##csvファイルを読込みDBに取り込む　＊database.pyのread_data()\n",
    "##DBはscrayping-appにより自動更新 *scrayping-app.py"
   ]
  },
  {
   "cell_type": "code",
   "execution_count": 9,
   "metadata": {},
   "outputs": [],
   "source": [
    "#ライブラリ読込\n",
    "#pandasは差分diff()算出用\n",
    "import dash\n",
    "import dash_core_components as dcc\n",
    "import dash_html_components as html\n",
    "import plotly.graph_objs as go\n",
    "import pandas as pd \n",
    "import datetime\n",
    "\n",
    "external_stylesheets = ['https://codepen.io/chriddyp/pen/bWLwgP.css']\n",
    "\n",
    "from assets.database import db_session\n",
    "from assets.models import Data"
   ]
  },
  {
   "cell_type": "code",
   "execution_count": 19,
   "metadata": {},
   "outputs": [
    {
     "name": "stdout",
     "output_type": "stream",
     "text": "2020-02-12 09:52:09,110 INFO sqlalchemy.engine.base.Engine SELECT data.date AS data_date, data.start AS data_start, data.high AS data_high, data.low AS data_low, data.\"end\" AS data_end, data.adjusted AS data_adjusted \nFROM data\n2020-02-12 09:52:09,111 INFO sqlalchemy.engine.base.Engine ()\n"
    }
   ],
   "source": [
    "#DBの各列のデータを読み込む ＊データを個別に使うわけではないので、result型でOK\n",
    "data = db_session.query(Data.date, Data.start, Data.high, Data.low, Data.end, Data.adjusted).all()\n",
    "\n",
    "dates = []\n",
    "starts = []\n",
    "highs = []\n",
    "lows = []\n",
    "ends = []\n",
    "adjusteds = []\n",
    "\n",
    "#株価がstr型になっているため、浮動小数点floatになおす\n",
    "for datum in data:\n",
    "    dates.append(datum.date)\n",
    "    starts.append(float(datum.start.replace(\",\",\"\")))\n",
    "    highs.append(float(datum.high.replace(\",\",\"\")))\n",
    "    lows.append(float(datum.low.replace(\",\",\"\")))\n",
    "    ends.append(float(datum.end.replace(\",\",\"\")))\n",
    "    adjusteds.append(float(datum.adjusted.replace(\",\",\"\")))"
   ]
  },
  {
   "cell_type": "code",
   "execution_count": 24,
   "metadata": {},
   "outputs": [],
   "source": [
    "#差分の取得　list形式ー＞Series形式に変更\n",
    "diff_starts = pd.Series(starts).diff().values\n",
    "diff_highs = pd.Series(highs).diff().values\n",
    "diff_lows = pd.Series(lows).diff().values\n",
    "diff_ends = pd.Series(ends).diff().values\n",
    "diff_adjusteds = pd.Series(adjusteds).diff().values"
   ]
  },
  {
   "cell_type": "code",
   "execution_count": 26,
   "metadata": {},
   "outputs": [
    {
     "ename": "SyntaxError",
     "evalue": "invalid syntax (<ipython-input-26-f437de998532>, line 33)",
     "output_type": "error",
     "traceback": [
      "\u001b[1;36m  File \u001b[1;32m\"<ipython-input-26-f437de998532>\"\u001b[1;36m, line \u001b[1;32m33\u001b[0m\n\u001b[1;33m    yaxis = dict(title='始値'', side='left',showgrid=False,\u001b[0m\n\u001b[1;37m                                    ^\u001b[0m\n\u001b[1;31mSyntaxError\u001b[0m\u001b[1;31m:\u001b[0m invalid syntax\n"
     ]
    }
   ],
   "source": [
    "#appを作る宣言。この下にhtml要素、dcc graph要素を書いていく\n",
    "app = dash.Dash(__name__, external_stylesheets=external_stylesheets)\n",
    "\n",
    "#server = app.server\n",
    "\n",
    "app.layout = html.Div(children=[\n",
    "    html.H1(children = 'グラフ描画アプリ'),\n",
    "    html.Div(children =[\n",
    "        dcc.Graph(\n",
    "            id = 'start-price',\n",
    "            figure = {\n",
    "                'data':[\n",
    "                    go.Scatter(\n",
    "                        x=dates,\n",
    "                        y=starts,\n",
    "                        mode='lines+markers',\n",
    "                        marker = dict(size=4),\n",
    "                        opacity =0.7,\n",
    "                        yaxis='y1',\n",
    "                        name = '始値'\n",
    "                    ),\n",
    "                    go.Bar(\n",
    "                        x=dates,\n",
    "                        y=diff_subscribers,\n",
    "                        opacity =0.7,\n",
    "                        yaxis='y2',\n",
    "                        name = 'diff_starts'\n",
    "                    ),\n",
    "                ],\n",
    "                'layout':go.Layout(\n",
    "                    title='stock price（始値）',\n",
    "                    xaxis = dict(title='date'),\n",
    "                    yaxis = dict(title='始値'', side='left',showgrid=False,\n",
    "                        range = [2100, max(subscribers)+100]),\n",
    "                    yaxis2 = dict(title='増減', side='right', overlaying='y', showgrid=False,\n",
    "                        range = [0, max(diff_subscribers[1:])]),\n",
    "                    margin=dict(l=200, r=200, b=100, t=100),    #marginの設定\n",
    "                    legend = dict(\n",
    "                        font = dict(),   # 凡例のフォント設定\n",
    "                        x = 0.01, xanchor = 'left',  # 凡例の表示場所の設定\n",
    "                        y = 0.95, yanchor = 'auto',\n",
    "                        bordercolor = 'lightgray', borderwidth = 1,  # 凡例を囲む枠線の設定\n",
    "                    )\n",
    "                ),\n",
    "            }\n",
    "        ),\n",
    "        dcc.Graph(\n",
    "            id = 'revirews_graph',\n",
    "            figure = {\n",
    "                'data':[\n",
    "                    go.Scatter(\n",
    "                        x=dates,\n",
    "                        y=reviews,\n",
    "                        mode='lines+markers',\n",
    "                        opacity =0.7,\n",
    "                        yaxis='y1',\n",
    "                        name = 'reviews'\n",
    "                    ),\n",
    "                    go.Bar(\n",
    "                        x=dates,\n",
    "                        y=diff_reviews,\n",
    "                        opacity =0.7,\n",
    "                        yaxis='y2',\n",
    "                        name = 'diff_revirews'\n",
    "                    ),\n",
    "                ]\n",
    "    ]),\n",
    "    html.Div(children = [\n",
    "        dcc.Markdown('''\n",
    "        #### ------設定------\n",
    "        - Heroku上でグラフを描画\n",
    "        - csvローデータをDBに読込\n",
    "        - WEB上から最新日のデータを取得しDBに追加（スケジューラーで自動取得登録）\n",
    "        - DB ローカル：SQLite,Heroku PorstgreSQL \n",
    "        - githubでHerokuにデータをpush\n",
    "        - グラフ描画：dash\n",
    "        - (機能確認)下部グラフのx軸、y軸はフォント、カラー、傾きを個別に設定\n",
    "        - (機能確認)凡例の位置を右上に変更。枠で囲み\n",
    "        - データ取得：beautiful soup\n",
    "        '''),\n",
    "    ])\n",
    "],\n",
    "\n",
    "style = {\n",
    "    'textAlign':'center',\n",
    "    'max-width':'900',\n",
    "    'margin':'0 auto'\n",
    "}\n",
    ")\n",
    "\n",
    "if __name__ == '__main__':\n",
    "    app.run_server(debug=True)"
   ]
  },
  {
   "cell_type": "code",
   "execution_count": null,
   "metadata": {},
   "outputs": [],
   "source": []
  },
  {
   "cell_type": "code",
   "execution_count": null,
   "metadata": {},
   "outputs": [],
   "source": []
  },
  {
   "cell_type": "code",
   "execution_count": null,
   "metadata": {},
   "outputs": [],
   "source": []
  },
  {
   "cell_type": "code",
   "execution_count": null,
   "metadata": {},
   "outputs": [],
   "source": []
  },
  {
   "cell_type": "code",
   "execution_count": null,
   "metadata": {},
   "outputs": [],
   "source": []
  },
  {
   "cell_type": "code",
   "execution_count": null,
   "metadata": {},
   "outputs": [],
   "source": []
  },
  {
   "cell_type": "code",
   "execution_count": null,
   "metadata": {},
   "outputs": [],
   "source": []
  },
  {
   "cell_type": "code",
   "execution_count": null,
   "metadata": {},
   "outputs": [],
   "source": []
  },
  {
   "cell_type": "code",
   "execution_count": null,
   "metadata": {},
   "outputs": [],
   "source": []
  },
  {
   "cell_type": "code",
   "execution_count": null,
   "metadata": {},
   "outputs": [],
   "source": []
  }
 ]
}