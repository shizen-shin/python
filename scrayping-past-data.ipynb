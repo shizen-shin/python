{
 "nbformat": 4,
 "nbformat_minor": 2,
 "metadata": {
  "language_info": {
   "name": "python",
   "codemirror_mode": {
    "name": "ipython",
    "version": 3
   },
   "version": "3.8.1-final"
  },
  "orig_nbformat": 2,
  "file_extension": ".py",
  "mimetype": "text/x-python",
  "name": "python",
  "npconvert_exporter": "python",
  "pygments_lexer": "ipython3",
  "version": 3,
  "kernelspec": {
   "name": "python38164bitc01c87a0226c49e690200edb026cd073",
   "display_name": "Python 3.8.1 64-bit"
  }
 },
 "cells": [
  {
   "cell_type": "code",
   "execution_count": 70,
   "metadata": {},
   "outputs": [],
   "source": [
    "#取得日数の指定(先に選択されている想定))\n",
    "from selenium import webdriver\n",
    "browser = webdriver.Chrome('chromedriver.exe')\n",
    "\n",
    "url = 'https://stock-price-app-miyasaka.herokuapp.com/'\n",
    "browser.get(url)"
   ]
  },
  {
   "cell_type": "code",
   "execution_count": 89,
   "metadata": {},
   "outputs": [
    {
     "data": {
      "text/plain": "'180(約6ヶ月分)'"
     },
     "execution_count": 89,
     "metadata": {},
     "output_type": "execute_result"
    }
   ],
   "source": [
    "#指定された日付を取得（addeventlistnerは組めないっぽい）\n",
    "selectDays = browser.find_element_by_class_name('Select-value')\n",
    "selectDays = selectDays.text\n",
    "selectDays"
   ]
  },
  {
   "cell_type": "code",
   "execution_count": 90,
   "metadata": {},
   "outputs": [
    {
     "data": {
      "text/plain": "180"
     },
     "execution_count": 90,
     "metadata": {},
     "output_type": "execute_result"
    }
   ],
   "source": [
    "if selectDays == '20(約20日分)':\n",
    "    selectDay = 20\n",
    "elif selectDays == '60(約2ヶ月分)':\n",
    "    selectDay = 60\n",
    "elif selectDays == '180(約6ヶ月分)':\n",
    "    selectDay = 180\n",
    "elif selectDays == '400(約1年分)':\n",
    "    selectDay = 400\n",
    "elif selectDays == '800(約2年分)':\n",
    "    selectDay = 800\n",
    "elif selectDays == '1200(約3年分)':\n",
    "    selectDay = 1200\n",
    "else:\n",
    "    print('error')   \n",
    "selectDay"
   ]
  },
  {
   "cell_type": "code",
   "execution_count": 91,
   "metadata": {},
   "outputs": [
    {
     "data": {
      "text/plain": "8"
     },
     "execution_count": 91,
     "metadata": {},
     "output_type": "execute_result"
    }
   ],
   "source": [
    "import math\n",
    "i = math.ceil(selectDay/20)-1"
   ]
  },
  {
   "cell_type": "code",
   "execution_count": 92,
   "metadata": {},
   "outputs": [],
   "source": [
    "url2 = 'https://minkabu.jp/stock/100000018/daily_bar'\n",
    "browser.get(url2)"
   ]
  },
  {
   "cell_type": "code",
   "execution_count": 93,
   "metadata": {},
   "outputs": [],
   "source": [
    "#自動更新を止める\n",
    "btn = browser.find_element_by_xpath('//*[@id=\"h_top\"]/ul/li[1]')\n",
    "stop = btn.click()"
   ]
  },
  {
   "cell_type": "code",
   "execution_count": 94,
   "metadata": {},
   "outputs": [],
   "source": [
    "#さらに表示ボタンを押す 繰り返し処理\n",
    "#クリックを押すのが早すぎて要素が見つかっていない -> time.sleep(秒)：指定時間待機\n",
    "import time\n",
    "for _ in range(i):\n",
    "    more = browser.find_element_by_class_name('moreContent,tac,mt10')\n",
    "    more.click()\n",
    "    time.sleep(0.5)"
   ]
  },
  {
   "cell_type": "code",
   "execution_count": 3,
   "metadata": {},
   "outputs": [],
   "source": [
    "#要素抽出\n",
    "elems = browser.find_element_by_id('fourvalue_timeline')\n",
    "elems = elems.find_elements_by_tag_name('tr')"
   ]
  },
  {
   "cell_type": "code",
   "execution_count": 4,
   "metadata": {},
   "outputs": [
    {
     "data": {
      "text/plain": "'2020/01/15 23,923.48 23,997.39 23,875.82 23,916.58 23,916.58'"
     },
     "execution_count": 4,
     "metadata": {},
     "output_type": "execute_result"
    }
   ],
   "source": [
    "elems[19].text"
   ]
  },
  {
   "cell_type": "code",
   "execution_count": 71,
   "metadata": {},
   "outputs": [],
   "source": [
    "dates = []\n",
    "starts = []\n",
    "highs = []\n",
    "lows = []\n",
    "ends = []\n",
    "adjusteds = []\n",
    "\n",
    "def extract():\n",
    "    for elem in elems[1:]:      #list[start:end]\n",
    "        data = elem.text.split(\" \")\n",
    "        \n",
    "        date = data[0]\n",
    "        start = data[1]\n",
    "        high = data[2]\n",
    "        low = data[3]\n",
    "        end = data[4]\n",
    "        adjusted = data[5]\n",
    "\n",
    "        dates.append(date)\n",
    "        starts.append(start)\n",
    "        highs.append(high)\n",
    "        lows.append(low)\n",
    "        ends.append(end)\n",
    "        adjusteds.append(adjusted)\n"
   ]
  },
  {
   "cell_type": "code",
   "execution_count": 17,
   "metadata": {},
   "outputs": [],
   "source": [
    "#要素抽出\n",
    "elems = browser.find_element_by_id('fourvalue_timeline')\n",
    "elems = elems.find_elements_by_tag_name('tr')"
   ]
  },
  {
   "cell_type": "code",
   "execution_count": 18,
   "metadata": {},
   "outputs": [],
   "source": [
    "dates = []\n",
    "starts = []\n",
    "highs = []\n",
    "lows = []\n",
    "ends = []\n",
    "adjusteds = []\n",
    "\n",
    "def extract():\n",
    "    for elem in elems[1:]:      #list[start:end]\n",
    "        data = elem.text.split(\" \")\n",
    "        \n",
    "        date = data[0]\n",
    "        start = data[1]\n",
    "        high = data[2]\n",
    "        low = data[3]\n",
    "        end = data[4]\n",
    "        adjusted = data[5]\n",
    "\n",
    "        dates.append(date)\n",
    "        starts.append(start)\n",
    "        highs.append(high)\n",
    "        lows.append(low)\n",
    "        ends.append(end)\n",
    "        adjusteds.append(adjusted)"
   ]
  },
  {
   "cell_type": "code",
   "execution_count": 19,
   "metadata": {},
   "outputs": [],
   "source": [
    "extract()"
   ]
  },
  {
   "cell_type": "code",
   "execution_count": 22,
   "metadata": {},
   "outputs": [],
   "source": [
    "#表にする\n",
    "import pandas as pd\n",
    "df = pd.DataFrame()"
   ]
  },
  {
   "cell_type": "code",
   "execution_count": 23,
   "metadata": {},
   "outputs": [],
   "source": [
    "df['date']=dates\n",
    "df['start']=starts\n",
    "df['high']=highs\n",
    "df['low']=lows\n",
    "df['end']=ends\n",
    "df['adjusted']=adjusteds"
   ]
  },
  {
   "cell_type": "code",
   "execution_count": 27,
   "metadata": {},
   "outputs": [
    {
     "data": {
      "text/html": "<div>\n<style scoped>\n    .dataframe tbody tr th:only-of-type {\n        vertical-align: middle;\n    }\n\n    .dataframe tbody tr th {\n        vertical-align: top;\n    }\n\n    .dataframe thead th {\n        text-align: right;\n    }\n</style>\n<table border=\"1\" class=\"dataframe\">\n  <thead>\n    <tr style=\"text-align: right;\">\n      <th></th>\n      <th>date</th>\n      <th>start</th>\n      <th>high</th>\n      <th>low</th>\n      <th>end</th>\n      <th>adjusted</th>\n    </tr>\n  </thead>\n  <tbody>\n    <tr>\n      <th>0</th>\n      <td>2020/02/10</td>\n      <td>23,631.79</td>\n      <td>23,788.25</td>\n      <td>23,621.72</td>\n      <td>23,685.98</td>\n      <td>23,685.98</td>\n    </tr>\n    <tr>\n      <th>1</th>\n      <td>2020/02/07</td>\n      <td>23,899.01</td>\n      <td>23,943.45</td>\n      <td>23,759.42</td>\n      <td>23,827.98</td>\n      <td>23,827.98</td>\n    </tr>\n    <tr>\n      <th>2</th>\n      <td>2020/02/06</td>\n      <td>23,641.10</td>\n      <td>23,995.37</td>\n      <td>23,625.13</td>\n      <td>23,873.59</td>\n      <td>23,873.59</td>\n    </tr>\n    <tr>\n      <th>3</th>\n      <td>2020/02/05</td>\n      <td>23,351.47</td>\n      <td>23,414.69</td>\n      <td>23,241.64</td>\n      <td>23,319.56</td>\n      <td>23,319.56</td>\n    </tr>\n    <tr>\n      <th>4</th>\n      <td>2020/02/04</td>\n      <td>22,881.13</td>\n      <td>23,118.13</td>\n      <td>22,854.45</td>\n      <td>23,084.59</td>\n      <td>23,084.59</td>\n    </tr>\n  </tbody>\n</table>\n</div>",
      "text/plain": "         date      start       high        low        end   adjusted\n0  2020/02/10  23,631.79  23,788.25  23,621.72  23,685.98  23,685.98\n1  2020/02/07  23,899.01  23,943.45  23,759.42  23,827.98  23,827.98\n2  2020/02/06  23,641.10  23,995.37  23,625.13  23,873.59  23,873.59\n3  2020/02/05  23,351.47  23,414.69  23,241.64  23,319.56  23,319.56\n4  2020/02/04  22,881.13  23,118.13  22,854.45  23,084.59  23,084.59"
     },
     "execution_count": 27,
     "metadata": {},
     "output_type": "execute_result"
    }
   ],
   "source": [
    "df.head()"
   ]
  },
  {
   "cell_type": "code",
   "execution_count": 28,
   "metadata": {},
   "outputs": [],
   "source": [
    "#inputボタンの設置（取得日付の入力）\n",
    "import dash\n",
    "import dash_core_components as dcc\n",
    "import dash_html_components as html\n",
    "\n",
    "external_stylesheets = ['https://codepen.io/chriddyp/pen/bWLwgP.css']\n",
    "\n",
    "app = dash.Dash(__name__, external_stylesheets=external_stylesheets)"
   ]
  },
  {
   "cell_type": "code",
   "execution_count": 33,
   "metadata": {},
   "outputs": [],
   "source": [
    "import dash\n",
    "import dash_core_components as dcc\n",
    "import dash_html_components as html\n",
    "\n",
    "external_stylesheets = ['https://codepen.io/chriddyp/pen/bWLwgP.css']\n",
    "\n",
    "app = dash.Dash(__name__, external_stylesheets=external_stylesheets)\n",
    "\n",
    "app.layout = html.Div(children=[\n",
    "    html.H1(\n",
    "        children='Stock price scrayping app',\n",
    "        style = {\n",
    "            'textAlign':'center',\n",
    "            'fontSize':'1.8em'\n",
    "            }\n",
    "        ),\n",
    "\n",
    "    html.Div(\n",
    "        children='''\n",
    "        -------------------------------------------------------------\n",
    "    ''',\n",
    "            style = {\n",
    "            'textAlign':'center'\n",
    "            }\n",
    "    ),\n",
    "    html.Label('取得する過去データの日数',\n",
    "        style = {'textAlign':'center'}\n",
    "        ),\n",
    "\n",
    "    dcc.Dropdown(\n",
    "        options =[\n",
    "            {'label':'20日分','value':'20'},\n",
    "            {'label':'2ヶ月分','value':'60'},\n",
    "            {'label':'6ヶ月分','value':'180'},\n",
    "            {'label':'1年分','value':'400'},\n",
    "            {'label':'2年分','value':'800'},\n",
    "            {'label':'3年分','value':'1200'}\n",
    "        ],\n",
    "        value = '400',\n",
    "        style = {'maxWidth':'40%',\n",
    "                'margin':'0 auto'        \n",
    "        }\n",
    "    )\n",
    "])\n",
    "\n",
    "# if __name__ == '__main__':\n",
    "#     app.run_server(debug=True)"
   ]
  },
  {
   "cell_type": "code",
   "execution_count": null,
   "metadata": {},
   "outputs": [],
   "source": []
  },
  {
   "cell_type": "code",
   "execution_count": null,
   "metadata": {},
   "outputs": [],
   "source": []
  },
  {
   "cell_type": "code",
   "execution_count": null,
   "metadata": {},
   "outputs": [],
   "source": []
  },
  {
   "cell_type": "code",
   "execution_count": null,
   "metadata": {},
   "outputs": [],
   "source": []
  }
 ]
}