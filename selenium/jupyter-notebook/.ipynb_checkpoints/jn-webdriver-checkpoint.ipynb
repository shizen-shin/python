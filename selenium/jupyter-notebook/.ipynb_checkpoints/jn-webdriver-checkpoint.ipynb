{
 "cells": [
  {
   "cell_type": "code",
   "execution_count": 1,
   "metadata": {},
   "outputs": [],
   "source": [
    "from selenium import webdriver\n",
    "browser = webdriver.Chrome('chromedriver.exe')\n",
    "browser.get('https://www.google.com/search?q=hello&rlz=1C1SQJL_jaJP784JP784&oq=hello&aqs=chrome..69i57.2534j0j1&sourceid=chrome&ie=UTF-8')"
   ]
  },
  {
   "cell_type": "code",
   "execution_count": 2,
   "metadata": {},
   "outputs": [],
   "source": [
    "elem_search = browser.find_element_by_xpath('//*[@id=\"tsf\"]/div[2]/div[1]/div[2]/div/div[2]/input')"
   ]
  },
  {
   "cell_type": "code",
   "execution_count": 3,
   "metadata": {},
   "outputs": [],
   "source": [
    "elem_search.clear()"
   ]
  },
  {
   "cell_type": "code",
   "execution_count": 4,
   "metadata": {},
   "outputs": [],
   "source": [
    "elem_search.send_keys('SEO')"
   ]
  },
  {
   "cell_type": "code",
   "execution_count": 15,
   "metadata": {},
   "outputs": [],
   "source": [
    "elem_next = browser.find_element_by_xpath('//*[@id=\"tsf\"]/div[2]/div[1]/div[2]/button').click()"
   ]
  },
  {
   "cell_type": "code",
   "execution_count": 41,
   "metadata": {},
   "outputs": [],
   "source": [
    "titles =[]\n",
    "\n",
    "elems_title= browser.find_elements_by_class_name('LC20lb')\n",
    "for elem_title in elems_title:\n",
    "    title = elem_title.text\n",
    "    titles.append(title)"
   ]
  },
  {
   "cell_type": "code",
   "execution_count": 42,
   "metadata": {
    "scrolled": true
   },
   "outputs": [
    {
     "data": {
      "text/plain": [
       "['SEOとは？SEOの基礎知識について｜SEOラボ',\n",
       " 'SEO対策とは？SEO対策で上位表示するための方法について ...',\n",
       " '検索エンジン最適化 - Wikipedia',\n",
       " '新人に読ませておきたい「グーグルSEOでやったら本当にヤバいこと」',\n",
       " 'SEOとは？ 押さえておくべき24のSEO対策方法とポイント - Gyro-n',\n",
       " 'SEO対策とは?初心者でも簡単にできるSEOの基礎と基本を学ぼう ...',\n",
       " 'SEOとは？SEOで成果を出すための基本的な考え方 | SEO基礎 ...',\n",
       " '【2020年最新版】SEOとは？初心者向け完全ガイド - Marketing',\n",
       " 'SEOとは? 定義・目的・方法まで徹底解説!【Web担当者さま必読 ...']"
      ]
     },
     "execution_count": 42,
     "metadata": {},
     "output_type": "execute_result"
    }
   ],
   "source": [
    "titles"
   ]
  },
  {
   "cell_type": "code",
   "execution_count": null,
   "metadata": {},
   "outputs": [],
   "source": []
  }
 ],
 "metadata": {
  "kernelspec": {
   "display_name": "Python 3",
   "language": "python",
   "name": "python3"
  },
  "language_info": {
   "codemirror_mode": {
    "name": "ipython",
    "version": 3
   },
   "file_extension": ".py",
   "mimetype": "text/x-python",
   "name": "python",
   "nbconvert_exporter": "python",
   "pygments_lexer": "ipython3",
   "version": "3.7.2"
  }
 },
 "nbformat": 4,
 "nbformat_minor": 4
}
