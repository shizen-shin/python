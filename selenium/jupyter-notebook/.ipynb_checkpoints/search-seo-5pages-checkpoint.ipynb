{
 "cells": [
  {
   "cell_type": "markdown",
   "metadata": {},
   "source": [
    "5ページ目までのタイトルを取得"
   ]
  },
  {
   "cell_type": "code",
   "execution_count": 26,
   "metadata": {},
   "outputs": [],
   "source": [
    "from selenium import webdriver\n",
    "browser = webdriver.Chrome('chromedriver.exe')\n",
    "\n",
    "# Chromeの検索結果「hello」を開く\n",
    "browser.get('https://www.google.com/search?q=hello&rlz=1C1SQJL_jaJP784JP784&oq=hello&aqs=chrome..69i57.2534j0j1&sourceid=chrome&ie=UTF-8')\n",
    "elem_search = browser.find_element_by_xpath('//*[@id=\"tsf\"]/div[2]/div[1]/div[2]/div/div[2]/input')\n",
    "elem_search.clear()\n",
    "\n",
    "# 指定したKWを検索（ここではSEO）\n",
    "elem_search.send_keys('SEO')\n",
    "elem_next = browser.find_element_by_xpath('//*[@id=\"tsf\"]/div[2]/div[1]/div[2]/button').click()\n",
    "\n",
    "\n",
    "#1ページ目の自然検索タイトル一覧を取得\n",
    "titles =[]\n",
    "\n",
    "def extractTitle():\n",
    "\n",
    "    elems_title= browser.find_elements_by_class_name('LC20lb')\n",
    "    for elem_title in elems_title:\n",
    "        title = elem_title.text\n",
    "        titles.append(title)\n",
    "\n",
    "    next = browser.find_element_by_xpath('//*[@id=\"pnnext\"]/span[2]').click()\n",
    "\n",
    "for _ in range(5):\n",
    "    extractTitle()"
   ]
  },
  {
   "cell_type": "code",
   "execution_count": 27,
   "metadata": {},
   "outputs": [
    {
     "data": {
      "text/plain": [
       "['SEOとは？SEOの基礎知識について｜SEOラボ',\n",
       " 'SEO対策とは？SEO対策で上位表示するための方法について ...',\n",
       " '検索エンジン最適化 - Wikipedia',\n",
       " 'SEOとは？ 押さえておくべき24のSEO対策方法とポイント - Gyro-n',\n",
       " 'SEO とは 意味/解説/説明 （エスイーオー） 【Search Engine ...',\n",
       " '新人に読ませておきたい「グーグルSEOでやったら本当にヤバいこと」',\n",
       " 'SEOとは？SEOで成果を出すための基本的な考え方 | SEO基礎 ...',\n",
       " 'SEO対策とは?初心者でも簡単にできるSEOの基礎と基本を学ぼう ...',\n",
       " '【2020年最新版】SEOとは？初心者向け完全ガイド - Marketing',\n",
       " 'SEOとは? 定義・目的・方法まで徹底解説!【Web担当者さま必読 ...',\n",
       " 'SEOの基本とは？上位表示するための対策ができるSEO Pack ...',\n",
       " 'SEOTOOLS - SEO対策を無料ツールで診断！',\n",
       " 'SEO（検索エンジン最適化）とは？ 概念から対策方法のまとめ ...',\n",
       " 'SEO が必要なケース - Search Console ヘルプ - Google Support',\n",
       " '検索エンジン最適化（SEO）スターター ガイド - Search Console ...',\n",
       " 'SEOで成果を出すために必要な知識と実践方法の全て - バズ部',\n",
       " 'SEOとは？ - HP初心者むけ基本のSEO対策方法',\n",
       " 'Google上位20のサイトと自サイトの内部要因を比較するツール ...',\n",
       " 'SEOとは？基本から最新動向まで、SEO対策の全て - ウェブ部',\n",
       " 'SEOとは - IT用語辞典 e-Words',\n",
       " 'SEOとはそもそも何？【前編】 | クロスウォーク',\n",
       " '使えるSEOツール【ohotuku.jp】',\n",
       " 'SEO対策 | PINTO! - 株式会社PLAN-B',\n",
       " '【SEO対策】トップページの順位にこだわる会社はなぜ集客に失敗 ...',\n",
       " 'SEO対策｜株式会社ディーボ',\n",
       " '運営11年4,200社導入実績！SEO対策ならファイナルSEO',\n",
       " 'SEO Japan｜アイオイクスのWebサイト集客・CV改善サービス ...',\n",
       " 'キーワード検索数 チェックツール｜無料SEOツール aramakijake.jp',\n",
       " 'SEOとは？基本と具体的な対策をわかりやすく解説 ...']"
      ]
     },
     "execution_count": 27,
     "metadata": {},
     "output_type": "execute_result"
    }
   ],
   "source": [
    "titles"
   ]
  },
  {
   "cell_type": "code",
   "execution_count": null,
   "metadata": {},
   "outputs": [],
   "source": []
  },
  {
   "cell_type": "code",
   "execution_count": null,
   "metadata": {},
   "outputs": [],
   "source": []
  },
  {
   "cell_type": "code",
   "execution_count": null,
   "metadata": {},
   "outputs": [],
   "source": []
  },
  {
   "cell_type": "code",
   "execution_count": null,
   "metadata": {},
   "outputs": [],
   "source": []
  },
  {
   "cell_type": "code",
   "execution_count": null,
   "metadata": {},
   "outputs": [],
   "source": []
  },
  {
   "cell_type": "code",
   "execution_count": null,
   "metadata": {},
   "outputs": [],
   "source": []
  },
  {
   "cell_type": "code",
   "execution_count": null,
   "metadata": {},
   "outputs": [],
   "source": []
  },
  {
   "cell_type": "code",
   "execution_count": null,
   "metadata": {},
   "outputs": [],
   "source": []
  }
 ],
 "metadata": {
  "kernelspec": {
   "display_name": "Python 3",
   "language": "python",
   "name": "python3"
  },
  "language_info": {
   "codemirror_mode": {
    "name": "ipython",
    "version": 3
   },
   "file_extension": ".py",
   "mimetype": "text/x-python",
   "name": "python",
   "nbconvert_exporter": "python",
   "pygments_lexer": "ipython3",
   "version": "3.7.2"
  }
 },
 "nbformat": 4,
 "nbformat_minor": 4
}
