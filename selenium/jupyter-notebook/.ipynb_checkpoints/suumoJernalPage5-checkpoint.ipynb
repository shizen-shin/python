{
 "cells": [
  {
   "cell_type": "markdown",
   "metadata": {},
   "source": [
    "suumoジャーナルの記事タイトルを５ページ目まで抽出する"
   ]
  },
  {
   "cell_type": "code",
   "execution_count": 1,
   "metadata": {},
   "outputs": [],
   "source": [
    "from selenium import webdriver\n",
    "browser = webdriver.Chrome('chromedriver.exe')\n",
    "\n",
    "url = 'https://suumo.jp/journal/new/'\n",
    "browser.get(url)"
   ]
  },
  {
   "cell_type": "code",
   "execution_count": 11,
   "metadata": {},
   "outputs": [],
   "source": [
    "def elements()\n",
    "\n",
    "    elem_titles = browser.find_elements_by_class_name('mediahzdtldata-title')\n",
    "    elem_descriptions = browser.find_elements_by_class_name('mediahzdtldata-desc')\n",
    "    elem_dates = browser.find_elements_by_class_name('mediahzdtldata-date')\n",
    "    \n",
    "elements()"
   ]
  },
  {
   "cell_type": "code",
   "execution_count": 17,
   "metadata": {},
   "outputs": [],
   "source": [
    "titles = []\n",
    "descriptions = []\n",
    "dates = []\n",
    "\n",
    "def extract():\n",
    "    for elem_title in elem_titles:\n",
    "        title = elem_title.text\n",
    "        titles.append(title)\n",
    "\n",
    "    #zip()でまとめて実行することもできる\n",
    "    for elem_description, elem_date in zip(elem_descriptions, elem_dates):\n",
    "        description = elem_description.text\n",
    "        descriptions.append(description)\n",
    "\n",
    "        date = elem_date.text\n",
    "        dates.append(date)\n",
    "\n",
    "extract()"
   ]
  },
  {
   "cell_type": "code",
   "execution_count": 18,
   "metadata": {},
   "outputs": [
    {
     "data": {
      "text/plain": [
       "['2020年2月4日 (火)',\n",
       " '2020年2月4日 (火)',\n",
       " '2020年2月4日 (火)',\n",
       " '2020年2月4日 (火)',\n",
       " '2020年2月4日 (火)',\n",
       " '2020年2月4日 (火)',\n",
       " '2020年2月3日 (月)',\n",
       " '2020年1月31日 (金)',\n",
       " '2020年1月31日 (金)',\n",
       " '2020年1月31日 (金)',\n",
       " '2020年1月31日 (金)',\n",
       " '2020年1月31日 (金)',\n",
       " '2020年1月31日 (金)',\n",
       " '2020年1月30日 (木)',\n",
       " '2020年1月29日 (水)',\n",
       " '2020年1月28日 (火)',\n",
       " '2020年1月28日 (火)',\n",
       " '2020年1月28日 (火)',\n",
       " '2020年1月28日 (火)',\n",
       " '2020年1月28日 (火)',\n",
       " '2020年1月28日 (火)',\n",
       " '2020年1月28日 (火)',\n",
       " '2020年1月28日 (火)',\n",
       " '2020年1月27日 (月)',\n",
       " '2020年1月24日 (金)',\n",
       " '2020年1月24日 (金)',\n",
       " '2020年1月24日 (金)']"
      ]
     },
     "execution_count": 18,
     "metadata": {},
     "output_type": "execute_result"
    }
   ],
   "source": [
    "dates"
   ]
  },
  {
   "cell_type": "code",
   "execution_count": 19,
   "metadata": {},
   "outputs": [],
   "source": [
    "for i in range(2,5):\n",
    "\n",
    "    url = 'https://suumo.jp/journal/new/page/{}'.format(i)\n",
    "    browser.get(url)\n",
    "\n",
    "    elemetns()    \n",
    "    extract()"
   ]
  },
  {
   "cell_type": "code",
   "execution_count": 68,
   "metadata": {},
   "outputs": [],
   "source": [
    "ranks =[]\n",
    "\n",
    "for rank in range(1,len(titles)+1):\n",
    "    rank = int(rank)\n",
    "    ranks.append(rank)"
   ]
  },
  {
   "cell_type": "code",
   "execution_count": 72,
   "metadata": {},
   "outputs": [],
   "source": [
    "import pandas as pd\n",
    "df = pd.DataFrame()\n",
    "\n",
    "df['rank']=ranks\n",
    "df['title']=titles\n",
    "df['description']=descriptions\n",
    "df['date']=dates"
   ]
  },
  {
   "cell_type": "code",
   "execution_count": 73,
   "metadata": {},
   "outputs": [],
   "source": [
    "df.to_csv(\"~/Downloads/suumoJernal_titles1-5pages.csv\",index = False,encoding = \"utf_8_sig\")"
   ]
  },
  {
   "cell_type": "code",
   "execution_count": null,
   "metadata": {},
   "outputs": [],
   "source": []
  },
  {
   "cell_type": "code",
   "execution_count": null,
   "metadata": {},
   "outputs": [],
   "source": []
  },
  {
   "cell_type": "code",
   "execution_count": null,
   "metadata": {},
   "outputs": [],
   "source": []
  },
  {
   "cell_type": "code",
   "execution_count": null,
   "metadata": {},
   "outputs": [],
   "source": []
  }
 ],
 "metadata": {
  "kernelspec": {
   "display_name": "Python 3",
   "language": "python",
   "name": "python3"
  },
  "language_info": {
   "codemirror_mode": {
    "name": "ipython",
    "version": 3
   },
   "file_extension": ".py",
   "mimetype": "text/x-python",
   "name": "python",
   "nbconvert_exporter": "python",
   "pygments_lexer": "ipython3",
   "version": "3.7.2"
  }
 },
 "nbformat": 4,
 "nbformat_minor": 4
}
