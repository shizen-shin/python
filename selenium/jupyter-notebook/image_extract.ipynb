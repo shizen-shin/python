{
 "cells": [
  {
   "cell_type": "code",
   "execution_count": 69,
   "metadata": {},
   "outputs": [],
   "source": [
    "from PIL import Image\n",
    "\n",
    "import io\n",
    "from urllib import request\n",
    "\n",
    "from selenium import webdriver\n",
    "browser = webdriver.Chrome('chromedriver.exe')"
   ]
  },
  {
   "cell_type": "code",
   "execution_count": 70,
   "metadata": {},
   "outputs": [],
   "source": [
    "keyword = 'AAAA'\n",
    "url = 'https://www.example.com/?k={}'.format(keyword)\n",
    "browser.get(url)"
   ]
  },
  {
   "cell_type": "code",
   "execution_count": 71,
   "metadata": {},
   "outputs": [],
   "source": [
    "pictures = browser.find_element_by_class_name('mozaique')\n",
    "pictures = pictures.find_elements_by_tag_name('img')\n",
    "\n",
    "urls =[]\n",
    "\n",
    "def PicSrcs():\n",
    "    for picture in pictures:\n",
    "        url = picture.get_attribute('src')\n",
    "        urls.append(url)\n",
    "        \n",
    "PicSrcs()"
   ]
  },
  {
   "cell_type": "code",
   "execution_count": 72,
   "metadata": {},
   "outputs": [],
   "source": [
    "for _ in range(1,3):\n",
    "    \n",
    "    try:\n",
    "        next = browser.find_element_by_class_name('pagination ')\n",
    "        next = next.find_element_by_class_name('no-page.next-page').click()\n",
    "\n",
    "        pictures = browser.find_element_by_class_name('mozaique')\n",
    "        pictures = pictures.find_elements_by_tag_name('img')\n",
    "\n",
    "        PicSrcs()\n",
    "        \n",
    "    except:\n",
    "        pass"
   ]
  },
  {
   "cell_type": "code",
   "execution_count": 73,
   "metadata": {},
   "outputs": [],
   "source": [
    "import os\n",
    "if not os.path.isdir('images/{}'.format(keyword)):\n",
    "    os.mkdir('images/{}'.format(keyword))"
   ]
  },
  {
   "cell_type": "code",
   "execution_count": 74,
   "metadata": {},
   "outputs": [],
   "source": [
    "for index,url in enumerate(urls):\n",
    "    \n",
    "    #拡張子を抽出\n",
    "    import os.path\n",
    "    root, ext = os.path.splitext(url)\n",
    "    \n",
    "    f = io.BytesIO(request.urlopen(url).read())\n",
    "    img = Image.open(f)\n",
    "    img.save('images/{h1}/image{h2}.{h3}'.format(h1=keyword,h2=index,h3=ext))"
   ]
  },
  {
   "cell_type": "code",
   "execution_count": 34,
   "metadata": {},
   "outputs": [],
   "source": []
  },
  {
   "cell_type": "code",
   "execution_count": null,
   "metadata": {},
   "outputs": [],
   "source": []
  },
  {
   "cell_type": "code",
   "execution_count": null,
   "metadata": {},
   "outputs": [],
   "source": []
  },
  {
   "cell_type": "code",
   "execution_count": null,
   "metadata": {},
   "outputs": [],
   "source": []
  }
 ],
 "metadata": {
  "kernelspec": {
   "display_name": "Python 3",
   "language": "python",
   "name": "python3"
  },
  "language_info": {
   "codemirror_mode": {
    "name": "ipython",
    "version": 3
   },
   "file_extension": ".py",
   "mimetype": "text/x-python",
   "name": "python",
   "nbconvert_exporter": "python",
   "pygments_lexer": "ipython3",
   "version": "3.7.2"
  }
 },
 "nbformat": 4,
 "nbformat_minor": 4
}
