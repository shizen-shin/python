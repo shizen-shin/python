{
 "cells": [
  {
   "cell_type": "code",
   "execution_count": 4,
   "metadata": {},
   "outputs": [],
   "source": [
    "from selenium import webdriver\n",
    "browser = webdriver.Chrome('chromedriver.exe')\n",
    "browser.get('https://www.google.com/search?q=hello&rlz=1C1SQJL_jaJP784JP784&oq=hello&aqs=chrome..69i57.2534j0j1&sourceid=chrome&ie=UTF-8')"
   ]
  },
  {
   "cell_type": "code",
   "execution_count": 5,
   "metadata": {},
   "outputs": [],
   "source": [
    "elem_search = browser.find_element_by_xpath('//*[@id=\"tsf\"]/div[2]/div[1]/div[2]/div/div[2]/input')"
   ]
  },
  {
   "cell_type": "code",
   "execution_count": 6,
   "metadata": {},
   "outputs": [],
   "source": [
    "elem_search.clear()"
   ]
  },
  {
   "cell_type": "code",
   "execution_count": 7,
   "metadata": {},
   "outputs": [],
   "source": [
    "elem_search.send_keys('SEO')"
   ]
  },
  {
   "cell_type": "code",
   "execution_count": 8,
   "metadata": {},
   "outputs": [],
   "source": [
    "elem_next = browser.find_element_by_xpath('//*[@id=\"tsf\"]/div[2]/div[1]/div[2]/button').click()"
   ]
  },
  {
   "cell_type": "code",
   "execution_count": 9,
   "metadata": {},
   "outputs": [],
   "source": [
    "titles =[]\n",
    "\n",
    "elems_title= browser.find_elements_by_class_name('LC20lb')\n",
    "for elem_title in elems_title:\n",
    "    title = elem_title.text\n",
    "    titles.append(title)"
   ]
  },
  {
   "cell_type": "code",
   "execution_count": 10,
   "metadata": {
    "scrolled": true
   },
   "outputs": [
    {
     "data": {
      "text/plain": [
       "['SEOとは？SEOの基礎知識について｜SEOラボ',\n",
       " 'SEO対策とは？SEO対策で上位表示するための方法について ...',\n",
       " '検索エンジン最適化 - Wikipedia',\n",
       " '新人に読ませておきたい「グーグルSEOでやったら本当にヤバいこと」',\n",
       " 'SEOとは？ 押さえておくべき24のSEO対策方法とポイント - Gyro-n',\n",
       " 'SEO対策とは?初心者でも簡単にできるSEOの基礎と基本を学ぼう ...',\n",
       " 'SEOとは？SEOで成果を出すための基本的な考え方 | SEO基礎 ...',\n",
       " '【2020年最新版】SEOとは？初心者向け完全ガイド - Marketing',\n",
       " 'SEOとは? 定義・目的・方法まで徹底解説!【Web担当者さま必読 ...']"
      ]
     },
     "execution_count": 10,
     "metadata": {},
     "output_type": "execute_result"
    }
   ],
   "source": [
    "titles"
   ]
  },
  {
   "cell_type": "code",
   "execution_count": 15,
   "metadata": {},
   "outputs": [
    {
     "data": {
      "text/plain": [
       "[1, 2, 3, 4, 5, 6, 7, 8, 9]"
      ]
     },
     "execution_count": 15,
     "metadata": {},
     "output_type": "execute_result"
    }
   ],
   "source": [
    "ranks = []\n",
    "\n",
    "for i in range(1,len(titles)+1):\n",
    "    rank = int(i)\n",
    "    ranks.append(rank)\n",
    "ranks"
   ]
  },
  {
   "cell_type": "markdown",
   "metadata": {},
   "source": [
    "CSVファイル作成（pandasを使用）"
   ]
  },
  {
   "cell_type": "code",
   "execution_count": 1,
   "metadata": {},
   "outputs": [],
   "source": [
    "import pandas as pd"
   ]
  },
  {
   "cell_type": "code",
   "execution_count": 18,
   "metadata": {},
   "outputs": [],
   "source": [
    "df = pd.DataFrame()"
   ]
  },
  {
   "cell_type": "code",
   "execution_count": 19,
   "metadata": {},
   "outputs": [],
   "source": [
    "df['rank']=ranks\n",
    "df['title']=titles"
   ]
  },
  {
   "cell_type": "code",
   "execution_count": 20,
   "metadata": {},
   "outputs": [
    {
     "data": {
      "text/html": [
       "<div>\n",
       "<style scoped>\n",
       "    .dataframe tbody tr th:only-of-type {\n",
       "        vertical-align: middle;\n",
       "    }\n",
       "\n",
       "    .dataframe tbody tr th {\n",
       "        vertical-align: top;\n",
       "    }\n",
       "\n",
       "    .dataframe thead th {\n",
       "        text-align: right;\n",
       "    }\n",
       "</style>\n",
       "<table border=\"1\" class=\"dataframe\">\n",
       "  <thead>\n",
       "    <tr style=\"text-align: right;\">\n",
       "      <th></th>\n",
       "      <th>rank</th>\n",
       "      <th>title</th>\n",
       "    </tr>\n",
       "  </thead>\n",
       "  <tbody>\n",
       "    <tr>\n",
       "      <th>0</th>\n",
       "      <td>1</td>\n",
       "      <td>SEOとは？SEOの基礎知識について｜SEOラボ</td>\n",
       "    </tr>\n",
       "    <tr>\n",
       "      <th>1</th>\n",
       "      <td>2</td>\n",
       "      <td>SEO対策とは？SEO対策で上位表示するための方法について ...</td>\n",
       "    </tr>\n",
       "    <tr>\n",
       "      <th>2</th>\n",
       "      <td>3</td>\n",
       "      <td>検索エンジン最適化 - Wikipedia</td>\n",
       "    </tr>\n",
       "    <tr>\n",
       "      <th>3</th>\n",
       "      <td>4</td>\n",
       "      <td>新人に読ませておきたい「グーグルSEOでやったら本当にヤバいこと」</td>\n",
       "    </tr>\n",
       "    <tr>\n",
       "      <th>4</th>\n",
       "      <td>5</td>\n",
       "      <td>SEOとは？ 押さえておくべき24のSEO対策方法とポイント - Gyro-n</td>\n",
       "    </tr>\n",
       "    <tr>\n",
       "      <th>5</th>\n",
       "      <td>6</td>\n",
       "      <td>SEO対策とは?初心者でも簡単にできるSEOの基礎と基本を学ぼう ...</td>\n",
       "    </tr>\n",
       "    <tr>\n",
       "      <th>6</th>\n",
       "      <td>7</td>\n",
       "      <td>SEOとは？SEOで成果を出すための基本的な考え方 | SEO基礎 ...</td>\n",
       "    </tr>\n",
       "    <tr>\n",
       "      <th>7</th>\n",
       "      <td>8</td>\n",
       "      <td>【2020年最新版】SEOとは？初心者向け完全ガイド - Marketing</td>\n",
       "    </tr>\n",
       "    <tr>\n",
       "      <th>8</th>\n",
       "      <td>9</td>\n",
       "      <td>SEOとは? 定義・目的・方法まで徹底解説!【Web担当者さま必読 ...</td>\n",
       "    </tr>\n",
       "  </tbody>\n",
       "</table>\n",
       "</div>"
      ],
      "text/plain": [
       "   rank                                    title\n",
       "0     1                 SEOとは？SEOの基礎知識について｜SEOラボ\n",
       "1     2        SEO対策とは？SEO対策で上位表示するための方法について ...\n",
       "2     3                    検索エンジン最適化 - Wikipedia\n",
       "3     4        新人に読ませておきたい「グーグルSEOでやったら本当にヤバいこと」\n",
       "4     5  SEOとは？ 押さえておくべき24のSEO対策方法とポイント - Gyro-n\n",
       "5     6     SEO対策とは?初心者でも簡単にできるSEOの基礎と基本を学ぼう ...\n",
       "6     7    SEOとは？SEOで成果を出すための基本的な考え方 | SEO基礎 ...\n",
       "7     8   【2020年最新版】SEOとは？初心者向け完全ガイド - Marketing\n",
       "8     9    SEOとは? 定義・目的・方法まで徹底解説!【Web担当者さま必読 ..."
      ]
     },
     "execution_count": 20,
     "metadata": {},
     "output_type": "execute_result"
    }
   ],
   "source": [
    "df"
   ]
  },
  {
   "cell_type": "code",
   "execution_count": 21,
   "metadata": {},
   "outputs": [],
   "source": [
    "df.to_csv(\"SEO_.csv\",index = False,encoding = \"utf_8_sig\")"
   ]
  },
  {
   "cell_type": "code",
   "execution_count": null,
   "metadata": {},
   "outputs": [],
   "source": []
  },
  {
   "cell_type": "code",
   "execution_count": null,
   "metadata": {},
   "outputs": [],
   "source": []
  },
  {
   "cell_type": "code",
   "execution_count": null,
   "metadata": {},
   "outputs": [],
   "source": []
  },
  {
   "cell_type": "code",
   "execution_count": null,
   "metadata": {},
   "outputs": [],
   "source": []
  },
  {
   "cell_type": "code",
   "execution_count": null,
   "metadata": {},
   "outputs": [],
   "source": []
  },
  {
   "cell_type": "code",
   "execution_count": null,
   "metadata": {},
   "outputs": [],
   "source": []
  },
  {
   "cell_type": "code",
   "execution_count": null,
   "metadata": {},
   "outputs": [],
   "source": []
  },
  {
   "cell_type": "code",
   "execution_count": null,
   "metadata": {},
   "outputs": [],
   "source": []
  }
 ],
 "metadata": {
  "kernelspec": {
   "display_name": "Python 3",
   "language": "python",
   "name": "python3"
  },
  "language_info": {
   "codemirror_mode": {
    "name": "ipython",
    "version": 3
   },
   "file_extension": ".py",
   "mimetype": "text/x-python",
   "name": "python",
   "nbconvert_exporter": "python",
   "pygments_lexer": "ipython3",
   "version": "3.7.2"
  }
 },
 "nbformat": 4,
 "nbformat_minor": 4
}
