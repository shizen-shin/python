{
 "cells": [
  {
   "cell_type": "code",
   "execution_count": 65,
   "metadata": {},
   "outputs": [],
   "source": [
    "from PIL import Image"
   ]
  },
  {
   "cell_type": "code",
   "execution_count": 92,
   "metadata": {},
   "outputs": [],
   "source": [
    "from selenium import webdriver\n",
    "browser = webdriver.Chrome('chromedriver.exe')\n",
    "\n",
    "url = 'https://www.pakutaso.com/'\n",
    "browser.get(url)"
   ]
  },
  {
   "cell_type": "code",
   "execution_count": 142,
   "metadata": {},
   "outputs": [],
   "source": [
    "elem_search = browser.find_element_by_id('headerSearch')\n",
    "elem_search.clear()\n",
    "\n",
    "#クエリを入力\n",
    "keyword = '犬'\n",
    "elem_search.send_keys(keyword)\n",
    "\n",
    "elem_button = browser.find_element_by_class_name('search__form')\n",
    "button_click = elem_button.find_element_by_class_name('search__submit').click()"
   ]
  },
  {
   "cell_type": "code",
   "execution_count": 143,
   "metadata": {},
   "outputs": [],
   "source": [
    "import io\n",
    "from urllib import request"
   ]
  },
  {
   "cell_type": "code",
   "execution_count": 144,
   "metadata": {},
   "outputs": [],
   "source": [
    "urls = []\n",
    "\n",
    "def PictureSrcs():\n",
    "\n",
    "    elem_pictures = browser.find_elements_by_class_name('photoEntries__thumb')\n",
    "\n",
    "    for index, elem_picture in enumerate(elem_pictures):\n",
    "        picture = elem_picture.find_element_by_tag_name('img')\n",
    "        url = picture.get_attribute('src')\n",
    "        urls.append(url)\n",
    "\n",
    "PictureSrcs()"
   ]
  },
  {
   "cell_type": "code",
   "execution_count": 145,
   "metadata": {},
   "outputs": [],
   "source": [
    "#何ページ目まで取得するか指定\n",
    "n = 3\n",
    "\n",
    "try:\n",
    "    for _ in range(1,n+1):\n",
    "\n",
    "        next = browser.find_element_by_id('fs-pagenation')\n",
    "        next = next.find_element_by_class_name('fs-next-link.fs-turn-page-link').click()\n",
    "\n",
    "        PictureSrcs()\n",
    "        \n",
    "except:\n",
    "    pass"
   ]
  },
  {
   "cell_type": "code",
   "execution_count": 146,
   "metadata": {},
   "outputs": [],
   "source": [
    "#保存用フォルダを作成\n",
    "\n",
    "import os\n",
    "\n",
    "if not os.path.isdir('images'):\n",
    "    os.mkdir('images')\n",
    "\n",
    "if not os.path.isdir('images/{}'.format(keyword)):\n",
    "    os.mkdir('images/{}'.format(keyword))"
   ]
  },
  {
   "cell_type": "code",
   "execution_count": 147,
   "metadata": {},
   "outputs": [],
   "source": [
    "for index, url in enumerate(urls):\n",
    "    \n",
    "    #拡張子を取得　(root:前方,ext:拡張子 + ?配下除去)\n",
    "    import os.path\n",
    "    root, ext = os.path.splitext(url)\n",
    "    ext = ext.split(\"?\")\n",
    "    ext = ext[0]\n",
    "\n",
    "    \n",
    "    f=io.BytesIO(request.urlopen(url).read())\n",
    "    img = Image.open(f)\n",
    "    img.save('images/{A}/paktaso{B}{C}'.format(A=keyword,B=index,C=ext))"
   ]
  },
  {
   "cell_type": "code",
   "execution_count": 149,
   "metadata": {},
   "outputs": [
    {
     "data": {
      "text/plain": [
       "(500, 333)"
      ]
     },
     "execution_count": 149,
     "metadata": {},
     "output_type": "execute_result"
    }
   ],
   "source": [
    "img.size"
   ]
  },
  {
   "cell_type": "code",
   "execution_count": null,
   "metadata": {},
   "outputs": [],
   "source": []
  },
  {
   "cell_type": "code",
   "execution_count": null,
   "metadata": {},
   "outputs": [],
   "source": []
  },
  {
   "cell_type": "code",
   "execution_count": null,
   "metadata": {},
   "outputs": [],
   "source": []
  }
 ],
 "metadata": {
  "kernelspec": {
   "display_name": "Python 3",
   "language": "python",
   "name": "python3"
  },
  "language_info": {
   "codemirror_mode": {
    "name": "ipython",
    "version": 3
   },
   "file_extension": ".py",
   "mimetype": "text/x-python",
   "name": "python",
   "nbconvert_exporter": "python",
   "pygments_lexer": "ipython3",
   "version": "3.7.2"
  }
 },
 "nbformat": 4,
 "nbformat_minor": 4
}
