{
 "cells": [
  {
   "cell_type": "markdown",
   "metadata": {},
   "source": [
    "suumoジャーナルの記事タイトルを５ページ目まで抽出する"
   ]
  },
  {
   "cell_type": "code",
   "execution_count": 34,
   "metadata": {},
   "outputs": [],
   "source": [
    "from selenium import webdriver\n",
    "browser = webdriver.Chrome('chromedriver.exe')\n",
    "\n",
    "url = 'https://suumo.jp/journal/new/'\n",
    "browser.get(url)"
   ]
  },
  {
   "cell_type": "code",
   "execution_count": 35,
   "metadata": {},
   "outputs": [],
   "source": [
    "elem_titles = browser.find_elements_by_class_name('mediahzdtldata-title')\n",
    "elem_descriptions = browser.find_elements_by_class_name('mediahzdtldata-desc')\n",
    "elem_dates = browser.find_elements_by_class_name('mediahzdtldata-date')"
   ]
  },
  {
   "cell_type": "code",
   "execution_count": 36,
   "metadata": {},
   "outputs": [],
   "source": [
    "titles = []\n",
    "descriptions = []\n",
    "dates = []\n",
    "\n",
    "def extract():\n",
    "    for elem_title in elem_titles:\n",
    "        title = elem_title.text\n",
    "        titles.append(title)\n",
    "\n",
    "    #zip()でまとめて実行することもできる\n",
    "    for elem_description, elem_date in zip(elem_descriptions, elem_dates):\n",
    "        description = elem_description.text\n",
    "        descriptions.append(description)\n",
    "\n",
    "        date = elem_date.text\n",
    "        dates.append(date)\n",
    "\n",
    "extract()"
   ]
  },
  {
   "cell_type": "code",
   "execution_count": 37,
   "metadata": {},
   "outputs": [
    {
     "data": {
      "text/plain": [
       "['2020年2月4日 (火)',\n",
       " '2020年2月4日 (火)',\n",
       " '2020年2月4日 (火)',\n",
       " '2020年2月4日 (火)',\n",
       " '2020年2月4日 (火)',\n",
       " '2020年2月4日 (火)',\n",
       " '2020年2月3日 (月)',\n",
       " '2020年1月31日 (金)',\n",
       " '2020年1月31日 (金)',\n",
       " '2020年1月31日 (金)',\n",
       " '2020年1月31日 (金)',\n",
       " '2020年1月31日 (金)',\n",
       " '2020年1月31日 (金)',\n",
       " '2020年1月30日 (木)',\n",
       " '2020年1月29日 (水)',\n",
       " '2020年1月28日 (火)',\n",
       " '2020年1月28日 (火)',\n",
       " '2020年1月28日 (火)',\n",
       " '2020年1月28日 (火)',\n",
       " '2020年1月28日 (火)',\n",
       " '2020年1月28日 (火)',\n",
       " '2020年1月28日 (火)',\n",
       " '2020年1月28日 (火)',\n",
       " '2020年1月27日 (月)',\n",
       " '2020年1月24日 (金)',\n",
       " '2020年1月24日 (金)',\n",
       " '2020年1月24日 (金)']"
      ]
     },
     "execution_count": 37,
     "metadata": {},
     "output_type": "execute_result"
    }
   ],
   "source": [
    "dates"
   ]
  },
  {
   "cell_type": "code",
   "execution_count": 39,
   "metadata": {},
   "outputs": [],
   "source": [
    "for i in range(2,6):\n",
    "\n",
    "    url = 'https://suumo.jp/journal/new/page/{}'.format(i)\n",
    "    browser.get(url)\n",
    "\n",
    "    elem_titles = browser.find_elements_by_class_name('mediahzdtldata-title')\n",
    "    elem_descriptions = browser.find_elements_by_class_name('mediahzdtldata-desc')\n",
    "    elem_dates = browser.find_elements_by_class_name('mediahzdtldata-date')\n",
    "    \n",
    "    extract()"
   ]
  },
  {
   "cell_type": "code",
   "execution_count": 40,
   "metadata": {},
   "outputs": [],
   "source": [
    "ranks =[]\n",
    "\n",
    "for rank in range(1,len(titles)+1):\n",
    "    rank = int(rank)\n",
    "    ranks.append(rank)"
   ]
  },
  {
   "cell_type": "code",
   "execution_count": 41,
   "metadata": {},
   "outputs": [
    {
     "data": {
      "text/html": [
       "<div>\n",
       "<style scoped>\n",
       "    .dataframe tbody tr th:only-of-type {\n",
       "        vertical-align: middle;\n",
       "    }\n",
       "\n",
       "    .dataframe tbody tr th {\n",
       "        vertical-align: top;\n",
       "    }\n",
       "\n",
       "    .dataframe thead th {\n",
       "        text-align: right;\n",
       "    }\n",
       "</style>\n",
       "<table border=\"1\" class=\"dataframe\">\n",
       "  <thead>\n",
       "    <tr style=\"text-align: right;\">\n",
       "      <th></th>\n",
       "      <th>rank</th>\n",
       "      <th>title</th>\n",
       "      <th>description</th>\n",
       "      <th>date</th>\n",
       "    </tr>\n",
       "  </thead>\n",
       "  <tbody>\n",
       "    <tr>\n",
       "      <th>0</th>\n",
       "      <td>1</td>\n",
       "      <td>20代独身女性、約6割が「生活苦しい」</td>\n",
       "      <td>（株）GV（東京都港区）はこのほど、全国の20代独身女性を対象に「生活収支に関する意識調査」...</td>\n",
       "      <td>2020年2月4日 (火)</td>\n",
       "    </tr>\n",
       "    <tr>\n",
       "      <th>1</th>\n",
       "      <td>2</td>\n",
       "      <td>四ツ谷駅前の大規模再開発、「コモレ四谷」竣工</td>\n",
       "      <td>東京・新宿区で進められてきた「四谷駅前地区第一種市街地再開発事業」、その施設建築物である「C...</td>\n",
       "      <td>2020年2月4日 (火)</td>\n",
       "    </tr>\n",
       "    <tr>\n",
       "      <th>2</th>\n",
       "      <td>3</td>\n",
       "      <td>名古屋にオフィス複合型商業施設、イオンモール</td>\n",
       "      <td>イオンモール（株）はこのたび、「（仮称）ノリタケの森プロジェクト」（愛知県名古屋市）の建築工...</td>\n",
       "      <td>2020年2月4日 (火)</td>\n",
       "    </tr>\n",
       "    <tr>\n",
       "      <th>3</th>\n",
       "      <td>4</td>\n",
       "      <td>縫製工場をリノベした自宅兼アトリエは、アートを楽しむ人たちで本日も大にぎ…</td>\n",
       "      <td>山形県西村山郡河北町。その街中に建つ１軒の建物は、外から見ると一戸建てだが、実は縫製工場をア...</td>\n",
       "      <td>2020年2月4日 (火)</td>\n",
       "    </tr>\n",
       "    <tr>\n",
       "      <th>4</th>\n",
       "      <td>5</td>\n",
       "      <td>住宅着工戸数、6か月連続減少</td>\n",
       "      <td>国土交通省は1月31日、2019年12月の住宅着工統計を発表した。それによると、12月の住宅...</td>\n",
       "      <td>2020年2月4日 (火)</td>\n",
       "    </tr>\n",
       "    <tr>\n",
       "      <th>...</th>\n",
       "      <td>...</td>\n",
       "      <td>...</td>\n",
       "      <td>...</td>\n",
       "      <td>...</td>\n",
       "    </tr>\n",
       "    <tr>\n",
       "      <th>184</th>\n",
       "      <td>185</td>\n",
       "      <td>「タイニーハウス」での暮らしとは？ 日本の最先端が集結</td>\n",
       "      <td>近年、日本でも広がりを見せつつある「タイニーハウス」。「断捨離」を経ての「ミニマム」な生活に...</td>\n",
       "      <td>2019年11月28日 (木)</td>\n",
       "    </tr>\n",
       "    <tr>\n",
       "      <th>185</th>\n",
       "      <td>186</td>\n",
       "      <td>住宅購入はじっくりと。増税前に購入したいと考えた人は昨年より大幅ダウン</td>\n",
       "      <td>リクルート住まいカンパニーの「2019年注文住宅動向・トレンド調査」によると、消費税率10％...</td>\n",
       "      <td>2019年11月27日 (水)</td>\n",
       "    </tr>\n",
       "    <tr>\n",
       "      <th>186</th>\n",
       "      <td>187</td>\n",
       "      <td>「ワーケーション」がJALを変えた。地域と出合い、自分を見直す働き方</td>\n",
       "      <td>テレワークの新しい形として広がっている「ワーケーション」。「ワーク」と「バケーション」を組み...</td>\n",
       "      <td>2019年11月27日 (水)</td>\n",
       "    </tr>\n",
       "    <tr>\n",
       "      <th>187</th>\n",
       "      <td>188</td>\n",
       "      <td>「虎ノ門ヒルズ駅」と一体の再開発事業が着工</td>\n",
       "      <td>森ビル（株）は11月25日、同社が参加組合員として参画する「虎ノ門一・二丁目地区第一種市街地...</td>\n",
       "      <td>2019年11月26日 (火)</td>\n",
       "    </tr>\n",
       "    <tr>\n",
       "      <th>188</th>\n",
       "      <td>189</td>\n",
       "      <td>日本人の不安、「老後の生活や年金」が8年連続トップ</td>\n",
       "      <td>セコム（株）はこのたび、「日本人の不安に関する意識調査」を行った。調査は2019年10月25...</td>\n",
       "      <td>2019年11月26日 (火)</td>\n",
       "    </tr>\n",
       "  </tbody>\n",
       "</table>\n",
       "<p>189 rows × 4 columns</p>\n",
       "</div>"
      ],
      "text/plain": [
       "     rank                                  title  \\\n",
       "0       1                    20代独身女性、約6割が「生活苦しい」   \n",
       "1       2                 四ツ谷駅前の大規模再開発、「コモレ四谷」竣工   \n",
       "2       3                 名古屋にオフィス複合型商業施設、イオンモール   \n",
       "3       4  縫製工場をリノベした自宅兼アトリエは、アートを楽しむ人たちで本日も大にぎ…   \n",
       "4       5                         住宅着工戸数、6か月連続減少   \n",
       "..    ...                                    ...   \n",
       "184   185            「タイニーハウス」での暮らしとは？ 日本の最先端が集結   \n",
       "185   186    住宅購入はじっくりと。増税前に購入したいと考えた人は昨年より大幅ダウン   \n",
       "186   187     「ワーケーション」がJALを変えた。地域と出合い、自分を見直す働き方   \n",
       "187   188                  「虎ノ門ヒルズ駅」と一体の再開発事業が着工   \n",
       "188   189              日本人の不安、「老後の生活や年金」が8年連続トップ   \n",
       "\n",
       "                                           description             date  \n",
       "0    （株）GV（東京都港区）はこのほど、全国の20代独身女性を対象に「生活収支に関する意識調査」...    2020年2月4日 (火)  \n",
       "1    東京・新宿区で進められてきた「四谷駅前地区第一種市街地再開発事業」、その施設建築物である「C...    2020年2月4日 (火)  \n",
       "2    イオンモール（株）はこのたび、「（仮称）ノリタケの森プロジェクト」（愛知県名古屋市）の建築工...    2020年2月4日 (火)  \n",
       "3    山形県西村山郡河北町。その街中に建つ１軒の建物は、外から見ると一戸建てだが、実は縫製工場をア...    2020年2月4日 (火)  \n",
       "4    国土交通省は1月31日、2019年12月の住宅着工統計を発表した。それによると、12月の住宅...    2020年2月4日 (火)  \n",
       "..                                                 ...              ...  \n",
       "184  近年、日本でも広がりを見せつつある「タイニーハウス」。「断捨離」を経ての「ミニマム」な生活に...  2019年11月28日 (木)  \n",
       "185  リクルート住まいカンパニーの「2019年注文住宅動向・トレンド調査」によると、消費税率10％...  2019年11月27日 (水)  \n",
       "186  テレワークの新しい形として広がっている「ワーケーション」。「ワーク」と「バケーション」を組み...  2019年11月27日 (水)  \n",
       "187  森ビル（株）は11月25日、同社が参加組合員として参画する「虎ノ門一・二丁目地区第一種市街地...  2019年11月26日 (火)  \n",
       "188  セコム（株）はこのたび、「日本人の不安に関する意識調査」を行った。調査は2019年10月25...  2019年11月26日 (火)  \n",
       "\n",
       "[189 rows x 4 columns]"
      ]
     },
     "execution_count": 41,
     "metadata": {},
     "output_type": "execute_result"
    }
   ],
   "source": [
    "import pandas as pd\n",
    "df = pd.DataFrame()\n",
    "\n",
    "df['rank']=ranks\n",
    "df['title']=titles\n",
    "df['description']=descriptions\n",
    "df['date']=dates\n",
    "\n",
    "df"
   ]
  },
  {
   "cell_type": "code",
   "execution_count": 42,
   "metadata": {},
   "outputs": [],
   "source": [
    "df.to_csv(\"~/Downloads/suumoJernal_titles1-5pages.csv\",index = False,encoding = \"utf_8_sig\")"
   ]
  },
  {
   "cell_type": "code",
   "execution_count": null,
   "metadata": {},
   "outputs": [],
   "source": []
  },
  {
   "cell_type": "code",
   "execution_count": null,
   "metadata": {},
   "outputs": [],
   "source": []
  },
  {
   "cell_type": "code",
   "execution_count": null,
   "metadata": {},
   "outputs": [],
   "source": []
  },
  {
   "cell_type": "code",
   "execution_count": null,
   "metadata": {},
   "outputs": [],
   "source": []
  }
 ],
 "metadata": {
  "kernelspec": {
   "display_name": "Python 3",
   "language": "python",
   "name": "python3"
  },
  "language_info": {
   "codemirror_mode": {
    "name": "ipython",
    "version": 3
   },
   "file_extension": ".py",
   "mimetype": "text/x-python",
   "name": "python",
   "nbconvert_exporter": "python",
   "pygments_lexer": "ipython3",
   "version": "3.7.2"
  }
 },
 "nbformat": 4,
 "nbformat_minor": 4
}
